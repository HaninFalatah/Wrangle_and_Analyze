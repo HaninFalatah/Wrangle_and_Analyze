{
 "cells": [
  {
   "cell_type": "markdown",
   "metadata": {},
   "source": [
    "# Wrangle and Analyze\n",
    "\n",
    "This project will assure you have mastered the subjects covered in the statistics lessons.  The hope is to have this project be as comprehensive of these topics as possible.  Good luck!\n",
    "\n",
    "## Table of Contents\n",
    "\n",
    "- [Introduction](#intro)\n",
    "    - [Data Gathering](#gather)\n",
    "    - [Data Assessing](#asses)\n",
    "    - [Data Cleaning](#clean)\n",
    "- [Analyzing and Visualizing](#analyz)\n",
    "\n",
    "\n",
    "<a id='intro'></a>\n",
    "\n",
    "### Introduction\n",
    "\n",
    "The dataset that I will be wrangling (and analyzing and visualizing) is the tweet archive of Twitter user <a href=\"https://twitter.com/dog_rates\">@dog_rates</a>, also known as <a href='https://en.wikipedia.org/wiki/WeRateDogs'>WeRateDogs.</a> WeRateDogs is a Twitter account that rates people's dogs with a humorous comment about the dog. These ratings almost always have a denominator of 10. The numerators, though? Almost always greater than 10. 11/10, 12/10, 13/10, etc. Why? Because <a href=\"https://knowyourmeme.com/memes/theyre-good-dogs-brent\">\"they're good dogs Brent</a>.\" WeRateDogs has over 4 million followers and has received international media coverage.\n",
    "\n",
    ">WeRateDogs downloaded their Twitter archive and sent it to Udacity via email exclusively for you to use in this project. This archive contains basic tweet data (tweet ID, timestamp, text, etc.) for all 5000+ of their tweets as they stood on August 1, 2017. More on this soon.\n",
    "\n",
    " #### Import statements for all of the packages that will be used"
   ]
  },
  {
   "cell_type": "code",
   "execution_count": 1,
   "metadata": {},
   "outputs": [],
   "source": [
    "import pandas as pd\n",
    "import numpy as np \n",
    "import matplotlib.pyplot as plt\n",
    "import seaborn as sns\n",
    "import datetime\n",
    "import json\n",
    "import os\n",
    "import re\n",
    "import tweepy\n",
    "import requests\n",
    "% matplotlib inline"
   ]
  },
  {
   "cell_type": "markdown",
   "metadata": {},
   "source": [
    "<a id='gather'></a>\n",
    "\n",
    "### Data Gathering\n",
    "\n",
    "After importing all the packages now the `twitter-archive-enhanced.csv` file should be imported is the csv file of tweet archived that was given to us from the Udacity from <a href=\"https://twitter.com/dog_rates\">@dog_rates</a>, But this CSV file need to cleaning."
   ]
  },
  {
   "cell_type": "code",
   "execution_count": 2,
   "metadata": {},
   "outputs": [],
   "source": [
    "df_archive_tweet = pd.read_csv('https://d17h27t6h515a5.cloudfront.net/topher/2017/August/59a4e958_twitter-archive-enhanced/twitter-archive-enhanced.csv');"
   ]
  },
  {
   "cell_type": "code",
   "execution_count": 3,
   "metadata": {},
   "outputs": [
    {
     "name": "stdout",
     "output_type": "stream",
     "text": [
      "<class 'pandas.core.frame.DataFrame'>\n",
      "RangeIndex: 2356 entries, 0 to 2355\n",
      "Data columns (total 17 columns):\n",
      "tweet_id                      2356 non-null int64\n",
      "in_reply_to_status_id         78 non-null float64\n",
      "in_reply_to_user_id           78 non-null float64\n",
      "timestamp                     2356 non-null object\n",
      "source                        2356 non-null object\n",
      "text                          2356 non-null object\n",
      "retweeted_status_id           181 non-null float64\n",
      "retweeted_status_user_id      181 non-null float64\n",
      "retweeted_status_timestamp    181 non-null object\n",
      "expanded_urls                 2297 non-null object\n",
      "rating_numerator              2356 non-null int64\n",
      "rating_denominator            2356 non-null int64\n",
      "name                          2356 non-null object\n",
      "doggo                         2356 non-null object\n",
      "floofer                       2356 non-null object\n",
      "pupper                        2356 non-null object\n",
      "puppo                         2356 non-null object\n",
      "dtypes: float64(4), int64(3), object(10)\n",
      "memory usage: 313.0+ KB\n"
     ]
    }
   ],
   "source": [
    "df_archive_tweet.info();"
   ]
  },
  {
   "cell_type": "markdown",
   "metadata": {},
   "source": [
    "Importing the `image-predictions.tsv` as requested to be downloaded programmatically from the URL, using the Requests library : https://d17h27t6h515a5.cloudfront.net/topher/2017/August/599fd2ad_image-predictions/image-predictions.tsv"
   ]
  },
  {
   "cell_type": "code",
   "execution_count": 4,
   "metadata": {},
   "outputs": [],
   "source": [
    "url='https://d17h27t6h515a5.cloudfront.net/topher/2017/August/599fd2ad_image-predictions/image-predictions.tsv';\n",
    "requests = requests.get(url)\n",
    "with open(os.path.join(os.getcwd(), url.split('/')[-1]), mode = 'wb') as file:\n",
    "    file.write(requests.content)"
   ]
  },
  {
   "cell_type": "code",
   "execution_count": 5,
   "metadata": {},
   "outputs": [
    {
     "name": "stdout",
     "output_type": "stream",
     "text": [
      "<class 'pandas.core.frame.DataFrame'>\n",
      "RangeIndex: 2075 entries, 0 to 2074\n",
      "Data columns (total 12 columns):\n",
      "tweet_id    2075 non-null int64\n",
      "jpg_url     2075 non-null object\n",
      "img_num     2075 non-null int64\n",
      "p1          2075 non-null object\n",
      "p1_conf     2075 non-null float64\n",
      "p1_dog      2075 non-null bool\n",
      "p2          2075 non-null object\n",
      "p2_conf     2075 non-null float64\n",
      "p2_dog      2075 non-null bool\n",
      "p3          2075 non-null object\n",
      "p3_conf     2075 non-null float64\n",
      "p3_dog      2075 non-null bool\n",
      "dtypes: bool(3), float64(3), int64(2), object(4)\n",
      "memory usage: 152.1+ KB\n"
     ]
    }
   ],
   "source": [
    "df_predict = pd.read_csv('image-predictions.tsv', sep='\\t')\n",
    "df_predict.info()"
   ]
  },
  {
   "cell_type": "markdown",
   "metadata": {},
   "source": [
    "The Twitter API the requests for the json text file is rejected i did upload to jupyter.\n",
    "\n",
    "consumer_key = 'YOUR CONSUMER KEY'\n",
    "\n",
    "consumer_secret = 'YOUR CONSUMER SECRET'\n",
    "\n",
    "access_token = 'YOUR ACCESS TOKEN'\n",
    "\n",
    "access_secret = 'YOUR ACCESS SECRET'\n",
    "\n",
    "auth = tweepy.OAuthHandler(consumer_key, consumer_secret)\n",
    "\n",
    "auth.set_access_token(access_token, access_secret)\n",
    "\n",
    "api = tweepy.API(auth)\n",
    "\n",
    " **Reading the JSON data from the txt file to extract tweet id, favorite count, and retweet count and put data to dataframe.**"
   ]
  },
  {
   "cell_type": "code",
   "execution_count": 6,
   "metadata": {},
   "outputs": [],
   "source": [
    "#json file\n",
    "tweet_id = []\n",
    "tweet_fav = []\n",
    "tweet_rt = []\n",
    "\n",
    "with open('tweet_json.txt', mode = 'r') as file:\n",
    "     for line in file.readlines():\n",
    "            tweet = json.loads(line)\n",
    "            tweet_id.append(tweet['id'])\n",
    "            tweet_fav.append(tweet['favorite_count'])\n",
    "            tweet_rt.append(tweet['retweet_count'])\n",
    "            \n",
    "df_tweet_data = pd.DataFrame({'tweet_id':tweet_id, 'favorite_count':tweet_fav, 'retweet_count':tweet_rt})"
   ]
  },
  {
   "cell_type": "code",
   "execution_count": 7,
   "metadata": {},
   "outputs": [
    {
     "name": "stdout",
     "output_type": "stream",
     "text": [
      "<class 'pandas.core.frame.DataFrame'>\n",
      "RangeIndex: 2354 entries, 0 to 2353\n",
      "Data columns (total 3 columns):\n",
      "tweet_id          2354 non-null int64\n",
      "favorite_count    2354 non-null int64\n",
      "retweet_count     2354 non-null int64\n",
      "dtypes: int64(3)\n",
      "memory usage: 55.2 KB\n"
     ]
    }
   ],
   "source": [
    "df_tweet_data.info()"
   ]
  },
  {
   "cell_type": "markdown",
   "metadata": {},
   "source": [
    "<a id='asses'></a>\n",
    "\n",
    "### Data Assessing\n",
    "\n",
    "1- `df_archive_tweet`"
   ]
  },
  {
   "cell_type": "code",
   "execution_count": 8,
   "metadata": {},
   "outputs": [
    {
     "name": "stdout",
     "output_type": "stream",
     "text": [
      "<class 'pandas.core.frame.DataFrame'>\n",
      "RangeIndex: 2356 entries, 0 to 2355\n",
      "Data columns (total 17 columns):\n",
      "tweet_id                      2356 non-null int64\n",
      "in_reply_to_status_id         78 non-null float64\n",
      "in_reply_to_user_id           78 non-null float64\n",
      "timestamp                     2356 non-null object\n",
      "source                        2356 non-null object\n",
      "text                          2356 non-null object\n",
      "retweeted_status_id           181 non-null float64\n",
      "retweeted_status_user_id      181 non-null float64\n",
      "retweeted_status_timestamp    181 non-null object\n",
      "expanded_urls                 2297 non-null object\n",
      "rating_numerator              2356 non-null int64\n",
      "rating_denominator            2356 non-null int64\n",
      "name                          2356 non-null object\n",
      "doggo                         2356 non-null object\n",
      "floofer                       2356 non-null object\n",
      "pupper                        2356 non-null object\n",
      "puppo                         2356 non-null object\n",
      "dtypes: float64(4), int64(3), object(10)\n",
      "memory usage: 313.0+ KB\n"
     ]
    }
   ],
   "source": [
    "#the info method is used see some issues:\n",
    "df_archive_tweet.info()"
   ]
  },
  {
   "cell_type": "code",
   "execution_count": 9,
   "metadata": {},
   "outputs": [
    {
     "data": {
      "text/html": [
       "<div>\n",
       "<style scoped>\n",
       "    .dataframe tbody tr th:only-of-type {\n",
       "        vertical-align: middle;\n",
       "    }\n",
       "\n",
       "    .dataframe tbody tr th {\n",
       "        vertical-align: top;\n",
       "    }\n",
       "\n",
       "    .dataframe thead th {\n",
       "        text-align: right;\n",
       "    }\n",
       "</style>\n",
       "<table border=\"1\" class=\"dataframe\">\n",
       "  <thead>\n",
       "    <tr style=\"text-align: right;\">\n",
       "      <th></th>\n",
       "      <th>tweet_id</th>\n",
       "      <th>in_reply_to_status_id</th>\n",
       "      <th>in_reply_to_user_id</th>\n",
       "      <th>retweeted_status_id</th>\n",
       "      <th>retweeted_status_user_id</th>\n",
       "      <th>rating_numerator</th>\n",
       "      <th>rating_denominator</th>\n",
       "    </tr>\n",
       "  </thead>\n",
       "  <tbody>\n",
       "    <tr>\n",
       "      <th>count</th>\n",
       "      <td>2.356000e+03</td>\n",
       "      <td>7.800000e+01</td>\n",
       "      <td>7.800000e+01</td>\n",
       "      <td>1.810000e+02</td>\n",
       "      <td>1.810000e+02</td>\n",
       "      <td>2356.000000</td>\n",
       "      <td>2356.000000</td>\n",
       "    </tr>\n",
       "    <tr>\n",
       "      <th>mean</th>\n",
       "      <td>7.427716e+17</td>\n",
       "      <td>7.455079e+17</td>\n",
       "      <td>2.014171e+16</td>\n",
       "      <td>7.720400e+17</td>\n",
       "      <td>1.241698e+16</td>\n",
       "      <td>13.126486</td>\n",
       "      <td>10.455433</td>\n",
       "    </tr>\n",
       "    <tr>\n",
       "      <th>std</th>\n",
       "      <td>6.856705e+16</td>\n",
       "      <td>7.582492e+16</td>\n",
       "      <td>1.252797e+17</td>\n",
       "      <td>6.236928e+16</td>\n",
       "      <td>9.599254e+16</td>\n",
       "      <td>45.876648</td>\n",
       "      <td>6.745237</td>\n",
       "    </tr>\n",
       "    <tr>\n",
       "      <th>min</th>\n",
       "      <td>6.660209e+17</td>\n",
       "      <td>6.658147e+17</td>\n",
       "      <td>1.185634e+07</td>\n",
       "      <td>6.661041e+17</td>\n",
       "      <td>7.832140e+05</td>\n",
       "      <td>0.000000</td>\n",
       "      <td>0.000000</td>\n",
       "    </tr>\n",
       "    <tr>\n",
       "      <th>25%</th>\n",
       "      <td>6.783989e+17</td>\n",
       "      <td>6.757419e+17</td>\n",
       "      <td>3.086374e+08</td>\n",
       "      <td>7.186315e+17</td>\n",
       "      <td>4.196984e+09</td>\n",
       "      <td>10.000000</td>\n",
       "      <td>10.000000</td>\n",
       "    </tr>\n",
       "    <tr>\n",
       "      <th>50%</th>\n",
       "      <td>7.196279e+17</td>\n",
       "      <td>7.038708e+17</td>\n",
       "      <td>4.196984e+09</td>\n",
       "      <td>7.804657e+17</td>\n",
       "      <td>4.196984e+09</td>\n",
       "      <td>11.000000</td>\n",
       "      <td>10.000000</td>\n",
       "    </tr>\n",
       "    <tr>\n",
       "      <th>75%</th>\n",
       "      <td>7.993373e+17</td>\n",
       "      <td>8.257804e+17</td>\n",
       "      <td>4.196984e+09</td>\n",
       "      <td>8.203146e+17</td>\n",
       "      <td>4.196984e+09</td>\n",
       "      <td>12.000000</td>\n",
       "      <td>10.000000</td>\n",
       "    </tr>\n",
       "    <tr>\n",
       "      <th>max</th>\n",
       "      <td>8.924206e+17</td>\n",
       "      <td>8.862664e+17</td>\n",
       "      <td>8.405479e+17</td>\n",
       "      <td>8.874740e+17</td>\n",
       "      <td>7.874618e+17</td>\n",
       "      <td>1776.000000</td>\n",
       "      <td>170.000000</td>\n",
       "    </tr>\n",
       "  </tbody>\n",
       "</table>\n",
       "</div>"
      ],
      "text/plain": [
       "           tweet_id  in_reply_to_status_id  in_reply_to_user_id  \\\n",
       "count  2.356000e+03           7.800000e+01         7.800000e+01   \n",
       "mean   7.427716e+17           7.455079e+17         2.014171e+16   \n",
       "std    6.856705e+16           7.582492e+16         1.252797e+17   \n",
       "min    6.660209e+17           6.658147e+17         1.185634e+07   \n",
       "25%    6.783989e+17           6.757419e+17         3.086374e+08   \n",
       "50%    7.196279e+17           7.038708e+17         4.196984e+09   \n",
       "75%    7.993373e+17           8.257804e+17         4.196984e+09   \n",
       "max    8.924206e+17           8.862664e+17         8.405479e+17   \n",
       "\n",
       "       retweeted_status_id  retweeted_status_user_id  rating_numerator  \\\n",
       "count         1.810000e+02              1.810000e+02       2356.000000   \n",
       "mean          7.720400e+17              1.241698e+16         13.126486   \n",
       "std           6.236928e+16              9.599254e+16         45.876648   \n",
       "min           6.661041e+17              7.832140e+05          0.000000   \n",
       "25%           7.186315e+17              4.196984e+09         10.000000   \n",
       "50%           7.804657e+17              4.196984e+09         11.000000   \n",
       "75%           8.203146e+17              4.196984e+09         12.000000   \n",
       "max           8.874740e+17              7.874618e+17       1776.000000   \n",
       "\n",
       "       rating_denominator  \n",
       "count         2356.000000  \n",
       "mean            10.455433  \n",
       "std              6.745237  \n",
       "min              0.000000  \n",
       "25%             10.000000  \n",
       "50%             10.000000  \n",
       "75%             10.000000  \n",
       "max            170.000000  "
      ]
     },
     "execution_count": 9,
     "metadata": {},
     "output_type": "execute_result"
    }
   ],
   "source": [
    "#the describe method is used see some issues:\n",
    "df_archive_tweet.describe()"
   ]
  },
  {
   "cell_type": "code",
   "execution_count": 10,
   "metadata": {},
   "outputs": [
    {
     "data": {
      "text/html": [
       "<div>\n",
       "<style scoped>\n",
       "    .dataframe tbody tr th:only-of-type {\n",
       "        vertical-align: middle;\n",
       "    }\n",
       "\n",
       "    .dataframe tbody tr th {\n",
       "        vertical-align: top;\n",
       "    }\n",
       "\n",
       "    .dataframe thead th {\n",
       "        text-align: right;\n",
       "    }\n",
       "</style>\n",
       "<table border=\"1\" class=\"dataframe\">\n",
       "  <thead>\n",
       "    <tr style=\"text-align: right;\">\n",
       "      <th></th>\n",
       "      <th>tweet_id</th>\n",
       "      <th>in_reply_to_status_id</th>\n",
       "      <th>in_reply_to_user_id</th>\n",
       "      <th>timestamp</th>\n",
       "      <th>source</th>\n",
       "      <th>text</th>\n",
       "      <th>retweeted_status_id</th>\n",
       "      <th>retweeted_status_user_id</th>\n",
       "      <th>retweeted_status_timestamp</th>\n",
       "      <th>expanded_urls</th>\n",
       "      <th>rating_numerator</th>\n",
       "      <th>rating_denominator</th>\n",
       "      <th>name</th>\n",
       "      <th>doggo</th>\n",
       "      <th>floofer</th>\n",
       "      <th>pupper</th>\n",
       "      <th>puppo</th>\n",
       "    </tr>\n",
       "  </thead>\n",
       "  <tbody>\n",
       "    <tr>\n",
       "      <th>1608</th>\n",
       "      <td>685641971164143616</td>\n",
       "      <td>NaN</td>\n",
       "      <td>NaN</td>\n",
       "      <td>2016-01-09 01:59:19 +0000</td>\n",
       "      <td>&lt;a href=\"http://twitter.com/download/iphone\" r...</td>\n",
       "      <td>This is Otis. He just passed a cop while going...</td>\n",
       "      <td>NaN</td>\n",
       "      <td>NaN</td>\n",
       "      <td>NaN</td>\n",
       "      <td>https://twitter.com/dog_rates/status/685641971...</td>\n",
       "      <td>7</td>\n",
       "      <td>10</td>\n",
       "      <td>Otis</td>\n",
       "      <td>None</td>\n",
       "      <td>None</td>\n",
       "      <td>pupper</td>\n",
       "      <td>None</td>\n",
       "    </tr>\n",
       "    <tr>\n",
       "      <th>977</th>\n",
       "      <td>750011400160841729</td>\n",
       "      <td>NaN</td>\n",
       "      <td>NaN</td>\n",
       "      <td>2016-07-04 17:00:26 +0000</td>\n",
       "      <td>&lt;a href=\"https://about.twitter.com/products/tw...</td>\n",
       "      <td>Meet Piper. She's an airport doggo. Please ret...</td>\n",
       "      <td>NaN</td>\n",
       "      <td>NaN</td>\n",
       "      <td>NaN</td>\n",
       "      <td>https://twitter.com/dog_rates/status/750011400...</td>\n",
       "      <td>11</td>\n",
       "      <td>10</td>\n",
       "      <td>Piper</td>\n",
       "      <td>doggo</td>\n",
       "      <td>None</td>\n",
       "      <td>None</td>\n",
       "      <td>None</td>\n",
       "    </tr>\n",
       "    <tr>\n",
       "      <th>220</th>\n",
       "      <td>850019790995546112</td>\n",
       "      <td>NaN</td>\n",
       "      <td>NaN</td>\n",
       "      <td>2017-04-06 16:18:05 +0000</td>\n",
       "      <td>&lt;a href=\"http://twitter.com/download/iphone\" r...</td>\n",
       "      <td>Say hello to Boomer. He's a sandy pupper. Havi...</td>\n",
       "      <td>NaN</td>\n",
       "      <td>NaN</td>\n",
       "      <td>NaN</td>\n",
       "      <td>https://twitter.com/dog_rates/status/850019790...</td>\n",
       "      <td>12</td>\n",
       "      <td>10</td>\n",
       "      <td>Boomer</td>\n",
       "      <td>None</td>\n",
       "      <td>None</td>\n",
       "      <td>pupper</td>\n",
       "      <td>None</td>\n",
       "    </tr>\n",
       "  </tbody>\n",
       "</table>\n",
       "</div>"
      ],
      "text/plain": [
       "                tweet_id  in_reply_to_status_id  in_reply_to_user_id  \\\n",
       "1608  685641971164143616                    NaN                  NaN   \n",
       "977   750011400160841729                    NaN                  NaN   \n",
       "220   850019790995546112                    NaN                  NaN   \n",
       "\n",
       "                      timestamp  \\\n",
       "1608  2016-01-09 01:59:19 +0000   \n",
       "977   2016-07-04 17:00:26 +0000   \n",
       "220   2017-04-06 16:18:05 +0000   \n",
       "\n",
       "                                                 source  \\\n",
       "1608  <a href=\"http://twitter.com/download/iphone\" r...   \n",
       "977   <a href=\"https://about.twitter.com/products/tw...   \n",
       "220   <a href=\"http://twitter.com/download/iphone\" r...   \n",
       "\n",
       "                                                   text  retweeted_status_id  \\\n",
       "1608  This is Otis. He just passed a cop while going...                  NaN   \n",
       "977   Meet Piper. She's an airport doggo. Please ret...                  NaN   \n",
       "220   Say hello to Boomer. He's a sandy pupper. Havi...                  NaN   \n",
       "\n",
       "      retweeted_status_user_id retweeted_status_timestamp  \\\n",
       "1608                       NaN                        NaN   \n",
       "977                        NaN                        NaN   \n",
       "220                        NaN                        NaN   \n",
       "\n",
       "                                          expanded_urls  rating_numerator  \\\n",
       "1608  https://twitter.com/dog_rates/status/685641971...                 7   \n",
       "977   https://twitter.com/dog_rates/status/750011400...                11   \n",
       "220   https://twitter.com/dog_rates/status/850019790...                12   \n",
       "\n",
       "      rating_denominator    name  doggo floofer  pupper puppo  \n",
       "1608                  10    Otis   None    None  pupper  None  \n",
       "977                   10   Piper  doggo    None    None  None  \n",
       "220                   10  Boomer   None    None  pupper  None  "
      ]
     },
     "execution_count": 10,
     "metadata": {},
     "output_type": "execute_result"
    }
   ],
   "source": [
    "#the sample method is used see other issues:\n",
    "df_archive_tweet.sample(3)"
   ]
  },
  {
   "cell_type": "code",
   "execution_count": 11,
   "metadata": {},
   "outputs": [
    {
     "data": {
      "text/plain": [
       "array(['Phineas', 'Tilly', 'Archie', 'Darla', 'Franklin', 'None', 'Jax',\n",
       "       'Zoey', 'Cassie', 'Koda', 'Bruno', 'Ted', 'Stuart', 'Oliver', 'Jim',\n",
       "       'Zeke', 'Ralphus', 'Canela', 'Gerald', 'Jeffrey', 'such', 'Maya',\n",
       "       'Mingus', 'Derek', 'Roscoe', 'Waffles', 'Jimbo', 'Maisey', 'Lilly',\n",
       "       'Earl', 'Lola', 'Kevin', 'Yogi', 'Noah', 'Bella', 'Grizzwald',\n",
       "       'Rusty', 'Gus', 'Stanley', 'Alfy', 'Koko', 'Rey', 'Gary', 'a',\n",
       "       'Elliot', 'Louis', 'Jesse', 'Romeo', 'Bailey', 'Duddles', 'Jack',\n",
       "       'Emmy', 'Steven', 'Beau', 'Snoopy', 'Shadow', 'Terrance', 'Aja',\n",
       "       'Penny', 'Dante', 'Nelly', 'Ginger', 'Benedict', 'Venti', 'Goose',\n",
       "       'Nugget', 'Cash', 'Coco', 'Jed', 'Sebastian', 'Walter', 'Sierra',\n",
       "       'Monkey', 'Harry', 'Kody', 'Lassie', 'Rover', 'Napolean', 'Dawn',\n",
       "       'Boomer', 'Cody', 'Rumble', 'Clifford', 'quite', 'Dewey', 'Scout',\n",
       "       'Gizmo', 'Cooper', 'Harold', 'Shikha', 'Jamesy', 'Lili', 'Sammy',\n",
       "       'Meatball', 'Paisley', 'Albus', 'Neptune', 'Quinn', 'Belle',\n",
       "       'Zooey', 'Dave', 'Jersey', 'Hobbes', 'Burt', 'Lorenzo', 'Carl',\n",
       "       'Jordy', 'Milky', 'Trooper', 'Winston', 'Sophie', 'Wyatt', 'Rosie',\n",
       "       'Thor', 'Oscar', 'Luna', 'Callie', 'Cermet', 'George', 'Marlee',\n",
       "       'Arya', 'Einstein', 'Alice', 'Rumpole', 'Benny', 'Aspen', 'Jarod',\n",
       "       'Wiggles', 'General', 'Sailor', 'Astrid', 'Iggy', 'Snoop', 'Kyle',\n",
       "       'Leo', 'Riley', 'Gidget', 'Noosh', 'Odin', 'Jerry', 'Charlie',\n",
       "       'Georgie', 'Rontu', 'Cannon', 'Furzey', 'Daisy', 'Tuck', 'Barney',\n",
       "       'Vixen', 'Jarvis', 'Mimosa', 'Pickles', 'Bungalo', 'Brady', 'Margo',\n",
       "       'Sadie', 'Hank', 'Tycho', 'Stephan', 'Indie', 'Winnie', 'Bentley',\n",
       "       'Ken', 'Max', 'Maddie', 'Pipsy', 'Monty', 'Sojourner', 'Odie',\n",
       "       'Arlo', 'Sunny', 'Vincent', 'Lucy', 'Clark', 'Mookie', 'Meera',\n",
       "       'Buddy', 'Ava', 'Rory', 'Eli', 'Ash', 'Tucker', 'Tobi', 'Chester',\n",
       "       'Wilson', 'Sunshine', 'Lipton', 'Gabby', 'Bronte', 'Poppy', 'Rhino',\n",
       "       'Willow', 'not', 'Orion', 'Eevee', 'Smiley', 'Logan', 'Moreton',\n",
       "       'Klein', 'Miguel', 'Emanuel', 'Kuyu', 'Dutch', 'Pete', 'Scooter',\n",
       "       'Reggie', 'Kyro', 'Samson', 'Loki', 'Mia', 'Malcolm', 'Dexter',\n",
       "       'Alfie', 'Fiona', 'one', 'Mutt', 'Bear', 'Doobert', 'Beebop',\n",
       "       'Alexander', 'Sailer', 'Brutus', 'Kona', 'Boots', 'Ralphie', 'Phil',\n",
       "       'Cupid', 'Pawnd', 'Pilot', 'Ike', 'Mo', 'Toby', 'Sweet', 'Pablo',\n",
       "       'Nala', 'Balto', 'Crawford', 'Gabe', 'Mattie', 'Jimison',\n",
       "       'Hercules', 'Duchess', 'Harlso', 'Sampson', 'Sundance', 'Luca',\n",
       "       'Flash', 'Finn', 'Peaches', 'Howie', 'Jazzy', 'Anna', 'Bo',\n",
       "       'Seamus', 'Wafer', 'Chelsea', 'Tom', 'Moose', 'Florence', 'Autumn',\n",
       "       'Dido', 'Eugene', 'Herschel', 'Strudel', 'Tebow', 'Chloe', 'Betty',\n",
       "       'Timber', 'Binky', 'Dudley', 'Comet', 'Larry', 'Levi', 'Akumi',\n",
       "       'Titan', 'Olivia', 'Alf', 'Oshie', 'Bruce', 'Chubbs', 'Sky',\n",
       "       'Atlas', 'Eleanor', 'Layla', 'Rocky', 'Baron', 'Tyr', 'Bauer',\n",
       "       'Swagger', 'Brandi', 'Mary', 'Moe', 'Halo', 'Augie', 'Craig', 'Sam',\n",
       "       'Hunter', 'Pavlov', 'Maximus', 'Wallace', 'Ito', 'Milo', 'Ollie',\n",
       "       'Cali', 'Lennon', 'incredibly', 'Major', 'Duke', 'Reginald',\n",
       "       'Sansa', 'Shooter', 'Django', 'Diogi', 'Sonny', 'Philbert',\n",
       "       'Marley', 'Severus', 'Ronnie', 'Anakin', 'Bones', 'Mauve', 'Chef',\n",
       "       'Doc', 'Sobe', 'Longfellow', 'Mister', 'Iroh', 'Baloo', 'Stubert',\n",
       "       'Paull', 'Timison', 'Davey', 'Pancake', 'Tyrone', 'Snicku', 'Ruby',\n",
       "       'Brody', 'Rizzy', 'Mack', 'Butter', 'Nimbus', 'Laika', 'Dobby',\n",
       "       'Juno', 'Maude', 'Lily', 'Newt', 'Benji', 'Nida', 'Robin',\n",
       "       'Monster', 'BeBe', 'Remus', 'Mabel', 'Misty', 'Happy', 'Mosby',\n",
       "       'Maggie', 'Leela', 'Ralphy', 'Brownie', 'Meyer', 'Stella', 'mad',\n",
       "       'Frank', 'Tonks', 'Lincoln', 'Oakley', 'Dale', 'Rizzo', 'Arnie',\n",
       "       'Pinot', 'Dallas', 'Hero', 'Frankie', 'Stormy', 'Mairi', 'Loomis',\n",
       "       'Godi', 'Kenny', 'Deacon', 'Timmy', 'Harper', 'Chipson', 'Combo',\n",
       "       'Dash', 'Bell', 'Hurley', 'Jay', 'Mya', 'Strider', 'an', 'Wesley',\n",
       "       'Solomon', 'Huck', 'very', 'O', 'Blue', 'Finley', 'Sprinkles',\n",
       "       'Heinrich', 'Shakespeare', 'Fizz', 'Chip', 'Grey', 'Roosevelt',\n",
       "       'Gromit', 'Willem', 'Dakota', 'Dixie', 'Al', 'Jackson', 'just',\n",
       "       'Carbon', 'DonDon', 'Kirby', 'Lou', 'Nollie', 'Chevy', 'Tito',\n",
       "       'Louie', 'Rupert', 'Rufus', 'Brudge', 'Shadoe', 'Colby', 'Angel',\n",
       "       'Brat', 'Tove', 'my', 'Aubie', 'Kota', 'Eve', 'Glenn', 'Shelby',\n",
       "       'Sephie', 'Bonaparte', 'Albert', 'Wishes', 'Rose', 'Theo', 'Rocco',\n",
       "       'Fido', 'Emma', 'Spencer', 'Lilli', 'Boston', 'Brandonald', 'Corey',\n",
       "       'Leonard', 'Chompsky', 'Beckham', 'Devón', 'Gert', 'Watson',\n",
       "       'Rubio', 'Keith', 'Dex', 'Carly', 'Ace', 'Tayzie', 'Grizzie',\n",
       "       'Fred', 'Gilbert', 'Zoe', 'Stewie', 'Calvin', 'Lilah', 'Spanky',\n",
       "       'Jameson', 'Piper', 'Atticus', 'Blu', 'Dietrich', 'Divine', 'Tripp',\n",
       "       'his', 'Cora', 'Huxley', 'Keurig', 'Bookstore', 'Linus', 'Abby',\n",
       "       'Shaggy', 'Shiloh', 'Gustav', 'Arlen', 'Percy', 'Lenox', 'Sugar',\n",
       "       'Harvey', 'Blanket', 'actually', 'Geno', 'Stark', 'Beya', 'Kilo',\n",
       "       'Kayla', 'Maxaroni', 'Doug', 'Edmund', 'Aqua', 'Theodore', 'Chase',\n",
       "       'getting', 'Rorie', 'Simba', 'Charles', 'Bayley', 'Axel',\n",
       "       'Storkson', 'Remy', 'Chadrick', 'Kellogg', 'Buckley', 'Livvie',\n",
       "       'Terry', 'Hermione', 'Ralpher', 'Aldrick', 'this', 'unacceptable',\n",
       "       'Rooney', 'Crystal', 'Ziva', 'Stefan', 'Pupcasso', 'Puff',\n",
       "       'Flurpson', 'Coleman', 'Enchilada', 'Raymond', 'all', 'Rueben',\n",
       "       'Cilantro', 'Karll', 'Sprout', 'Blitz', 'Bloop', 'Lillie',\n",
       "       'Ashleigh', 'Kreggory', 'Sarge', 'Luther', 'Ivar', 'Jangle',\n",
       "       'Schnitzel', 'Panda', 'Berkeley', 'Ralphé', 'Charleson', 'Clyde',\n",
       "       'Harnold', 'Sid', 'Pippa', 'Otis', 'Carper', 'Bowie',\n",
       "       'Alexanderson', 'Suki', 'Barclay', 'Skittle', 'Ebby', 'Flávio',\n",
       "       'Smokey', 'Link', 'Jennifur', 'Ozzy', 'Bluebert', 'Stephanus',\n",
       "       'Bubbles', 'old', 'Zeus', 'Bertson', 'Nico', 'Michelangelope',\n",
       "       'Siba', 'Calbert', 'Curtis', 'Travis', 'Thumas', 'Kanu', 'Lance',\n",
       "       'Opie', 'Kane', 'Olive', 'Chuckles', 'Staniel', 'Sora', 'Beemo',\n",
       "       'Gunner', 'infuriating', 'Lacy', 'Tater', 'Olaf', 'Cecil', 'Vince',\n",
       "       'Karma', 'Billy', 'Walker', 'Rodney', 'Klevin', 'Malikai', 'Bobble',\n",
       "       'River', 'Jebberson', 'Remington', 'Farfle', 'Jiminus', 'Clarkus',\n",
       "       'Finnegus', 'Cupcake', 'Kathmandu', 'Ellie', 'Katie', 'Kara',\n",
       "       'Adele', 'Zara', 'Ambrose', 'Jimothy', 'Bode', 'Terrenth', 'Reese',\n",
       "       'Chesterson', 'Lucia', 'Bisquick', 'Ralphson', 'Socks', 'Rambo',\n",
       "       'Rudy', 'Fiji', 'Rilo', 'Bilbo', 'Coopson', 'Yoda', 'Millie',\n",
       "       'Chet', 'Crouton', 'Daniel', 'Kaia', 'Murphy', 'Dotsy', 'Eazy',\n",
       "       'Coops', 'Fillup', 'Miley', 'Charl', 'Reagan', 'Yukon', 'CeCe',\n",
       "       'Cuddles', 'Claude', 'Jessiga', 'Carter', 'Ole', 'Pherb', 'Blipson',\n",
       "       'Reptar', 'Trevith', 'Berb', 'Bob', 'Colin', 'Brian', 'Oliviér',\n",
       "       'Grady', 'Kobe', 'Freddery', 'Bodie', 'Dunkin', 'Wally', 'Tupawc',\n",
       "       'Amber', 'Edgar', 'Teddy', 'Kingsley', 'Brockly', 'Richie', 'Molly',\n",
       "       'Vinscent', 'Cedrick', 'Hazel', 'Lolo', 'Eriq', 'Phred', 'the',\n",
       "       'Oddie', 'Maxwell', 'Geoff', 'Covach', 'Durg', 'Fynn', 'Ricky',\n",
       "       'Herald', 'Lucky', 'Ferg', 'Trip', 'Clarence', 'Hamrick', 'Brad',\n",
       "       'Pubert', 'Frönq', 'Derby', 'Lizzie', 'Ember', 'Blakely', 'Opal',\n",
       "       'Marq', 'Kramer', 'Barry', 'Gordon', 'Baxter', 'Mona', 'Horace',\n",
       "       'Crimson', 'Birf', 'Hammond', 'Lorelei', 'Marty', 'Brooks',\n",
       "       'Petrick', 'Hubertson', 'Gerbald', 'Oreo', 'Bruiser', 'Perry',\n",
       "       'Bobby', 'Jeph', 'Obi', 'Tino', 'Kulet', 'Sweets', 'Lupe', 'Tiger',\n",
       "       'Jiminy', 'Griffin', 'Banjo', 'Brandy', 'Lulu', 'Darrel', 'Taco',\n",
       "       'Joey', 'Patrick', 'Kreg', 'Todo', 'Tess', 'Ulysses', 'Toffee',\n",
       "       'Apollo', 'Asher', 'Glacier', 'Chuck', 'Champ', 'Ozzie', 'Griswold',\n",
       "       'Cheesy', 'Moofasa', 'Hector', 'Goliath', 'Kawhi', 'by', 'Emmie',\n",
       "       'Penelope', 'Willie', 'Rinna', 'Mike', 'William', 'Dwight', 'Evy',\n",
       "       'officially', 'Rascal', 'Linda', 'Tug', 'Tango', 'Grizz', 'Jerome',\n",
       "       'Crumpet', 'Jessifer', 'Izzy', 'Ralph', 'Sandy', 'Humphrey',\n",
       "       'Tassy', 'Juckson', 'Chuq', 'Tyrus', 'Karl', 'Godzilla', 'Vinnie',\n",
       "       'Kenneth', 'Herm', 'Bert', 'Striker', 'Donny', 'Pepper', 'Bernie',\n",
       "       'Buddah', 'Lenny', 'Arnold', 'Zuzu', 'Mollie', 'Laela', 'Tedders',\n",
       "       'Superpup', 'Rufio', 'Jeb', 'Rodman', 'Jonah', 'Chesney', 'life',\n",
       "       'Henry', 'Bobbay', 'Mitch', 'Kaiya', 'Acro', 'Aiden', 'Obie', 'Dot',\n",
       "       'Shnuggles', 'Kendall', 'Jeffri', 'Steve', 'Mac', 'Fletcher',\n",
       "       'Kenzie', 'Pumpkin', 'Schnozz', 'Gustaf', 'Cheryl', 'Ed',\n",
       "       'Leonidas', 'Norman', 'Caryl', 'Scott', 'Taz', 'Darby', 'Jackie',\n",
       "       'light', 'Jazz', 'Franq', 'Pippin', 'Rolf', 'Snickers', 'Ridley',\n",
       "       'Cal', 'Bradley', 'Bubba', 'Tuco', 'Patch', 'Mojo', 'Batdog',\n",
       "       'Dylan', 'space', 'Mark', 'JD', 'Alejandro', 'Scruffers', 'Pip',\n",
       "       'Julius', 'Tanner', 'Sparky', 'Anthony', 'Holly', 'Jett', 'Amy',\n",
       "       'Sage', 'Andy', 'Mason', 'Trigger', 'Antony', 'Creg', 'Traviss',\n",
       "       'Gin', 'Jeffrie', 'Danny', 'Ester', 'Pluto', 'Bloo', 'Edd', 'Willy',\n",
       "       'Herb', 'Damon', 'Peanut', 'Nigel', 'Butters', 'Sandra', 'Fabio',\n",
       "       'Randall', 'Liam', 'Tommy', 'Ben', 'Raphael', 'Julio', 'Andru',\n",
       "       'Kloey', 'Shawwn', 'Skye', 'Kollin', 'Ronduh', 'Billl', 'Saydee',\n",
       "       'Dug', 'Tessa', 'Sully', 'Kirk', 'Ralf', 'Clarq', 'Jaspers',\n",
       "       'Samsom', 'Harrison', 'Chaz', 'Jeremy', 'Jaycob', 'Lambeau',\n",
       "       'Ruffles', 'Amélie', 'Bobb', 'Banditt', 'Kevon', 'Winifred', 'Hanz',\n",
       "       'Churlie', 'Zeek', 'Timofy', 'Maks', 'Jomathan', 'Kallie', 'Marvin',\n",
       "       'Spark', 'Gòrdón', 'Jo', 'DayZ', 'Jareld', 'Torque', 'Ron',\n",
       "       'Skittles', 'Cleopatricia', 'Erik', 'Stu', 'Tedrick', 'Filup',\n",
       "       'Kial', 'Naphaniel', 'Dook', 'Hall', 'Philippe', 'Biden', 'Fwed',\n",
       "       'Genevieve', 'Joshwa', 'Bradlay', 'Clybe', 'Keet', 'Carll',\n",
       "       'Jockson', 'Josep', 'Lugan', 'Christoper'], dtype=object)"
      ]
     },
     "execution_count": 11,
     "metadata": {},
     "output_type": "execute_result"
    }
   ],
   "source": [
    "#the unique method is used all unique names:\n",
    "df_archive_tweet.name.unique()"
   ]
  },
  {
   "cell_type": "code",
   "execution_count": 12,
   "metadata": {},
   "outputs": [
    {
     "data": {
      "text/plain": [
       "None        745\n",
       "a            55\n",
       "Charlie      12\n",
       "Lucy         11\n",
       "Cooper       11\n",
       "Oliver       11\n",
       "Penny        10\n",
       "Tucker       10\n",
       "Lola         10\n",
       "Bo            9\n",
       "Winston       9\n",
       "the           8\n",
       "Sadie         8\n",
       "Buddy         7\n",
       "Toby          7\n",
       "Daisy         7\n",
       "Bailey        7\n",
       "an            7\n",
       "Stanley       6\n",
       "Dave          6\n",
       "Milo          6\n",
       "Koda          6\n",
       "Bella         6\n",
       "Rusty         6\n",
       "Scout         6\n",
       "Jack          6\n",
       "Oscar         6\n",
       "Jax           6\n",
       "Leo           6\n",
       "Sammy         5\n",
       "           ... \n",
       "Lulu          1\n",
       "Vixen         1\n",
       "Marvin        1\n",
       "Pavlov        1\n",
       "Grizz         1\n",
       "Darby         1\n",
       "Clarq         1\n",
       "Terrenth      1\n",
       "Linus         1\n",
       "Brandy        1\n",
       "Hero          1\n",
       "Bruno         1\n",
       "Marlee        1\n",
       "Meera         1\n",
       "Kaia          1\n",
       "Bobb          1\n",
       "Samsom        1\n",
       "Leonidas      1\n",
       "Rose          1\n",
       "Jarod         1\n",
       "Cecil         1\n",
       "Ronduh        1\n",
       "Staniel       1\n",
       "Banjo         1\n",
       "Bradlay       1\n",
       "Nugget        1\n",
       "Newt          1\n",
       "Remus         1\n",
       "Kramer        1\n",
       "Mona          1\n",
       "Name: name, Length: 957, dtype: int64"
      ]
     },
     "execution_count": 12,
     "metadata": {},
     "output_type": "execute_result"
    }
   ],
   "source": [
    "# value_counts method is to see the most names and there counts:\n",
    "df_archive_tweet.name.value_counts()"
   ]
  },
  {
   "cell_type": "code",
   "execution_count": 13,
   "metadata": {},
   "outputs": [
    {
     "data": {
      "text/plain": [
       "<a href=\"http://twitter.com/download/iphone\" rel=\"nofollow\">Twitter for iPhone</a>     2221\n",
       "<a href=\"http://vine.co\" rel=\"nofollow\">Vine - Make a Scene</a>                          91\n",
       "<a href=\"http://twitter.com\" rel=\"nofollow\">Twitter Web Client</a>                       33\n",
       "<a href=\"https://about.twitter.com/products/tweetdeck\" rel=\"nofollow\">TweetDeck</a>      11\n",
       "Name: source, dtype: int64"
      ]
     },
     "execution_count": 13,
     "metadata": {},
     "output_type": "execute_result"
    }
   ],
   "source": [
    "# value_counts method is used to see the sources and the counts:\n",
    "df_archive_tweet.source.value_counts()"
   ]
  },
  {
   "cell_type": "markdown",
   "metadata": {},
   "source": [
    "make sure there is no duplicated tweets or null tweets"
   ]
  },
  {
   "cell_type": "code",
   "execution_count": 14,
   "metadata": {},
   "outputs": [
    {
     "data": {
      "text/html": [
       "<div>\n",
       "<style scoped>\n",
       "    .dataframe tbody tr th:only-of-type {\n",
       "        vertical-align: middle;\n",
       "    }\n",
       "\n",
       "    .dataframe tbody tr th {\n",
       "        vertical-align: top;\n",
       "    }\n",
       "\n",
       "    .dataframe thead th {\n",
       "        text-align: right;\n",
       "    }\n",
       "</style>\n",
       "<table border=\"1\" class=\"dataframe\">\n",
       "  <thead>\n",
       "    <tr style=\"text-align: right;\">\n",
       "      <th></th>\n",
       "      <th>tweet_id</th>\n",
       "      <th>in_reply_to_status_id</th>\n",
       "      <th>in_reply_to_user_id</th>\n",
       "      <th>timestamp</th>\n",
       "      <th>source</th>\n",
       "      <th>text</th>\n",
       "      <th>retweeted_status_id</th>\n",
       "      <th>retweeted_status_user_id</th>\n",
       "      <th>retweeted_status_timestamp</th>\n",
       "      <th>expanded_urls</th>\n",
       "      <th>rating_numerator</th>\n",
       "      <th>rating_denominator</th>\n",
       "      <th>name</th>\n",
       "      <th>doggo</th>\n",
       "      <th>floofer</th>\n",
       "      <th>pupper</th>\n",
       "      <th>puppo</th>\n",
       "    </tr>\n",
       "  </thead>\n",
       "  <tbody>\n",
       "  </tbody>\n",
       "</table>\n",
       "</div>"
      ],
      "text/plain": [
       "Empty DataFrame\n",
       "Columns: [tweet_id, in_reply_to_status_id, in_reply_to_user_id, timestamp, source, text, retweeted_status_id, retweeted_status_user_id, retweeted_status_timestamp, expanded_urls, rating_numerator, rating_denominator, name, doggo, floofer, pupper, puppo]\n",
       "Index: []"
      ]
     },
     "execution_count": 14,
     "metadata": {},
     "output_type": "execute_result"
    }
   ],
   "source": [
    "# duplicated method is used to see duplicated rows of the DataFrame:\n",
    "df_archive_tweet[df_archive_tweet.tweet_id.duplicated()]"
   ]
  },
  {
   "cell_type": "code",
   "execution_count": 15,
   "metadata": {},
   "outputs": [
    {
     "data": {
      "text/html": [
       "<div>\n",
       "<style scoped>\n",
       "    .dataframe tbody tr th:only-of-type {\n",
       "        vertical-align: middle;\n",
       "    }\n",
       "\n",
       "    .dataframe tbody tr th {\n",
       "        vertical-align: top;\n",
       "    }\n",
       "\n",
       "    .dataframe thead th {\n",
       "        text-align: right;\n",
       "    }\n",
       "</style>\n",
       "<table border=\"1\" class=\"dataframe\">\n",
       "  <thead>\n",
       "    <tr style=\"text-align: right;\">\n",
       "      <th></th>\n",
       "      <th>tweet_id</th>\n",
       "      <th>in_reply_to_status_id</th>\n",
       "      <th>in_reply_to_user_id</th>\n",
       "      <th>timestamp</th>\n",
       "      <th>source</th>\n",
       "      <th>text</th>\n",
       "      <th>retweeted_status_id</th>\n",
       "      <th>retweeted_status_user_id</th>\n",
       "      <th>retweeted_status_timestamp</th>\n",
       "      <th>expanded_urls</th>\n",
       "      <th>rating_numerator</th>\n",
       "      <th>rating_denominator</th>\n",
       "      <th>name</th>\n",
       "      <th>doggo</th>\n",
       "      <th>floofer</th>\n",
       "      <th>pupper</th>\n",
       "      <th>puppo</th>\n",
       "    </tr>\n",
       "  </thead>\n",
       "  <tbody>\n",
       "  </tbody>\n",
       "</table>\n",
       "</div>"
      ],
      "text/plain": [
       "Empty DataFrame\n",
       "Columns: [tweet_id, in_reply_to_status_id, in_reply_to_user_id, timestamp, source, text, retweeted_status_id, retweeted_status_user_id, retweeted_status_timestamp, expanded_urls, rating_numerator, rating_denominator, name, doggo, floofer, pupper, puppo]\n",
       "Index: []"
      ]
     },
     "execution_count": 15,
     "metadata": {},
     "output_type": "execute_result"
    }
   ],
   "source": [
    "# isnull method is used to see null rows of the DataFrame:\n",
    "df_archive_tweet[df_archive_tweet.tweet_id.isnull()]"
   ]
  },
  {
   "cell_type": "markdown",
   "metadata": {},
   "source": [
    "there is no null or duplicateed tweets"
   ]
  },
  {
   "cell_type": "markdown",
   "metadata": {},
   "source": [
    "2-`df_predict`"
   ]
  },
  {
   "cell_type": "code",
   "execution_count": 16,
   "metadata": {},
   "outputs": [
    {
     "name": "stdout",
     "output_type": "stream",
     "text": [
      "<class 'pandas.core.frame.DataFrame'>\n",
      "RangeIndex: 2075 entries, 0 to 2074\n",
      "Data columns (total 12 columns):\n",
      "tweet_id    2075 non-null int64\n",
      "jpg_url     2075 non-null object\n",
      "img_num     2075 non-null int64\n",
      "p1          2075 non-null object\n",
      "p1_conf     2075 non-null float64\n",
      "p1_dog      2075 non-null bool\n",
      "p2          2075 non-null object\n",
      "p2_conf     2075 non-null float64\n",
      "p2_dog      2075 non-null bool\n",
      "p3          2075 non-null object\n",
      "p3_conf     2075 non-null float64\n",
      "p3_dog      2075 non-null bool\n",
      "dtypes: bool(3), float64(3), int64(2), object(4)\n",
      "memory usage: 152.1+ KB\n"
     ]
    }
   ],
   "source": [
    "df_predict.info()"
   ]
  },
  {
   "cell_type": "code",
   "execution_count": 17,
   "metadata": {},
   "outputs": [
    {
     "data": {
      "text/html": [
       "<div>\n",
       "<style scoped>\n",
       "    .dataframe tbody tr th:only-of-type {\n",
       "        vertical-align: middle;\n",
       "    }\n",
       "\n",
       "    .dataframe tbody tr th {\n",
       "        vertical-align: top;\n",
       "    }\n",
       "\n",
       "    .dataframe thead th {\n",
       "        text-align: right;\n",
       "    }\n",
       "</style>\n",
       "<table border=\"1\" class=\"dataframe\">\n",
       "  <thead>\n",
       "    <tr style=\"text-align: right;\">\n",
       "      <th></th>\n",
       "      <th>tweet_id</th>\n",
       "      <th>img_num</th>\n",
       "      <th>p1_conf</th>\n",
       "      <th>p2_conf</th>\n",
       "      <th>p3_conf</th>\n",
       "    </tr>\n",
       "  </thead>\n",
       "  <tbody>\n",
       "    <tr>\n",
       "      <th>count</th>\n",
       "      <td>2.075000e+03</td>\n",
       "      <td>2075.000000</td>\n",
       "      <td>2075.000000</td>\n",
       "      <td>2.075000e+03</td>\n",
       "      <td>2.075000e+03</td>\n",
       "    </tr>\n",
       "    <tr>\n",
       "      <th>mean</th>\n",
       "      <td>7.384514e+17</td>\n",
       "      <td>1.203855</td>\n",
       "      <td>0.594548</td>\n",
       "      <td>1.345886e-01</td>\n",
       "      <td>6.032417e-02</td>\n",
       "    </tr>\n",
       "    <tr>\n",
       "      <th>std</th>\n",
       "      <td>6.785203e+16</td>\n",
       "      <td>0.561875</td>\n",
       "      <td>0.271174</td>\n",
       "      <td>1.006657e-01</td>\n",
       "      <td>5.090593e-02</td>\n",
       "    </tr>\n",
       "    <tr>\n",
       "      <th>min</th>\n",
       "      <td>6.660209e+17</td>\n",
       "      <td>1.000000</td>\n",
       "      <td>0.044333</td>\n",
       "      <td>1.011300e-08</td>\n",
       "      <td>1.740170e-10</td>\n",
       "    </tr>\n",
       "    <tr>\n",
       "      <th>25%</th>\n",
       "      <td>6.764835e+17</td>\n",
       "      <td>1.000000</td>\n",
       "      <td>0.364412</td>\n",
       "      <td>5.388625e-02</td>\n",
       "      <td>1.622240e-02</td>\n",
       "    </tr>\n",
       "    <tr>\n",
       "      <th>50%</th>\n",
       "      <td>7.119988e+17</td>\n",
       "      <td>1.000000</td>\n",
       "      <td>0.588230</td>\n",
       "      <td>1.181810e-01</td>\n",
       "      <td>4.944380e-02</td>\n",
       "    </tr>\n",
       "    <tr>\n",
       "      <th>75%</th>\n",
       "      <td>7.932034e+17</td>\n",
       "      <td>1.000000</td>\n",
       "      <td>0.843855</td>\n",
       "      <td>1.955655e-01</td>\n",
       "      <td>9.180755e-02</td>\n",
       "    </tr>\n",
       "    <tr>\n",
       "      <th>max</th>\n",
       "      <td>8.924206e+17</td>\n",
       "      <td>4.000000</td>\n",
       "      <td>1.000000</td>\n",
       "      <td>4.880140e-01</td>\n",
       "      <td>2.734190e-01</td>\n",
       "    </tr>\n",
       "  </tbody>\n",
       "</table>\n",
       "</div>"
      ],
      "text/plain": [
       "           tweet_id      img_num      p1_conf       p2_conf       p3_conf\n",
       "count  2.075000e+03  2075.000000  2075.000000  2.075000e+03  2.075000e+03\n",
       "mean   7.384514e+17     1.203855     0.594548  1.345886e-01  6.032417e-02\n",
       "std    6.785203e+16     0.561875     0.271174  1.006657e-01  5.090593e-02\n",
       "min    6.660209e+17     1.000000     0.044333  1.011300e-08  1.740170e-10\n",
       "25%    6.764835e+17     1.000000     0.364412  5.388625e-02  1.622240e-02\n",
       "50%    7.119988e+17     1.000000     0.588230  1.181810e-01  4.944380e-02\n",
       "75%    7.932034e+17     1.000000     0.843855  1.955655e-01  9.180755e-02\n",
       "max    8.924206e+17     4.000000     1.000000  4.880140e-01  2.734190e-01"
      ]
     },
     "execution_count": 17,
     "metadata": {},
     "output_type": "execute_result"
    }
   ],
   "source": [
    "df_predict.describe()"
   ]
  },
  {
   "cell_type": "code",
   "execution_count": 18,
   "metadata": {},
   "outputs": [
    {
     "data": {
      "text/html": [
       "<div>\n",
       "<style scoped>\n",
       "    .dataframe tbody tr th:only-of-type {\n",
       "        vertical-align: middle;\n",
       "    }\n",
       "\n",
       "    .dataframe tbody tr th {\n",
       "        vertical-align: top;\n",
       "    }\n",
       "\n",
       "    .dataframe thead th {\n",
       "        text-align: right;\n",
       "    }\n",
       "</style>\n",
       "<table border=\"1\" class=\"dataframe\">\n",
       "  <thead>\n",
       "    <tr style=\"text-align: right;\">\n",
       "      <th></th>\n",
       "      <th>tweet_id</th>\n",
       "      <th>jpg_url</th>\n",
       "      <th>img_num</th>\n",
       "      <th>p1</th>\n",
       "      <th>p1_conf</th>\n",
       "      <th>p1_dog</th>\n",
       "      <th>p2</th>\n",
       "      <th>p2_conf</th>\n",
       "      <th>p2_dog</th>\n",
       "      <th>p3</th>\n",
       "      <th>p3_conf</th>\n",
       "      <th>p3_dog</th>\n",
       "    </tr>\n",
       "  </thead>\n",
       "  <tbody>\n",
       "    <tr>\n",
       "      <th>1573</th>\n",
       "      <td>795400264262053889</td>\n",
       "      <td>https://pbs.twimg.com/media/CwnUUGTWIAE8sFR.jpg</td>\n",
       "      <td>2</td>\n",
       "      <td>golden_retriever</td>\n",
       "      <td>0.925494</td>\n",
       "      <td>True</td>\n",
       "      <td>Labrador_retriever</td>\n",
       "      <td>0.059241</td>\n",
       "      <td>True</td>\n",
       "      <td>tennis_ball</td>\n",
       "      <td>0.004495</td>\n",
       "      <td>False</td>\n",
       "    </tr>\n",
       "    <tr>\n",
       "      <th>750</th>\n",
       "      <td>687826841265172480</td>\n",
       "      <td>https://pbs.twimg.com/media/CYum3KbWEAArFrI.jpg</td>\n",
       "      <td>1</td>\n",
       "      <td>Pomeranian</td>\n",
       "      <td>0.997210</td>\n",
       "      <td>True</td>\n",
       "      <td>Pekinese</td>\n",
       "      <td>0.000803</td>\n",
       "      <td>True</td>\n",
       "      <td>keeshond</td>\n",
       "      <td>0.000373</td>\n",
       "      <td>True</td>\n",
       "    </tr>\n",
       "    <tr>\n",
       "      <th>2003</th>\n",
       "      <td>877201837425926144</td>\n",
       "      <td>https://pbs.twimg.com/media/DCxyahJWsAAddSC.jpg</td>\n",
       "      <td>1</td>\n",
       "      <td>Pembroke</td>\n",
       "      <td>0.931120</td>\n",
       "      <td>True</td>\n",
       "      <td>Cardigan</td>\n",
       "      <td>0.068698</td>\n",
       "      <td>True</td>\n",
       "      <td>basenji</td>\n",
       "      <td>0.000082</td>\n",
       "      <td>True</td>\n",
       "    </tr>\n",
       "    <tr>\n",
       "      <th>1604</th>\n",
       "      <td>800388270626521089</td>\n",
       "      <td>https://pbs.twimg.com/media/CxuM3oZW8AEhO5z.jpg</td>\n",
       "      <td>2</td>\n",
       "      <td>golden_retriever</td>\n",
       "      <td>0.359860</td>\n",
       "      <td>True</td>\n",
       "      <td>Pembroke</td>\n",
       "      <td>0.194207</td>\n",
       "      <td>True</td>\n",
       "      <td>collie</td>\n",
       "      <td>0.154603</td>\n",
       "      <td>True</td>\n",
       "    </tr>\n",
       "    <tr>\n",
       "      <th>1052</th>\n",
       "      <td>714141408463036416</td>\n",
       "      <td>https://pbs.twimg.com/media/Cekj0qwXEAAHcS6.jpg</td>\n",
       "      <td>1</td>\n",
       "      <td>Labrador_retriever</td>\n",
       "      <td>0.586951</td>\n",
       "      <td>True</td>\n",
       "      <td>golden_retriever</td>\n",
       "      <td>0.378812</td>\n",
       "      <td>True</td>\n",
       "      <td>redbone</td>\n",
       "      <td>0.003605</td>\n",
       "      <td>True</td>\n",
       "    </tr>\n",
       "  </tbody>\n",
       "</table>\n",
       "</div>"
      ],
      "text/plain": [
       "                tweet_id                                          jpg_url  \\\n",
       "1573  795400264262053889  https://pbs.twimg.com/media/CwnUUGTWIAE8sFR.jpg   \n",
       "750   687826841265172480  https://pbs.twimg.com/media/CYum3KbWEAArFrI.jpg   \n",
       "2003  877201837425926144  https://pbs.twimg.com/media/DCxyahJWsAAddSC.jpg   \n",
       "1604  800388270626521089  https://pbs.twimg.com/media/CxuM3oZW8AEhO5z.jpg   \n",
       "1052  714141408463036416  https://pbs.twimg.com/media/Cekj0qwXEAAHcS6.jpg   \n",
       "\n",
       "      img_num                  p1   p1_conf  p1_dog                  p2  \\\n",
       "1573        2    golden_retriever  0.925494    True  Labrador_retriever   \n",
       "750         1          Pomeranian  0.997210    True            Pekinese   \n",
       "2003        1            Pembroke  0.931120    True            Cardigan   \n",
       "1604        2    golden_retriever  0.359860    True            Pembroke   \n",
       "1052        1  Labrador_retriever  0.586951    True    golden_retriever   \n",
       "\n",
       "       p2_conf  p2_dog           p3   p3_conf  p3_dog  \n",
       "1573  0.059241    True  tennis_ball  0.004495   False  \n",
       "750   0.000803    True     keeshond  0.000373    True  \n",
       "2003  0.068698    True      basenji  0.000082    True  \n",
       "1604  0.194207    True       collie  0.154603    True  \n",
       "1052  0.378812    True      redbone  0.003605    True  "
      ]
     },
     "execution_count": 18,
     "metadata": {},
     "output_type": "execute_result"
    }
   ],
   "source": [
    "#the sample method is used see other issues:\n",
    "df_predict.sample(5)"
   ]
  },
  {
   "cell_type": "markdown",
   "metadata": {},
   "source": [
    "3- `df_tweet_data`"
   ]
  },
  {
   "cell_type": "code",
   "execution_count": 19,
   "metadata": {},
   "outputs": [
    {
     "name": "stdout",
     "output_type": "stream",
     "text": [
      "<class 'pandas.core.frame.DataFrame'>\n",
      "RangeIndex: 2354 entries, 0 to 2353\n",
      "Data columns (total 3 columns):\n",
      "tweet_id          2354 non-null int64\n",
      "favorite_count    2354 non-null int64\n",
      "retweet_count     2354 non-null int64\n",
      "dtypes: int64(3)\n",
      "memory usage: 55.2 KB\n"
     ]
    }
   ],
   "source": [
    "df_tweet_data.info()"
   ]
  },
  {
   "cell_type": "code",
   "execution_count": 20,
   "metadata": {},
   "outputs": [
    {
     "data": {
      "text/html": [
       "<div>\n",
       "<style scoped>\n",
       "    .dataframe tbody tr th:only-of-type {\n",
       "        vertical-align: middle;\n",
       "    }\n",
       "\n",
       "    .dataframe tbody tr th {\n",
       "        vertical-align: top;\n",
       "    }\n",
       "\n",
       "    .dataframe thead th {\n",
       "        text-align: right;\n",
       "    }\n",
       "</style>\n",
       "<table border=\"1\" class=\"dataframe\">\n",
       "  <thead>\n",
       "    <tr style=\"text-align: right;\">\n",
       "      <th></th>\n",
       "      <th>tweet_id</th>\n",
       "      <th>favorite_count</th>\n",
       "      <th>retweet_count</th>\n",
       "    </tr>\n",
       "  </thead>\n",
       "  <tbody>\n",
       "    <tr>\n",
       "      <th>count</th>\n",
       "      <td>2.354000e+03</td>\n",
       "      <td>2354.000000</td>\n",
       "      <td>2354.000000</td>\n",
       "    </tr>\n",
       "    <tr>\n",
       "      <th>mean</th>\n",
       "      <td>7.426978e+17</td>\n",
       "      <td>8080.968564</td>\n",
       "      <td>3164.797366</td>\n",
       "    </tr>\n",
       "    <tr>\n",
       "      <th>std</th>\n",
       "      <td>6.852812e+16</td>\n",
       "      <td>11814.771334</td>\n",
       "      <td>5284.770364</td>\n",
       "    </tr>\n",
       "    <tr>\n",
       "      <th>min</th>\n",
       "      <td>6.660209e+17</td>\n",
       "      <td>0.000000</td>\n",
       "      <td>0.000000</td>\n",
       "    </tr>\n",
       "    <tr>\n",
       "      <th>25%</th>\n",
       "      <td>6.783975e+17</td>\n",
       "      <td>1415.000000</td>\n",
       "      <td>624.500000</td>\n",
       "    </tr>\n",
       "    <tr>\n",
       "      <th>50%</th>\n",
       "      <td>7.194596e+17</td>\n",
       "      <td>3603.500000</td>\n",
       "      <td>1473.500000</td>\n",
       "    </tr>\n",
       "    <tr>\n",
       "      <th>75%</th>\n",
       "      <td>7.993058e+17</td>\n",
       "      <td>10122.250000</td>\n",
       "      <td>3652.000000</td>\n",
       "    </tr>\n",
       "    <tr>\n",
       "      <th>max</th>\n",
       "      <td>8.924206e+17</td>\n",
       "      <td>132810.000000</td>\n",
       "      <td>79515.000000</td>\n",
       "    </tr>\n",
       "  </tbody>\n",
       "</table>\n",
       "</div>"
      ],
      "text/plain": [
       "           tweet_id  favorite_count  retweet_count\n",
       "count  2.354000e+03     2354.000000    2354.000000\n",
       "mean   7.426978e+17     8080.968564    3164.797366\n",
       "std    6.852812e+16    11814.771334    5284.770364\n",
       "min    6.660209e+17        0.000000       0.000000\n",
       "25%    6.783975e+17     1415.000000     624.500000\n",
       "50%    7.194596e+17     3603.500000    1473.500000\n",
       "75%    7.993058e+17    10122.250000    3652.000000\n",
       "max    8.924206e+17   132810.000000   79515.000000"
      ]
     },
     "execution_count": 20,
     "metadata": {},
     "output_type": "execute_result"
    }
   ],
   "source": [
    "df_tweet_data.describe()"
   ]
  },
  {
   "cell_type": "code",
   "execution_count": 21,
   "metadata": {},
   "outputs": [
    {
     "data": {
      "text/html": [
       "<div>\n",
       "<style scoped>\n",
       "    .dataframe tbody tr th:only-of-type {\n",
       "        vertical-align: middle;\n",
       "    }\n",
       "\n",
       "    .dataframe tbody tr th {\n",
       "        vertical-align: top;\n",
       "    }\n",
       "\n",
       "    .dataframe thead th {\n",
       "        text-align: right;\n",
       "    }\n",
       "</style>\n",
       "<table border=\"1\" class=\"dataframe\">\n",
       "  <thead>\n",
       "    <tr style=\"text-align: right;\">\n",
       "      <th></th>\n",
       "      <th>tweet_id</th>\n",
       "      <th>favorite_count</th>\n",
       "      <th>retweet_count</th>\n",
       "    </tr>\n",
       "  </thead>\n",
       "  <tbody>\n",
       "    <tr>\n",
       "      <th>2171</th>\n",
       "      <td>669324657376567296</td>\n",
       "      <td>525</td>\n",
       "      <td>223</td>\n",
       "    </tr>\n",
       "    <tr>\n",
       "      <th>2180</th>\n",
       "      <td>668992363537309700</td>\n",
       "      <td>802</td>\n",
       "      <td>381</td>\n",
       "    </tr>\n",
       "    <tr>\n",
       "      <th>2186</th>\n",
       "      <td>668975677807423489</td>\n",
       "      <td>1386</td>\n",
       "      <td>641</td>\n",
       "    </tr>\n",
       "    <tr>\n",
       "      <th>782</th>\n",
       "      <td>775350846108426240</td>\n",
       "      <td>11309</td>\n",
       "      <td>4532</td>\n",
       "    </tr>\n",
       "    <tr>\n",
       "      <th>2295</th>\n",
       "      <td>667073648344346624</td>\n",
       "      <td>425</td>\n",
       "      <td>134</td>\n",
       "    </tr>\n",
       "  </tbody>\n",
       "</table>\n",
       "</div>"
      ],
      "text/plain": [
       "                tweet_id  favorite_count  retweet_count\n",
       "2171  669324657376567296             525            223\n",
       "2180  668992363537309700             802            381\n",
       "2186  668975677807423489            1386            641\n",
       "782   775350846108426240           11309           4532\n",
       "2295  667073648344346624             425            134"
      ]
     },
     "execution_count": 21,
     "metadata": {},
     "output_type": "execute_result"
    }
   ],
   "source": [
    "#the sample method is used see other issues:\n",
    "df_tweet_data.sample(5)"
   ]
  },
  {
   "cell_type": "markdown",
   "metadata": {},
   "source": [
    "#### Tidiness Issues\n",
    "- The `df_archive_tweet` dataframe the columns `doggo`, `floofer`, `pupper`, and `puppo` should all be one column.\n",
    "\n",
    "\n",
    "- All the dataframe should be in one dataframe, the `df_tweet_data`, `df_predict`, and `df_archive_tweet` should be one datafram.\n",
    "\n",
    "\n",
    "#### Quality Issues\n",
    "\n",
    "\n",
    "- The `source` contexts should be easy to read.\n",
    "\n",
    "\n",
    "- The `df_archive_tweet` dataframe contain of the wrong data, for the following columns: `tweet_id`, `in_reply_to_status_id`, `in_reply_to_user_id`, `retweeted_status_id`, `retweeted_status_user_id`, and `timestamp`.\n",
    "\n",
    "\n",
    "- In the `df_predict` and `df_tweet_data` dataframe the `tweet_id` wrong data type.\n",
    "\n",
    "\n",
    "- The retweeted tweets and the replying on other tweet are not needed the needed are only The Original Ratings tweets. \n",
    "\n",
    "\n",
    "- The `names` for the dogs couldn't be. (a, the, an, ...) as in the table.\n",
    "\n",
    "\n",
    "- In the `df_archive_tweet` some of tweets with rating less than 10 dose not have images.\n",
    "\n",
    "<a id='clean'></a>\n",
    "\n",
    "### Data Cleaning"
   ]
  },
  {
   "cell_type": "code",
   "execution_count": 22,
   "metadata": {},
   "outputs": [],
   "source": [
    "#Createing dataframes copies to clean \n",
    "\n",
    "df_archive_tweet_clean = df_archive_tweet.copy()\n",
    "df_predict_clean = df_predict.copy()\n",
    "df_tweet_data_clean = df_tweet_data.copy()"
   ]
  },
  {
   "cell_type": "markdown",
   "metadata": {},
   "source": [
    "### 1- Tidiness \n",
    "\n",
    "##### Define\n",
    "1- Melt the columns `doggo`, `pupper`, `puppo`, and `floofer` into one colum. called `stage`\n",
    "\n",
    "##### Code\n"
   ]
  },
  {
   "cell_type": "code",
   "execution_count": 23,
   "metadata": {
    "scrolled": true
   },
   "outputs": [
    {
     "data": {
      "text/html": [
       "<div>\n",
       "<style scoped>\n",
       "    .dataframe tbody tr th:only-of-type {\n",
       "        vertical-align: middle;\n",
       "    }\n",
       "\n",
       "    .dataframe tbody tr th {\n",
       "        vertical-align: top;\n",
       "    }\n",
       "\n",
       "    .dataframe thead th {\n",
       "        text-align: right;\n",
       "    }\n",
       "</style>\n",
       "<table border=\"1\" class=\"dataframe\">\n",
       "  <thead>\n",
       "    <tr style=\"text-align: right;\">\n",
       "      <th></th>\n",
       "      <th>tweet_id</th>\n",
       "      <th>in_reply_to_status_id</th>\n",
       "      <th>in_reply_to_user_id</th>\n",
       "      <th>timestamp</th>\n",
       "      <th>source</th>\n",
       "      <th>text</th>\n",
       "      <th>retweeted_status_id</th>\n",
       "      <th>retweeted_status_user_id</th>\n",
       "      <th>retweeted_status_timestamp</th>\n",
       "      <th>expanded_urls</th>\n",
       "      <th>rating_numerator</th>\n",
       "      <th>rating_denominator</th>\n",
       "      <th>name</th>\n",
       "      <th>doggo</th>\n",
       "      <th>floofer</th>\n",
       "      <th>pupper</th>\n",
       "      <th>puppo</th>\n",
       "    </tr>\n",
       "  </thead>\n",
       "  <tbody>\n",
       "    <tr>\n",
       "      <th>0</th>\n",
       "      <td>892420643555336193</td>\n",
       "      <td>NaN</td>\n",
       "      <td>NaN</td>\n",
       "      <td>2017-08-01 16:23:56 +0000</td>\n",
       "      <td>&lt;a href=\"http://twitter.com/download/iphone\" r...</td>\n",
       "      <td>This is Phineas. He's a mystical boy. Only eve...</td>\n",
       "      <td>NaN</td>\n",
       "      <td>NaN</td>\n",
       "      <td>NaN</td>\n",
       "      <td>https://twitter.com/dog_rates/status/892420643...</td>\n",
       "      <td>13</td>\n",
       "      <td>10</td>\n",
       "      <td>Phineas</td>\n",
       "      <td>None</td>\n",
       "      <td>None</td>\n",
       "      <td>None</td>\n",
       "      <td>None</td>\n",
       "    </tr>\n",
       "    <tr>\n",
       "      <th>1</th>\n",
       "      <td>892177421306343426</td>\n",
       "      <td>NaN</td>\n",
       "      <td>NaN</td>\n",
       "      <td>2017-08-01 00:17:27 +0000</td>\n",
       "      <td>&lt;a href=\"http://twitter.com/download/iphone\" r...</td>\n",
       "      <td>This is Tilly. She's just checking pup on you....</td>\n",
       "      <td>NaN</td>\n",
       "      <td>NaN</td>\n",
       "      <td>NaN</td>\n",
       "      <td>https://twitter.com/dog_rates/status/892177421...</td>\n",
       "      <td>13</td>\n",
       "      <td>10</td>\n",
       "      <td>Tilly</td>\n",
       "      <td>None</td>\n",
       "      <td>None</td>\n",
       "      <td>None</td>\n",
       "      <td>None</td>\n",
       "    </tr>\n",
       "    <tr>\n",
       "      <th>2</th>\n",
       "      <td>891815181378084864</td>\n",
       "      <td>NaN</td>\n",
       "      <td>NaN</td>\n",
       "      <td>2017-07-31 00:18:03 +0000</td>\n",
       "      <td>&lt;a href=\"http://twitter.com/download/iphone\" r...</td>\n",
       "      <td>This is Archie. He is a rare Norwegian Pouncin...</td>\n",
       "      <td>NaN</td>\n",
       "      <td>NaN</td>\n",
       "      <td>NaN</td>\n",
       "      <td>https://twitter.com/dog_rates/status/891815181...</td>\n",
       "      <td>12</td>\n",
       "      <td>10</td>\n",
       "      <td>Archie</td>\n",
       "      <td>None</td>\n",
       "      <td>None</td>\n",
       "      <td>None</td>\n",
       "      <td>None</td>\n",
       "    </tr>\n",
       "    <tr>\n",
       "      <th>3</th>\n",
       "      <td>891689557279858688</td>\n",
       "      <td>NaN</td>\n",
       "      <td>NaN</td>\n",
       "      <td>2017-07-30 15:58:51 +0000</td>\n",
       "      <td>&lt;a href=\"http://twitter.com/download/iphone\" r...</td>\n",
       "      <td>This is Darla. She commenced a snooze mid meal...</td>\n",
       "      <td>NaN</td>\n",
       "      <td>NaN</td>\n",
       "      <td>NaN</td>\n",
       "      <td>https://twitter.com/dog_rates/status/891689557...</td>\n",
       "      <td>13</td>\n",
       "      <td>10</td>\n",
       "      <td>Darla</td>\n",
       "      <td>None</td>\n",
       "      <td>None</td>\n",
       "      <td>None</td>\n",
       "      <td>None</td>\n",
       "    </tr>\n",
       "    <tr>\n",
       "      <th>4</th>\n",
       "      <td>891327558926688256</td>\n",
       "      <td>NaN</td>\n",
       "      <td>NaN</td>\n",
       "      <td>2017-07-29 16:00:24 +0000</td>\n",
       "      <td>&lt;a href=\"http://twitter.com/download/iphone\" r...</td>\n",
       "      <td>This is Franklin. He would like you to stop ca...</td>\n",
       "      <td>NaN</td>\n",
       "      <td>NaN</td>\n",
       "      <td>NaN</td>\n",
       "      <td>https://twitter.com/dog_rates/status/891327558...</td>\n",
       "      <td>12</td>\n",
       "      <td>10</td>\n",
       "      <td>Franklin</td>\n",
       "      <td>None</td>\n",
       "      <td>None</td>\n",
       "      <td>None</td>\n",
       "      <td>None</td>\n",
       "    </tr>\n",
       "  </tbody>\n",
       "</table>\n",
       "</div>"
      ],
      "text/plain": [
       "             tweet_id  in_reply_to_status_id  in_reply_to_user_id  \\\n",
       "0  892420643555336193                    NaN                  NaN   \n",
       "1  892177421306343426                    NaN                  NaN   \n",
       "2  891815181378084864                    NaN                  NaN   \n",
       "3  891689557279858688                    NaN                  NaN   \n",
       "4  891327558926688256                    NaN                  NaN   \n",
       "\n",
       "                   timestamp  \\\n",
       "0  2017-08-01 16:23:56 +0000   \n",
       "1  2017-08-01 00:17:27 +0000   \n",
       "2  2017-07-31 00:18:03 +0000   \n",
       "3  2017-07-30 15:58:51 +0000   \n",
       "4  2017-07-29 16:00:24 +0000   \n",
       "\n",
       "                                              source  \\\n",
       "0  <a href=\"http://twitter.com/download/iphone\" r...   \n",
       "1  <a href=\"http://twitter.com/download/iphone\" r...   \n",
       "2  <a href=\"http://twitter.com/download/iphone\" r...   \n",
       "3  <a href=\"http://twitter.com/download/iphone\" r...   \n",
       "4  <a href=\"http://twitter.com/download/iphone\" r...   \n",
       "\n",
       "                                                text  retweeted_status_id  \\\n",
       "0  This is Phineas. He's a mystical boy. Only eve...                  NaN   \n",
       "1  This is Tilly. She's just checking pup on you....                  NaN   \n",
       "2  This is Archie. He is a rare Norwegian Pouncin...                  NaN   \n",
       "3  This is Darla. She commenced a snooze mid meal...                  NaN   \n",
       "4  This is Franklin. He would like you to stop ca...                  NaN   \n",
       "\n",
       "   retweeted_status_user_id retweeted_status_timestamp  \\\n",
       "0                       NaN                        NaN   \n",
       "1                       NaN                        NaN   \n",
       "2                       NaN                        NaN   \n",
       "3                       NaN                        NaN   \n",
       "4                       NaN                        NaN   \n",
       "\n",
       "                                       expanded_urls  rating_numerator  \\\n",
       "0  https://twitter.com/dog_rates/status/892420643...                13   \n",
       "1  https://twitter.com/dog_rates/status/892177421...                13   \n",
       "2  https://twitter.com/dog_rates/status/891815181...                12   \n",
       "3  https://twitter.com/dog_rates/status/891689557...                13   \n",
       "4  https://twitter.com/dog_rates/status/891327558...                12   \n",
       "\n",
       "   rating_denominator      name doggo floofer pupper puppo  \n",
       "0                  10   Phineas  None    None   None  None  \n",
       "1                  10     Tilly  None    None   None  None  \n",
       "2                  10    Archie  None    None   None  None  \n",
       "3                  10     Darla  None    None   None  None  \n",
       "4                  10  Franklin  None    None   None  None  "
      ]
     },
     "execution_count": 23,
     "metadata": {},
     "output_type": "execute_result"
    }
   ],
   "source": [
    "df_archive_tweet_clean.head()"
   ]
  },
  {
   "cell_type": "code",
   "execution_count": 24,
   "metadata": {},
   "outputs": [],
   "source": [
    "# Created a list of the original tweet ids to makes analyzing data much easier.\n",
    "tweet_ids = df_archive_tweet_clean.tweet_id.tolist()\n",
    "\n",
    "# Melt the columns doggo, pupper, puppo, and floofer to one column\n",
    "df_archive_tweet_clean = pd.melt(df_archive_tweet_clean, id_vars = ['tweet_id', 'in_reply_to_status_id', 'in_reply_to_user_id', 'retweeted_status_id',\n",
    "                                       'retweeted_status_user_id', 'timestamp', 'source', 'text', 'retweeted_status_timestamp',\n",
    "                                       'expanded_urls', 'rating_numerator', 'rating_denominator', 'name'],\n",
    "                                        var_name = 'removed', value_name = 'stage')\n",
    "df_archive_tweet_clean = df_archive_tweet_clean.drop('removed', axis = 1)"
   ]
  },
  {
   "cell_type": "code",
   "execution_count": 25,
   "metadata": {},
   "outputs": [
    {
     "data": {
      "text/html": [
       "<div>\n",
       "<style scoped>\n",
       "    .dataframe tbody tr th:only-of-type {\n",
       "        vertical-align: middle;\n",
       "    }\n",
       "\n",
       "    .dataframe tbody tr th {\n",
       "        vertical-align: top;\n",
       "    }\n",
       "\n",
       "    .dataframe thead th {\n",
       "        text-align: right;\n",
       "    }\n",
       "</style>\n",
       "<table border=\"1\" class=\"dataframe\">\n",
       "  <thead>\n",
       "    <tr style=\"text-align: right;\">\n",
       "      <th></th>\n",
       "      <th>tweet_id</th>\n",
       "      <th>in_reply_to_status_id</th>\n",
       "      <th>in_reply_to_user_id</th>\n",
       "      <th>retweeted_status_id</th>\n",
       "      <th>retweeted_status_user_id</th>\n",
       "      <th>timestamp</th>\n",
       "      <th>source</th>\n",
       "      <th>text</th>\n",
       "      <th>retweeted_status_timestamp</th>\n",
       "      <th>expanded_urls</th>\n",
       "      <th>rating_numerator</th>\n",
       "      <th>rating_denominator</th>\n",
       "      <th>name</th>\n",
       "      <th>stage</th>\n",
       "    </tr>\n",
       "  </thead>\n",
       "  <tbody>\n",
       "    <tr>\n",
       "      <th>0</th>\n",
       "      <td>892420643555336193</td>\n",
       "      <td>NaN</td>\n",
       "      <td>NaN</td>\n",
       "      <td>NaN</td>\n",
       "      <td>NaN</td>\n",
       "      <td>2017-08-01 16:23:56 +0000</td>\n",
       "      <td>&lt;a href=\"http://twitter.com/download/iphone\" r...</td>\n",
       "      <td>This is Phineas. He's a mystical boy. Only eve...</td>\n",
       "      <td>NaN</td>\n",
       "      <td>https://twitter.com/dog_rates/status/892420643...</td>\n",
       "      <td>13</td>\n",
       "      <td>10</td>\n",
       "      <td>Phineas</td>\n",
       "      <td>None</td>\n",
       "    </tr>\n",
       "  </tbody>\n",
       "</table>\n",
       "</div>"
      ],
      "text/plain": [
       "             tweet_id  in_reply_to_status_id  in_reply_to_user_id  \\\n",
       "0  892420643555336193                    NaN                  NaN   \n",
       "\n",
       "   retweeted_status_id  retweeted_status_user_id                  timestamp  \\\n",
       "0                  NaN                       NaN  2017-08-01 16:23:56 +0000   \n",
       "\n",
       "                                              source  \\\n",
       "0  <a href=\"http://twitter.com/download/iphone\" r...   \n",
       "\n",
       "                                                text  \\\n",
       "0  This is Phineas. He's a mystical boy. Only eve...   \n",
       "\n",
       "  retweeted_status_timestamp  \\\n",
       "0                        NaN   \n",
       "\n",
       "                                       expanded_urls  rating_numerator  \\\n",
       "0  https://twitter.com/dog_rates/status/892420643...                13   \n",
       "\n",
       "   rating_denominator     name stage  \n",
       "0                  10  Phineas  None  "
      ]
     },
     "execution_count": 25,
     "metadata": {},
     "output_type": "execute_result"
    }
   ],
   "source": [
    "df_archive_tweet_clean.head(1)"
   ]
  },
  {
   "cell_type": "code",
   "execution_count": 26,
   "metadata": {},
   "outputs": [],
   "source": [
    "dog_stage = []\n",
    "for id_1, tweetid in enumerate(tweet_ids):\n",
    "    tweets = df_archive_tweet_clean[df_archive_tweet_clean.tweet_id == tweetid]\n",
    "    \n",
    "    \n",
    "# if the stage is null and the tweet has a value or values the stages wil be set to the value.\n",
    "\n",
    "    if tweets.stage.values.tolist()[0] != 'None':\n",
    "        dog_stage = tweets[tweets.stage != 'None'].stage.values.tolist()\n",
    "        df_archive_tweet_clean.loc[id_1, 'stage'] = ', '.join(dog_stage)\n",
    "        df_archive_tweet_clean = df_archive_tweet_clean.drop(labels = tweets.index.values.tolist()[1:1], axis = 0)\n",
    "        continue\n",
    "        \n",
    "    if tweets.stage.values.tolist()[1] != 'None':\n",
    "        dog_stage = tweets[tweets.stage != 'None'].stage.values.tolist()\n",
    "        df_archive_tweet_clean.loc[id_1, 'stage'] = ', '.join(dog_stage)\n",
    "        df_archive_tweet_clean = df_archive_tweet_clean.drop(labels = tweets.index.values.tolist()[1:], axis = 0)\n",
    "        continue\n",
    "        \n",
    "    if tweets.stage.values.tolist()[2] != 'None':\n",
    "        dog_stage = tweets[tweets.stage != 'None'].stage.values.tolist()\n",
    "        df_archive_tweet_clean.loc[id_1, 'stage'] = ', '.join(dog_stage)\n",
    "        df_archive_tweet_clean = df_archive_tweet_clean.drop(labels = tweets.index.values.tolist()[1:], axis = 0)\n",
    "        continue\n",
    "        \n",
    "    if tweets.stage.values.tolist()[3] != 'None':\n",
    "        dog_stage = tweets[tweets.stage != 'None'].stage.values.tolist()\n",
    "        df_archive_tweet_clean.loc[id_1, 'stage'] = ', '.join(dog_stage)\n",
    "        df_archive_tweet_clean = df_archive_tweet_clean.drop(labels = tweets.index.values.tolist()[1:], axis = 0)\n",
    "        continue\n",
    "        \n",
    "    # if a tweet has no stage value of the four stages\n",
    "    else: \n",
    "        df_archive_tweet_clean = df_archive_tweet_clean.drop(labels = tweets.index.values.tolist()[1:], axis = 0)"
   ]
  },
  {
   "cell_type": "markdown",
   "metadata": {},
   "source": [
    "##### Test"
   ]
  },
  {
   "cell_type": "code",
   "execution_count": 27,
   "metadata": {},
   "outputs": [
    {
     "data": {
      "text/plain": [
       "None              2253\n",
       "pupper             257\n",
       "doggo               83\n",
       "puppo               30\n",
       "doggo, pupper       12\n",
       "floofer             10\n",
       "doggo, floofer       1\n",
       "doggo, puppo         1\n",
       "Name: stage, dtype: int64"
      ]
     },
     "execution_count": 27,
     "metadata": {},
     "output_type": "execute_result"
    }
   ],
   "source": [
    "df_archive_tweet_clean.stage.value_counts()"
   ]
  },
  {
   "cell_type": "markdown",
   "metadata": {},
   "source": [
    "##### Define\n",
    "\n",
    "2- Merge the dataframes the `df_archive_tweet`, the `df_predict`, the `df_tweet_data` into one dataframe. with df_archive_tweet_clean \n",
    "\n",
    "##### Code\n"
   ]
  },
  {
   "cell_type": "code",
   "execution_count": 28,
   "metadata": {},
   "outputs": [],
   "source": [
    "df_archive_tweet_clean = pd.merge(df_archive_tweet_clean , df_predict_clean, on = ['tweet_id'], how = 'inner')"
   ]
  },
  {
   "cell_type": "code",
   "execution_count": 29,
   "metadata": {},
   "outputs": [],
   "source": [
    "df_archive_tweet_clean = pd.merge(df_archive_tweet_clean , df_tweet_data_clean, on = ['tweet_id'], how = 'inner')"
   ]
  },
  {
   "cell_type": "markdown",
   "metadata": {},
   "source": [
    "##### Test"
   ]
  },
  {
   "cell_type": "code",
   "execution_count": 30,
   "metadata": {},
   "outputs": [
    {
     "name": "stdout",
     "output_type": "stream",
     "text": [
      "<class 'pandas.core.frame.DataFrame'>\n",
      "Int64Index: 2313 entries, 0 to 2312\n",
      "Data columns (total 27 columns):\n",
      "tweet_id                      2313 non-null int64\n",
      "in_reply_to_status_id         26 non-null float64\n",
      "in_reply_to_user_id           26 non-null float64\n",
      "retweeted_status_id           97 non-null float64\n",
      "retweeted_status_user_id      97 non-null float64\n",
      "timestamp                     2313 non-null object\n",
      "source                        2313 non-null object\n",
      "text                          2313 non-null object\n",
      "retweeted_status_timestamp    97 non-null object\n",
      "expanded_urls                 2313 non-null object\n",
      "rating_numerator              2313 non-null int64\n",
      "rating_denominator            2313 non-null int64\n",
      "name                          2313 non-null object\n",
      "stage                         2313 non-null object\n",
      "jpg_url                       2313 non-null object\n",
      "img_num                       2313 non-null int64\n",
      "p1                            2313 non-null object\n",
      "p1_conf                       2313 non-null float64\n",
      "p1_dog                        2313 non-null bool\n",
      "p2                            2313 non-null object\n",
      "p2_conf                       2313 non-null float64\n",
      "p2_dog                        2313 non-null bool\n",
      "p3                            2313 non-null object\n",
      "p3_conf                       2313 non-null float64\n",
      "p3_dog                        2313 non-null bool\n",
      "favorite_count                2313 non-null int64\n",
      "retweet_count                 2313 non-null int64\n",
      "dtypes: bool(3), float64(7), int64(6), object(11)\n",
      "memory usage: 458.5+ KB\n"
     ]
    }
   ],
   "source": [
    "df_archive_tweet_clean.info()"
   ]
  },
  {
   "cell_type": "markdown",
   "metadata": {},
   "source": [
    "### 2- Quality "
   ]
  },
  {
   "cell_type": "markdown",
   "metadata": {},
   "source": [
    "- The `source` contexts should be easy to read.\n",
    "\n",
    "\n",
    "- The `df_archive_tweet` dataframe contain of the wrong data, for the following columns: `tweet_id`, `in_reply_to_status_id`, `in_reply_to_user_id`, `retweeted_status_id`, `retweeted_status_user_id`, and `timestamp`.\n",
    "\n",
    "\n",
    "- The retweeted tweets and the replying on other tweet are not needed the needed are only The Original Ratings tweets. \n",
    "\n",
    "\n",
    "- The `names` for the dogs couldn't be. (a, the, an, ...) as in the table.\n",
    "\n",
    "\n",
    "- In the `df_archive_tweet` some of tweets with rating less than 10 dose not have images.\n",
    "\n",
    "\n",
    "\n",
    "#####  Define\n",
    "The source contexts should be easy to read.\n",
    "\n",
    "##### Code"
   ]
  },
  {
   "cell_type": "code",
   "execution_count": 31,
   "metadata": {},
   "outputs": [
    {
     "data": {
      "text/plain": [
       "<a href=\"http://twitter.com/download/iphone\" rel=\"nofollow\">Twitter for iPhone</a>     2269\n",
       "<a href=\"http://twitter.com\" rel=\"nofollow\">Twitter Web Client</a>                       30\n",
       "<a href=\"https://about.twitter.com/products/tweetdeck\" rel=\"nofollow\">TweetDeck</a>      14\n",
       "Name: source, dtype: int64"
      ]
     },
     "execution_count": 31,
     "metadata": {},
     "output_type": "execute_result"
    }
   ],
   "source": [
    "df_archive_tweet_clean.source.value_counts()"
   ]
  },
  {
   "cell_type": "code",
   "execution_count": 32,
   "metadata": {},
   "outputs": [],
   "source": [
    "df_archive_tweet_clean.source.replace('<a href=\"http://twitter.com/download/iphone\" rel=\"nofollow\">Twitter for iPhone</a>','IPhone Twitter', inplace = True)\n",
    "df_archive_tweet_clean.source.replace('<a href=\"http://twitter.com\" rel=\"nofollow\">Twitter Web Client</a>','Web Twitter', inplace = True)\n",
    "df_archive_tweet_clean.source.replace('<a href=\"https://about.twitter.com/products/tweetdeck\" rel=\"nofollow\">TweetDeck</a>','Tweet Deck', inplace = True)"
   ]
  },
  {
   "cell_type": "markdown",
   "metadata": {},
   "source": [
    "#### Test"
   ]
  },
  {
   "cell_type": "code",
   "execution_count": 33,
   "metadata": {},
   "outputs": [
    {
     "data": {
      "text/plain": [
       "IPhone Twitter    2269\n",
       "Web Twitter         30\n",
       "Tweet Deck          14\n",
       "Name: source, dtype: int64"
      ]
     },
     "execution_count": 33,
     "metadata": {},
     "output_type": "execute_result"
    }
   ],
   "source": [
    "df_archive_tweet_clean.source.value_counts()"
   ]
  },
  {
   "cell_type": "markdown",
   "metadata": {},
   "source": [
    "#####  Define\n",
    "\n",
    "The `df_archive_tweet_clean` dataframe contain of the wrong data, for the following columns: `tweet_id`, `timestamp`.\n",
    "\n",
    "The column will be removed so no need to convert them `in_reply_to_status_id`, `in_reply_to_user_id`, `retweeted_status_id`, `retweeted_status_user_id`.\n",
    "\n",
    "##### Code"
   ]
  },
  {
   "cell_type": "code",
   "execution_count": 34,
   "metadata": {},
   "outputs": [],
   "source": [
    "#converting date type of timestamp to datetime\n",
    "df_archive_tweet_clean.timestamp = pd.to_datetime(df_archive_tweet_clean.timestamp)\n",
    "\n",
    "#converting date type oftweet_id to string\n",
    "df_archive_tweet_clean.tweet_id = df_archive_tweet_clean.tweet_id.astype('str')"
   ]
  },
  {
   "cell_type": "markdown",
   "metadata": {},
   "source": [
    "##### Test"
   ]
  },
  {
   "cell_type": "code",
   "execution_count": 35,
   "metadata": {},
   "outputs": [
    {
     "name": "stdout",
     "output_type": "stream",
     "text": [
      "<class 'pandas.core.frame.DataFrame'>\n",
      "Int64Index: 2313 entries, 0 to 2312\n",
      "Data columns (total 27 columns):\n",
      "tweet_id                      2313 non-null object\n",
      "in_reply_to_status_id         26 non-null float64\n",
      "in_reply_to_user_id           26 non-null float64\n",
      "retweeted_status_id           97 non-null float64\n",
      "retweeted_status_user_id      97 non-null float64\n",
      "timestamp                     2313 non-null datetime64[ns]\n",
      "source                        2313 non-null object\n",
      "text                          2313 non-null object\n",
      "retweeted_status_timestamp    97 non-null object\n",
      "expanded_urls                 2313 non-null object\n",
      "rating_numerator              2313 non-null int64\n",
      "rating_denominator            2313 non-null int64\n",
      "name                          2313 non-null object\n",
      "stage                         2313 non-null object\n",
      "jpg_url                       2313 non-null object\n",
      "img_num                       2313 non-null int64\n",
      "p1                            2313 non-null object\n",
      "p1_conf                       2313 non-null float64\n",
      "p1_dog                        2313 non-null bool\n",
      "p2                            2313 non-null object\n",
      "p2_conf                       2313 non-null float64\n",
      "p2_dog                        2313 non-null bool\n",
      "p3                            2313 non-null object\n",
      "p3_conf                       2313 non-null float64\n",
      "p3_dog                        2313 non-null bool\n",
      "favorite_count                2313 non-null int64\n",
      "retweet_count                 2313 non-null int64\n",
      "dtypes: bool(3), datetime64[ns](1), float64(7), int64(5), object(11)\n",
      "memory usage: 458.5+ KB\n"
     ]
    }
   ],
   "source": [
    "df_archive_tweet_clean.info()"
   ]
  },
  {
   "cell_type": "code",
   "execution_count": 36,
   "metadata": {},
   "outputs": [
    {
     "data": {
      "text/html": [
       "<div>\n",
       "<style scoped>\n",
       "    .dataframe tbody tr th:only-of-type {\n",
       "        vertical-align: middle;\n",
       "    }\n",
       "\n",
       "    .dataframe tbody tr th {\n",
       "        vertical-align: top;\n",
       "    }\n",
       "\n",
       "    .dataframe thead th {\n",
       "        text-align: right;\n",
       "    }\n",
       "</style>\n",
       "<table border=\"1\" class=\"dataframe\">\n",
       "  <thead>\n",
       "    <tr style=\"text-align: right;\">\n",
       "      <th></th>\n",
       "      <th>tweet_id</th>\n",
       "      <th>in_reply_to_status_id</th>\n",
       "      <th>in_reply_to_user_id</th>\n",
       "      <th>retweeted_status_id</th>\n",
       "      <th>retweeted_status_user_id</th>\n",
       "      <th>timestamp</th>\n",
       "      <th>source</th>\n",
       "      <th>text</th>\n",
       "      <th>retweeted_status_timestamp</th>\n",
       "      <th>expanded_urls</th>\n",
       "      <th>...</th>\n",
       "      <th>p1_conf</th>\n",
       "      <th>p1_dog</th>\n",
       "      <th>p2</th>\n",
       "      <th>p2_conf</th>\n",
       "      <th>p2_dog</th>\n",
       "      <th>p3</th>\n",
       "      <th>p3_conf</th>\n",
       "      <th>p3_dog</th>\n",
       "      <th>favorite_count</th>\n",
       "      <th>retweet_count</th>\n",
       "    </tr>\n",
       "  </thead>\n",
       "  <tbody>\n",
       "    <tr>\n",
       "      <th>1553</th>\n",
       "      <td>688804835492233216</td>\n",
       "      <td>NaN</td>\n",
       "      <td>NaN</td>\n",
       "      <td>NaN</td>\n",
       "      <td>NaN</td>\n",
       "      <td>2016-01-17 19:27:24</td>\n",
       "      <td>IPhone Twitter</td>\n",
       "      <td>When you stumble but recover quickly cause you...</td>\n",
       "      <td>NaN</td>\n",
       "      <td>https://twitter.com/dog_rates/status/688804835...</td>\n",
       "      <td>...</td>\n",
       "      <td>0.199512</td>\n",
       "      <td>True</td>\n",
       "      <td>German_shepherd</td>\n",
       "      <td>0.096797</td>\n",
       "      <td>True</td>\n",
       "      <td>Saluki</td>\n",
       "      <td>0.082848</td>\n",
       "      <td>True</td>\n",
       "      <td>1043</td>\n",
       "      <td>227</td>\n",
       "    </tr>\n",
       "    <tr>\n",
       "      <th>640</th>\n",
       "      <td>794983741416415232</td>\n",
       "      <td>NaN</td>\n",
       "      <td>NaN</td>\n",
       "      <td>7.895309e+17</td>\n",
       "      <td>4.196984e+09</td>\n",
       "      <td>2016-11-05 19:24:28</td>\n",
       "      <td>IPhone Twitter</td>\n",
       "      <td>RT @dog_rates: This is Rizzy. She smiles a lot...</td>\n",
       "      <td>2016-10-21 18:16:44 +0000</td>\n",
       "      <td>https://twitter.com/dog_rates/status/789530877...</td>\n",
       "      <td>...</td>\n",
       "      <td>0.363272</td>\n",
       "      <td>True</td>\n",
       "      <td>kelpie</td>\n",
       "      <td>0.197021</td>\n",
       "      <td>True</td>\n",
       "      <td>Norwegian_elkhound</td>\n",
       "      <td>0.151024</td>\n",
       "      <td>True</td>\n",
       "      <td>0</td>\n",
       "      <td>3942</td>\n",
       "    </tr>\n",
       "    <tr>\n",
       "      <th>137</th>\n",
       "      <td>863432100342583297</td>\n",
       "      <td>NaN</td>\n",
       "      <td>NaN</td>\n",
       "      <td>NaN</td>\n",
       "      <td>NaN</td>\n",
       "      <td>2017-05-13 16:33:49</td>\n",
       "      <td>IPhone Twitter</td>\n",
       "      <td>This is Belle. She's never been more pupset. E...</td>\n",
       "      <td>NaN</td>\n",
       "      <td>https://twitter.com/dog_rates/status/863432100...</td>\n",
       "      <td>...</td>\n",
       "      <td>0.690517</td>\n",
       "      <td>True</td>\n",
       "      <td>French_bulldog</td>\n",
       "      <td>0.103360</td>\n",
       "      <td>True</td>\n",
       "      <td>beagle</td>\n",
       "      <td>0.079489</td>\n",
       "      <td>True</td>\n",
       "      <td>24829</td>\n",
       "      <td>5664</td>\n",
       "    </tr>\n",
       "    <tr>\n",
       "      <th>1270</th>\n",
       "      <td>712438159032893441</td>\n",
       "      <td>NaN</td>\n",
       "      <td>NaN</td>\n",
       "      <td>NaN</td>\n",
       "      <td>NaN</td>\n",
       "      <td>2016-03-23 00:37:48</td>\n",
       "      <td>IPhone Twitter</td>\n",
       "      <td>This is Kane. He's a semi-submerged Haitian Hu...</td>\n",
       "      <td>NaN</td>\n",
       "      <td>https://twitter.com/dog_rates/status/712438159...</td>\n",
       "      <td>...</td>\n",
       "      <td>0.869477</td>\n",
       "      <td>False</td>\n",
       "      <td>Great_Pyrenees</td>\n",
       "      <td>0.069457</td>\n",
       "      <td>True</td>\n",
       "      <td>Labrador_retriever</td>\n",
       "      <td>0.024740</td>\n",
       "      <td>True</td>\n",
       "      <td>5799</td>\n",
       "      <td>1756</td>\n",
       "    </tr>\n",
       "    <tr>\n",
       "      <th>350</th>\n",
       "      <td>829374341691346946</td>\n",
       "      <td>NaN</td>\n",
       "      <td>NaN</td>\n",
       "      <td>NaN</td>\n",
       "      <td>NaN</td>\n",
       "      <td>2017-02-08 17:00:26</td>\n",
       "      <td>IPhone Twitter</td>\n",
       "      <td>This is Astrid. She's a guide doggo in trainin...</td>\n",
       "      <td>NaN</td>\n",
       "      <td>https://twitter.com/dog_rates/status/829374341...</td>\n",
       "      <td>...</td>\n",
       "      <td>0.757547</td>\n",
       "      <td>True</td>\n",
       "      <td>American_Staffordshire_terrier</td>\n",
       "      <td>0.149950</td>\n",
       "      <td>True</td>\n",
       "      <td>Chesapeake_Bay_retriever</td>\n",
       "      <td>0.047523</td>\n",
       "      <td>True</td>\n",
       "      <td>38074</td>\n",
       "      <td>10706</td>\n",
       "    </tr>\n",
       "  </tbody>\n",
       "</table>\n",
       "<p>5 rows × 27 columns</p>\n",
       "</div>"
      ],
      "text/plain": [
       "                tweet_id  in_reply_to_status_id  in_reply_to_user_id  \\\n",
       "1553  688804835492233216                    NaN                  NaN   \n",
       "640   794983741416415232                    NaN                  NaN   \n",
       "137   863432100342583297                    NaN                  NaN   \n",
       "1270  712438159032893441                    NaN                  NaN   \n",
       "350   829374341691346946                    NaN                  NaN   \n",
       "\n",
       "      retweeted_status_id  retweeted_status_user_id           timestamp  \\\n",
       "1553                  NaN                       NaN 2016-01-17 19:27:24   \n",
       "640          7.895309e+17              4.196984e+09 2016-11-05 19:24:28   \n",
       "137                   NaN                       NaN 2017-05-13 16:33:49   \n",
       "1270                  NaN                       NaN 2016-03-23 00:37:48   \n",
       "350                   NaN                       NaN 2017-02-08 17:00:26   \n",
       "\n",
       "              source                                               text  \\\n",
       "1553  IPhone Twitter  When you stumble but recover quickly cause you...   \n",
       "640   IPhone Twitter  RT @dog_rates: This is Rizzy. She smiles a lot...   \n",
       "137   IPhone Twitter  This is Belle. She's never been more pupset. E...   \n",
       "1270  IPhone Twitter  This is Kane. He's a semi-submerged Haitian Hu...   \n",
       "350   IPhone Twitter  This is Astrid. She's a guide doggo in trainin...   \n",
       "\n",
       "     retweeted_status_timestamp  \\\n",
       "1553                        NaN   \n",
       "640   2016-10-21 18:16:44 +0000   \n",
       "137                         NaN   \n",
       "1270                        NaN   \n",
       "350                         NaN   \n",
       "\n",
       "                                          expanded_urls      ...       \\\n",
       "1553  https://twitter.com/dog_rates/status/688804835...      ...        \n",
       "640   https://twitter.com/dog_rates/status/789530877...      ...        \n",
       "137   https://twitter.com/dog_rates/status/863432100...      ...        \n",
       "1270  https://twitter.com/dog_rates/status/712438159...      ...        \n",
       "350   https://twitter.com/dog_rates/status/829374341...      ...        \n",
       "\n",
       "       p1_conf  p1_dog                              p2   p2_conf p2_dog  \\\n",
       "1553  0.199512    True                 German_shepherd  0.096797   True   \n",
       "640   0.363272    True                          kelpie  0.197021   True   \n",
       "137   0.690517    True                  French_bulldog  0.103360   True   \n",
       "1270  0.869477   False                  Great_Pyrenees  0.069457   True   \n",
       "350   0.757547    True  American_Staffordshire_terrier  0.149950   True   \n",
       "\n",
       "                            p3   p3_conf  p3_dog  favorite_count retweet_count  \n",
       "1553                    Saluki  0.082848    True            1043           227  \n",
       "640         Norwegian_elkhound  0.151024    True               0          3942  \n",
       "137                     beagle  0.079489    True           24829          5664  \n",
       "1270        Labrador_retriever  0.024740    True            5799          1756  \n",
       "350   Chesapeake_Bay_retriever  0.047523    True           38074         10706  \n",
       "\n",
       "[5 rows x 27 columns]"
      ]
     },
     "execution_count": 36,
     "metadata": {},
     "output_type": "execute_result"
    }
   ],
   "source": [
    "df_archive_tweet_clean.sample(5)"
   ]
  },
  {
   "cell_type": "markdown",
   "metadata": {},
   "source": [
    "##### Define\n",
    "\n",
    "Fixing Lowercase names and if the name is as (a, an, the, this,...) or None, I did extract the names form the tweet text and if it is no proveded in it the the name will be null.\n",
    "\n",
    "##### Code"
   ]
  },
  {
   "cell_type": "code",
   "execution_count": 37,
   "metadata": {},
   "outputs": [],
   "source": [
    "for ids, name in enumerate(df_archive_tweet_clean.name):\n",
    "   \n",
    "    if name.islower() or name == 'None':\n",
    "        word = re.compile('(?:named\\s|name\\sis\\s)(\\w+)')\n",
    "        if word.findall(df_archive_tweet_clean.loc[ids,'text']):\n",
    "            df_archive_tweet_clean.loc[ids,'name'] = word.findall(df_archive_tweet_clean.loc[ids,'text'])[0]\n",
    "        else:\n",
    "            df_archive_tweet_clean.loc[ids,'name'] = 'None'"
   ]
  },
  {
   "cell_type": "markdown",
   "metadata": {},
   "source": [
    "##### Test"
   ]
  },
  {
   "cell_type": "code",
   "execution_count": 38,
   "metadata": {},
   "outputs": [
    {
     "data": {
      "text/plain": [
       "None         755\n",
       "Bo            14\n",
       "Charlie       11\n",
       "Cooper        10\n",
       "Loki          10\n",
       "Sunny         10\n",
       "Lucy          10\n",
       "Penny         10\n",
       "Oliver        10\n",
       "Tucker        10\n",
       "Scout          9\n",
       "Sadie          8\n",
       "Winston        8\n",
       "Astrid         8\n",
       "Lola           8\n",
       "Toby           7\n",
       "Daisy          7\n",
       "Maggie         7\n",
       "Cassie         7\n",
       "Bailey         6\n",
       "Dave           6\n",
       "Stanley        6\n",
       "Koda           6\n",
       "Sampson        6\n",
       "Jax            6\n",
       "Kyle           6\n",
       "Milo           6\n",
       "Bella          6\n",
       "Gerald         6\n",
       "Rusty          6\n",
       "            ... \n",
       "Joey           1\n",
       "Pippin         1\n",
       "Kulet          1\n",
       "Cal            1\n",
       "Ambrose        1\n",
       "Sprinkles      1\n",
       "Big            1\n",
       "Billl          1\n",
       "Kirk           1\n",
       "Harrison       1\n",
       "Noosh          1\n",
       "Mo             1\n",
       "Griswold       1\n",
       "Crouton        1\n",
       "Jaspers        1\n",
       "Alfredo        1\n",
       "Dewey          1\n",
       "Gidget         1\n",
       "Fido           1\n",
       "Thor           1\n",
       "Blue           1\n",
       "Goose          1\n",
       "Al             1\n",
       "Spork          1\n",
       "Chesney        1\n",
       "Brian          1\n",
       "Keurig         1\n",
       "Damon          1\n",
       "Ivar           1\n",
       "Trigger        1\n",
       "Name: name, Length: 937, dtype: int64"
      ]
     },
     "execution_count": 38,
     "metadata": {},
     "output_type": "execute_result"
    }
   ],
   "source": [
    "df_archive_tweet_clean.name.value_counts()"
   ]
  },
  {
   "cell_type": "markdown",
   "metadata": {},
   "source": [
    "##### Define\n",
    "The retweeted tweets and the replying on other tweet are not needed the needed are only The Original Ratings tweets, so dropping the all columns linked with retweeting & replying. "
   ]
  },
  {
   "cell_type": "code",
   "execution_count": 39,
   "metadata": {},
   "outputs": [
    {
     "data": {
      "text/plain": [
       "1473    694356675654983680\n",
       "1041    746818907684614144\n",
       "578     802265048156610565\n",
       "Name: tweet_id, dtype: object"
      ]
     },
     "execution_count": 39,
     "metadata": {},
     "output_type": "execute_result"
    }
   ],
   "source": [
    "df_archive_tweet_clean[~df_archive_tweet_clean.in_reply_to_status_id.isnull()].tweet_id.sample(3)"
   ]
  },
  {
   "cell_type": "markdown",
   "metadata": {},
   "source": [
    "![tweet_id_694356675654983680.png](tweet_id_694356675654983680.png)\n",
    "![tweet_id_746818907684614144.png](tweet_id_746818907684614144.png)\n",
    "![tweet_id_802265048156610565.png](tweet_id_802265048156610565.png)"
   ]
  },
  {
   "cell_type": "markdown",
   "metadata": {},
   "source": [
    "Above is example of some of the replies\n",
    "and the last one isn't even a dog \n",
    "\n",
    "##### Code"
   ]
  },
  {
   "cell_type": "code",
   "execution_count": 40,
   "metadata": {},
   "outputs": [],
   "source": [
    "#dropping retweet tweets\n",
    "df_archive_tweet_clean = df_archive_tweet_clean[df_archive_tweet_clean.retweeted_status_id.isnull()]"
   ]
  },
  {
   "cell_type": "code",
   "execution_count": 41,
   "metadata": {},
   "outputs": [
    {
     "name": "stdout",
     "output_type": "stream",
     "text": [
      "<class 'pandas.core.frame.DataFrame'>\n",
      "Int64Index: 2216 entries, 0 to 2312\n",
      "Data columns (total 27 columns):\n",
      "tweet_id                      2216 non-null object\n",
      "in_reply_to_status_id         26 non-null float64\n",
      "in_reply_to_user_id           26 non-null float64\n",
      "retweeted_status_id           0 non-null float64\n",
      "retweeted_status_user_id      0 non-null float64\n",
      "timestamp                     2216 non-null datetime64[ns]\n",
      "source                        2216 non-null object\n",
      "text                          2216 non-null object\n",
      "retweeted_status_timestamp    0 non-null object\n",
      "expanded_urls                 2216 non-null object\n",
      "rating_numerator              2216 non-null int64\n",
      "rating_denominator            2216 non-null int64\n",
      "name                          2216 non-null object\n",
      "stage                         2216 non-null object\n",
      "jpg_url                       2216 non-null object\n",
      "img_num                       2216 non-null int64\n",
      "p1                            2216 non-null object\n",
      "p1_conf                       2216 non-null float64\n",
      "p1_dog                        2216 non-null bool\n",
      "p2                            2216 non-null object\n",
      "p2_conf                       2216 non-null float64\n",
      "p2_dog                        2216 non-null bool\n",
      "p3                            2216 non-null object\n",
      "p3_conf                       2216 non-null float64\n",
      "p3_dog                        2216 non-null bool\n",
      "favorite_count                2216 non-null int64\n",
      "retweet_count                 2216 non-null int64\n",
      "dtypes: bool(3), datetime64[ns](1), float64(7), int64(5), object(11)\n",
      "memory usage: 439.3+ KB\n"
     ]
    }
   ],
   "source": [
    "df_archive_tweet_clean.info()"
   ]
  },
  {
   "cell_type": "code",
   "execution_count": 42,
   "metadata": {},
   "outputs": [],
   "source": [
    "df_archive_tweet_clean = df_archive_tweet_clean[df_archive_tweet_clean.in_reply_to_status_id.isnull()]"
   ]
  },
  {
   "cell_type": "code",
   "execution_count": 43,
   "metadata": {},
   "outputs": [
    {
     "name": "stdout",
     "output_type": "stream",
     "text": [
      "<class 'pandas.core.frame.DataFrame'>\n",
      "Int64Index: 2190 entries, 0 to 2312\n",
      "Data columns (total 27 columns):\n",
      "tweet_id                      2190 non-null object\n",
      "in_reply_to_status_id         0 non-null float64\n",
      "in_reply_to_user_id           0 non-null float64\n",
      "retweeted_status_id           0 non-null float64\n",
      "retweeted_status_user_id      0 non-null float64\n",
      "timestamp                     2190 non-null datetime64[ns]\n",
      "source                        2190 non-null object\n",
      "text                          2190 non-null object\n",
      "retweeted_status_timestamp    0 non-null object\n",
      "expanded_urls                 2190 non-null object\n",
      "rating_numerator              2190 non-null int64\n",
      "rating_denominator            2190 non-null int64\n",
      "name                          2190 non-null object\n",
      "stage                         2190 non-null object\n",
      "jpg_url                       2190 non-null object\n",
      "img_num                       2190 non-null int64\n",
      "p1                            2190 non-null object\n",
      "p1_conf                       2190 non-null float64\n",
      "p1_dog                        2190 non-null bool\n",
      "p2                            2190 non-null object\n",
      "p2_conf                       2190 non-null float64\n",
      "p2_dog                        2190 non-null bool\n",
      "p3                            2190 non-null object\n",
      "p3_conf                       2190 non-null float64\n",
      "p3_dog                        2190 non-null bool\n",
      "favorite_count                2190 non-null int64\n",
      "retweet_count                 2190 non-null int64\n",
      "dtypes: bool(3), datetime64[ns](1), float64(7), int64(5), object(11)\n",
      "memory usage: 434.2+ KB\n"
     ]
    }
   ],
   "source": [
    "df_archive_tweet_clean.info()"
   ]
  },
  {
   "cell_type": "code",
   "execution_count": 44,
   "metadata": {},
   "outputs": [],
   "source": [
    "#dropping columns related to tweets that were retweeted or reply tweets\n",
    "df_archive_tweet_clean = df_archive_tweet_clean.drop(labels = ['in_reply_to_status_id', 'in_reply_to_user_id', 'retweeted_status_id',\n",
    "                           'retweeted_status_user_id', 'retweeted_status_timestamp'], axis = 1 )"
   ]
  },
  {
   "cell_type": "markdown",
   "metadata": {},
   "source": [
    "#### Test"
   ]
  },
  {
   "cell_type": "code",
   "execution_count": 45,
   "metadata": {},
   "outputs": [
    {
     "name": "stdout",
     "output_type": "stream",
     "text": [
      "<class 'pandas.core.frame.DataFrame'>\n",
      "Int64Index: 2190 entries, 0 to 2312\n",
      "Data columns (total 22 columns):\n",
      "tweet_id              2190 non-null object\n",
      "timestamp             2190 non-null datetime64[ns]\n",
      "source                2190 non-null object\n",
      "text                  2190 non-null object\n",
      "expanded_urls         2190 non-null object\n",
      "rating_numerator      2190 non-null int64\n",
      "rating_denominator    2190 non-null int64\n",
      "name                  2190 non-null object\n",
      "stage                 2190 non-null object\n",
      "jpg_url               2190 non-null object\n",
      "img_num               2190 non-null int64\n",
      "p1                    2190 non-null object\n",
      "p1_conf               2190 non-null float64\n",
      "p1_dog                2190 non-null bool\n",
      "p2                    2190 non-null object\n",
      "p2_conf               2190 non-null float64\n",
      "p2_dog                2190 non-null bool\n",
      "p3                    2190 non-null object\n",
      "p3_conf               2190 non-null float64\n",
      "p3_dog                2190 non-null bool\n",
      "favorite_count        2190 non-null int64\n",
      "retweet_count         2190 non-null int64\n",
      "dtypes: bool(3), datetime64[ns](1), float64(3), int64(5), object(10)\n",
      "memory usage: 348.6+ KB\n"
     ]
    }
   ],
   "source": [
    "df_archive_tweet_clean.info()"
   ]
  },
  {
   "cell_type": "markdown",
   "metadata": {},
   "source": [
    "### Data Reassessing"
   ]
  },
  {
   "cell_type": "code",
   "execution_count": 46,
   "metadata": {},
   "outputs": [
    {
     "name": "stdout",
     "output_type": "stream",
     "text": [
      "<class 'pandas.core.frame.DataFrame'>\n",
      "Int64Index: 2190 entries, 0 to 2312\n",
      "Data columns (total 22 columns):\n",
      "tweet_id              2190 non-null object\n",
      "timestamp             2190 non-null datetime64[ns]\n",
      "source                2190 non-null object\n",
      "text                  2190 non-null object\n",
      "expanded_urls         2190 non-null object\n",
      "rating_numerator      2190 non-null int64\n",
      "rating_denominator    2190 non-null int64\n",
      "name                  2190 non-null object\n",
      "stage                 2190 non-null object\n",
      "jpg_url               2190 non-null object\n",
      "img_num               2190 non-null int64\n",
      "p1                    2190 non-null object\n",
      "p1_conf               2190 non-null float64\n",
      "p1_dog                2190 non-null bool\n",
      "p2                    2190 non-null object\n",
      "p2_conf               2190 non-null float64\n",
      "p2_dog                2190 non-null bool\n",
      "p3                    2190 non-null object\n",
      "p3_conf               2190 non-null float64\n",
      "p3_dog                2190 non-null bool\n",
      "favorite_count        2190 non-null int64\n",
      "retweet_count         2190 non-null int64\n",
      "dtypes: bool(3), datetime64[ns](1), float64(3), int64(5), object(10)\n",
      "memory usage: 348.6+ KB\n"
     ]
    }
   ],
   "source": [
    "df_archive_tweet_clean.info()"
   ]
  },
  {
   "cell_type": "code",
   "execution_count": 47,
   "metadata": {},
   "outputs": [
    {
     "data": {
      "text/html": [
       "<div>\n",
       "<style scoped>\n",
       "    .dataframe tbody tr th:only-of-type {\n",
       "        vertical-align: middle;\n",
       "    }\n",
       "\n",
       "    .dataframe tbody tr th {\n",
       "        vertical-align: top;\n",
       "    }\n",
       "\n",
       "    .dataframe thead th {\n",
       "        text-align: right;\n",
       "    }\n",
       "</style>\n",
       "<table border=\"1\" class=\"dataframe\">\n",
       "  <thead>\n",
       "    <tr style=\"text-align: right;\">\n",
       "      <th></th>\n",
       "      <th>tweet_id</th>\n",
       "      <th>timestamp</th>\n",
       "      <th>source</th>\n",
       "      <th>text</th>\n",
       "      <th>expanded_urls</th>\n",
       "      <th>rating_numerator</th>\n",
       "      <th>rating_denominator</th>\n",
       "      <th>name</th>\n",
       "      <th>stage</th>\n",
       "      <th>jpg_url</th>\n",
       "      <th>...</th>\n",
       "      <th>p1_conf</th>\n",
       "      <th>p1_dog</th>\n",
       "      <th>p2</th>\n",
       "      <th>p2_conf</th>\n",
       "      <th>p2_dog</th>\n",
       "      <th>p3</th>\n",
       "      <th>p3_conf</th>\n",
       "      <th>p3_dog</th>\n",
       "      <th>favorite_count</th>\n",
       "      <th>retweet_count</th>\n",
       "    </tr>\n",
       "  </thead>\n",
       "  <tbody>\n",
       "    <tr>\n",
       "      <th>2133</th>\n",
       "      <td>669324657376567296</td>\n",
       "      <td>2015-11-25 01:20:08</td>\n",
       "      <td>IPhone Twitter</td>\n",
       "      <td>Meet Ralf. He's a miniature Buick DiCaprio. Ca...</td>\n",
       "      <td>https://twitter.com/dog_rates/status/669324657...</td>\n",
       "      <td>11</td>\n",
       "      <td>10</td>\n",
       "      <td>Ralf</td>\n",
       "      <td>None</td>\n",
       "      <td>https://pbs.twimg.com/media/CUnrN7vUcAAfGvN.jpg</td>\n",
       "      <td>...</td>\n",
       "      <td>0.201659</td>\n",
       "      <td>False</td>\n",
       "      <td>Cardigan</td>\n",
       "      <td>0.131544</td>\n",
       "      <td>True</td>\n",
       "      <td>sandbar</td>\n",
       "      <td>0.101430</td>\n",
       "      <td>False</td>\n",
       "      <td>525</td>\n",
       "      <td>223</td>\n",
       "    </tr>\n",
       "    <tr>\n",
       "      <th>634</th>\n",
       "      <td>795464331001561088</td>\n",
       "      <td>2016-11-07 03:14:10</td>\n",
       "      <td>IPhone Twitter</td>\n",
       "      <td>Elder doggo does a splash. Both 13/10 incredib...</td>\n",
       "      <td>https://twitter.com/dog_rates/status/795464331...</td>\n",
       "      <td>13</td>\n",
       "      <td>10</td>\n",
       "      <td>None</td>\n",
       "      <td>doggo</td>\n",
       "      <td>https://pbs.twimg.com/ext_tw_video_thumb/79546...</td>\n",
       "      <td>...</td>\n",
       "      <td>0.193082</td>\n",
       "      <td>True</td>\n",
       "      <td>Chesapeake_Bay_retriever</td>\n",
       "      <td>0.157927</td>\n",
       "      <td>True</td>\n",
       "      <td>soft-coated_wheaten_terrier</td>\n",
       "      <td>0.124684</td>\n",
       "      <td>True</td>\n",
       "      <td>55683</td>\n",
       "      <td>27728</td>\n",
       "    </tr>\n",
       "    <tr>\n",
       "      <th>372</th>\n",
       "      <td>826958653328592898</td>\n",
       "      <td>2017-02-02 01:01:21</td>\n",
       "      <td>IPhone Twitter</td>\n",
       "      <td>This is Loki. He smiles like Elvis. Ain't noth...</td>\n",
       "      <td>https://twitter.com/dog_rates/status/826958653...</td>\n",
       "      <td>12</td>\n",
       "      <td>10</td>\n",
       "      <td>Loki</td>\n",
       "      <td>doggo</td>\n",
       "      <td>https://pbs.twimg.com/media/C3nygbBWQAAjwcW.jpg</td>\n",
       "      <td>...</td>\n",
       "      <td>0.617389</td>\n",
       "      <td>True</td>\n",
       "      <td>Labrador_retriever</td>\n",
       "      <td>0.337053</td>\n",
       "      <td>True</td>\n",
       "      <td>tennis_ball</td>\n",
       "      <td>0.008554</td>\n",
       "      <td>False</td>\n",
       "      <td>23767</td>\n",
       "      <td>5757</td>\n",
       "    </tr>\n",
       "    <tr>\n",
       "      <th>1670</th>\n",
       "      <td>681339448655802368</td>\n",
       "      <td>2015-12-28 05:02:37</td>\n",
       "      <td>IPhone Twitter</td>\n",
       "      <td>This is Asher. He's not wearing a seatbelt or ...</td>\n",
       "      <td>https://twitter.com/dog_rates/status/681339448...</td>\n",
       "      <td>9</td>\n",
       "      <td>10</td>\n",
       "      <td>Asher</td>\n",
       "      <td>None</td>\n",
       "      <td>https://pbs.twimg.com/media/CXSanNkWkAAqR9M.jpg</td>\n",
       "      <td>...</td>\n",
       "      <td>0.532441</td>\n",
       "      <td>False</td>\n",
       "      <td>Labrador_retriever</td>\n",
       "      <td>0.094615</td>\n",
       "      <td>True</td>\n",
       "      <td>kuvasz</td>\n",
       "      <td>0.089863</td>\n",
       "      <td>True</td>\n",
       "      <td>10202</td>\n",
       "      <td>4598</td>\n",
       "    </tr>\n",
       "    <tr>\n",
       "      <th>644</th>\n",
       "      <td>794205286408003585</td>\n",
       "      <td>2016-11-03 15:51:10</td>\n",
       "      <td>IPhone Twitter</td>\n",
       "      <td>This is Laika. She was a space pupper. The fir...</td>\n",
       "      <td>https://twitter.com/dog_rates/status/794205286...</td>\n",
       "      <td>14</td>\n",
       "      <td>10</td>\n",
       "      <td>Laika</td>\n",
       "      <td>pupper</td>\n",
       "      <td>https://pbs.twimg.com/media/CwWVe_3WEAAHAvx.jpg</td>\n",
       "      <td>...</td>\n",
       "      <td>0.662660</td>\n",
       "      <td>False</td>\n",
       "      <td>fountain</td>\n",
       "      <td>0.294827</td>\n",
       "      <td>False</td>\n",
       "      <td>brass</td>\n",
       "      <td>0.020371</td>\n",
       "      <td>False</td>\n",
       "      <td>10314</td>\n",
       "      <td>3895</td>\n",
       "    </tr>\n",
       "    <tr>\n",
       "      <th>1470</th>\n",
       "      <td>695051054296211456</td>\n",
       "      <td>2016-02-04 01:07:39</td>\n",
       "      <td>IPhone Twitter</td>\n",
       "      <td>Meet Brian (pronounced \"Kirk\"). He's not amuse...</td>\n",
       "      <td>https://twitter.com/dog_rates/status/695051054...</td>\n",
       "      <td>6</td>\n",
       "      <td>10</td>\n",
       "      <td>Brian</td>\n",
       "      <td>None</td>\n",
       "      <td>https://pbs.twimg.com/media/CaVRP4GWwAERC0v.jpg</td>\n",
       "      <td>...</td>\n",
       "      <td>0.761454</td>\n",
       "      <td>True</td>\n",
       "      <td>pug</td>\n",
       "      <td>0.075395</td>\n",
       "      <td>True</td>\n",
       "      <td>Chihuahua</td>\n",
       "      <td>0.041598</td>\n",
       "      <td>True</td>\n",
       "      <td>2918</td>\n",
       "      <td>885</td>\n",
       "    </tr>\n",
       "    <tr>\n",
       "      <th>1196</th>\n",
       "      <td>724004602748780546</td>\n",
       "      <td>2016-04-23 22:38:43</td>\n",
       "      <td>IPhone Twitter</td>\n",
       "      <td>This is Luther. He saw a ghost. Spooked af. 11...</td>\n",
       "      <td>https://twitter.com/dog_rates/status/724004602...</td>\n",
       "      <td>11</td>\n",
       "      <td>10</td>\n",
       "      <td>Luther</td>\n",
       "      <td>pupper</td>\n",
       "      <td>https://pbs.twimg.com/media/CgwuWCeW4AAsgbD.jpg</td>\n",
       "      <td>...</td>\n",
       "      <td>0.950526</td>\n",
       "      <td>False</td>\n",
       "      <td>pug</td>\n",
       "      <td>0.018877</td>\n",
       "      <td>True</td>\n",
       "      <td>quilt</td>\n",
       "      <td>0.007628</td>\n",
       "      <td>False</td>\n",
       "      <td>4561</td>\n",
       "      <td>1790</td>\n",
       "    </tr>\n",
       "    <tr>\n",
       "      <th>1904</th>\n",
       "      <td>673711475735838725</td>\n",
       "      <td>2015-12-07 03:51:47</td>\n",
       "      <td>IPhone Twitter</td>\n",
       "      <td>🎶 HELLO FROM THE OTHER SIIIIIIIIDE 🎶 10/10 htt...</td>\n",
       "      <td>https://twitter.com/dog_rates/status/673711475...</td>\n",
       "      <td>10</td>\n",
       "      <td>10</td>\n",
       "      <td>None</td>\n",
       "      <td>None</td>\n",
       "      <td>https://pbs.twimg.com/media/CVmA_osW4AArAU1.jpg</td>\n",
       "      <td>...</td>\n",
       "      <td>0.607401</td>\n",
       "      <td>True</td>\n",
       "      <td>toy_poodle</td>\n",
       "      <td>0.143836</td>\n",
       "      <td>True</td>\n",
       "      <td>Sealyham_terrier</td>\n",
       "      <td>0.063907</td>\n",
       "      <td>True</td>\n",
       "      <td>1114</td>\n",
       "      <td>325</td>\n",
       "    </tr>\n",
       "    <tr>\n",
       "      <th>1717</th>\n",
       "      <td>679511351870550016</td>\n",
       "      <td>2015-12-23 03:58:25</td>\n",
       "      <td>IPhone Twitter</td>\n",
       "      <td>Say hello to William. He makes fun of others b...</td>\n",
       "      <td>https://twitter.com/dog_rates/status/679511351...</td>\n",
       "      <td>7</td>\n",
       "      <td>10</td>\n",
       "      <td>William</td>\n",
       "      <td>None</td>\n",
       "      <td>https://pbs.twimg.com/media/CW4b-GUWYAAa8QO.jpg</td>\n",
       "      <td>...</td>\n",
       "      <td>0.761972</td>\n",
       "      <td>True</td>\n",
       "      <td>black-footed_ferret</td>\n",
       "      <td>0.150605</td>\n",
       "      <td>False</td>\n",
       "      <td>squirrel_monkey</td>\n",
       "      <td>0.028148</td>\n",
       "      <td>False</td>\n",
       "      <td>3711</td>\n",
       "      <td>1461</td>\n",
       "    </tr>\n",
       "    <tr>\n",
       "      <th>946</th>\n",
       "      <td>754482103782404096</td>\n",
       "      <td>2016-07-17 01:05:25</td>\n",
       "      <td>IPhone Twitter</td>\n",
       "      <td>This is Milo. He's currently plotting his reve...</td>\n",
       "      <td>https://twitter.com/dog_rates/status/754482103...</td>\n",
       "      <td>10</td>\n",
       "      <td>10</td>\n",
       "      <td>Milo</td>\n",
       "      <td>None</td>\n",
       "      <td>https://pbs.twimg.com/ext_tw_video_thumb/75448...</td>\n",
       "      <td>...</td>\n",
       "      <td>0.596796</td>\n",
       "      <td>False</td>\n",
       "      <td>bathtub</td>\n",
       "      <td>0.381098</td>\n",
       "      <td>False</td>\n",
       "      <td>shower_curtain</td>\n",
       "      <td>0.017629</td>\n",
       "      <td>False</td>\n",
       "      <td>5852</td>\n",
       "      <td>2220</td>\n",
       "    </tr>\n",
       "  </tbody>\n",
       "</table>\n",
       "<p>10 rows × 22 columns</p>\n",
       "</div>"
      ],
      "text/plain": [
       "                tweet_id           timestamp          source  \\\n",
       "2133  669324657376567296 2015-11-25 01:20:08  IPhone Twitter   \n",
       "634   795464331001561088 2016-11-07 03:14:10  IPhone Twitter   \n",
       "372   826958653328592898 2017-02-02 01:01:21  IPhone Twitter   \n",
       "1670  681339448655802368 2015-12-28 05:02:37  IPhone Twitter   \n",
       "644   794205286408003585 2016-11-03 15:51:10  IPhone Twitter   \n",
       "1470  695051054296211456 2016-02-04 01:07:39  IPhone Twitter   \n",
       "1196  724004602748780546 2016-04-23 22:38:43  IPhone Twitter   \n",
       "1904  673711475735838725 2015-12-07 03:51:47  IPhone Twitter   \n",
       "1717  679511351870550016 2015-12-23 03:58:25  IPhone Twitter   \n",
       "946   754482103782404096 2016-07-17 01:05:25  IPhone Twitter   \n",
       "\n",
       "                                                   text  \\\n",
       "2133  Meet Ralf. He's a miniature Buick DiCaprio. Ca...   \n",
       "634   Elder doggo does a splash. Both 13/10 incredib...   \n",
       "372   This is Loki. He smiles like Elvis. Ain't noth...   \n",
       "1670  This is Asher. He's not wearing a seatbelt or ...   \n",
       "644   This is Laika. She was a space pupper. The fir...   \n",
       "1470  Meet Brian (pronounced \"Kirk\"). He's not amuse...   \n",
       "1196  This is Luther. He saw a ghost. Spooked af. 11...   \n",
       "1904  🎶 HELLO FROM THE OTHER SIIIIIIIIDE 🎶 10/10 htt...   \n",
       "1717  Say hello to William. He makes fun of others b...   \n",
       "946   This is Milo. He's currently plotting his reve...   \n",
       "\n",
       "                                          expanded_urls  rating_numerator  \\\n",
       "2133  https://twitter.com/dog_rates/status/669324657...                11   \n",
       "634   https://twitter.com/dog_rates/status/795464331...                13   \n",
       "372   https://twitter.com/dog_rates/status/826958653...                12   \n",
       "1670  https://twitter.com/dog_rates/status/681339448...                 9   \n",
       "644   https://twitter.com/dog_rates/status/794205286...                14   \n",
       "1470  https://twitter.com/dog_rates/status/695051054...                 6   \n",
       "1196  https://twitter.com/dog_rates/status/724004602...                11   \n",
       "1904  https://twitter.com/dog_rates/status/673711475...                10   \n",
       "1717  https://twitter.com/dog_rates/status/679511351...                 7   \n",
       "946   https://twitter.com/dog_rates/status/754482103...                10   \n",
       "\n",
       "      rating_denominator     name   stage  \\\n",
       "2133                  10     Ralf    None   \n",
       "634                   10     None   doggo   \n",
       "372                   10     Loki   doggo   \n",
       "1670                  10    Asher    None   \n",
       "644                   10    Laika  pupper   \n",
       "1470                  10    Brian    None   \n",
       "1196                  10   Luther  pupper   \n",
       "1904                  10     None    None   \n",
       "1717                  10  William    None   \n",
       "946                   10     Milo    None   \n",
       "\n",
       "                                                jpg_url      ...        \\\n",
       "2133    https://pbs.twimg.com/media/CUnrN7vUcAAfGvN.jpg      ...         \n",
       "634   https://pbs.twimg.com/ext_tw_video_thumb/79546...      ...         \n",
       "372     https://pbs.twimg.com/media/C3nygbBWQAAjwcW.jpg      ...         \n",
       "1670    https://pbs.twimg.com/media/CXSanNkWkAAqR9M.jpg      ...         \n",
       "644     https://pbs.twimg.com/media/CwWVe_3WEAAHAvx.jpg      ...         \n",
       "1470    https://pbs.twimg.com/media/CaVRP4GWwAERC0v.jpg      ...         \n",
       "1196    https://pbs.twimg.com/media/CgwuWCeW4AAsgbD.jpg      ...         \n",
       "1904    https://pbs.twimg.com/media/CVmA_osW4AArAU1.jpg      ...         \n",
       "1717    https://pbs.twimg.com/media/CW4b-GUWYAAa8QO.jpg      ...         \n",
       "946   https://pbs.twimg.com/ext_tw_video_thumb/75448...      ...         \n",
       "\n",
       "       p1_conf p1_dog                        p2   p2_conf p2_dog  \\\n",
       "2133  0.201659  False                  Cardigan  0.131544   True   \n",
       "634   0.193082   True  Chesapeake_Bay_retriever  0.157927   True   \n",
       "372   0.617389   True        Labrador_retriever  0.337053   True   \n",
       "1670  0.532441  False        Labrador_retriever  0.094615   True   \n",
       "644   0.662660  False                  fountain  0.294827  False   \n",
       "1470  0.761454   True                       pug  0.075395   True   \n",
       "1196  0.950526  False                       pug  0.018877   True   \n",
       "1904  0.607401   True                toy_poodle  0.143836   True   \n",
       "1717  0.761972   True       black-footed_ferret  0.150605  False   \n",
       "946   0.596796  False                   bathtub  0.381098  False   \n",
       "\n",
       "                               p3   p3_conf p3_dog  favorite_count  \\\n",
       "2133                      sandbar  0.101430  False             525   \n",
       "634   soft-coated_wheaten_terrier  0.124684   True           55683   \n",
       "372                   tennis_ball  0.008554  False           23767   \n",
       "1670                       kuvasz  0.089863   True           10202   \n",
       "644                         brass  0.020371  False           10314   \n",
       "1470                    Chihuahua  0.041598   True            2918   \n",
       "1196                        quilt  0.007628  False            4561   \n",
       "1904             Sealyham_terrier  0.063907   True            1114   \n",
       "1717              squirrel_monkey  0.028148  False            3711   \n",
       "946                shower_curtain  0.017629  False            5852   \n",
       "\n",
       "      retweet_count  \n",
       "2133            223  \n",
       "634           27728  \n",
       "372            5757  \n",
       "1670           4598  \n",
       "644            3895  \n",
       "1470            885  \n",
       "1196           1790  \n",
       "1904            325  \n",
       "1717           1461  \n",
       "946            2220  \n",
       "\n",
       "[10 rows x 22 columns]"
      ]
     },
     "execution_count": 47,
     "metadata": {},
     "output_type": "execute_result"
    }
   ],
   "source": [
    "df_archive_tweet_clean.sample(10)"
   ]
  },
  {
   "cell_type": "code",
   "execution_count": 48,
   "metadata": {},
   "outputs": [
    {
     "name": "stdout",
     "output_type": "stream",
     "text": [
      "This is Cassie. She is a college pup. Studying international doggo communication and stick theory. 14/10 so elegant much sophisticate https://t.co/t1bfwz5S2A\n",
      "This is Cassie. She is a college pup. Studying international doggo communication and stick theory. 14/10 so elegant much sophisticate https://t.co/t1bfwz5S2A\n",
      "This is Cassie. She is a college pup. Studying international doggo communication and stick theory. 14/10 so elegant much sophisticate https://t.co/t1bfwz5S2A\n",
      "Meet Yogi. He doesn't have any important dog meetings today he just enjoys looking his best at all times. 12/10 for dangerously dapper doggo https://t.co/YSI00BzTBZ\n",
      "Meet Yogi. He doesn't have any important dog meetings today he just enjoys looking his best at all times. 12/10 for dangerously dapper doggo https://t.co/YSI00BzTBZ\n",
      "Meet Yogi. He doesn't have any important dog meetings today he just enjoys looking his best at all times. 12/10 for dangerously dapper doggo https://t.co/YSI00BzTBZ\n",
      "Here's a very large dog. He has a date later. Politely asked this water person to check if his breath is bad. 12/10 good to go doggo https://t.co/EMYIdoblMR\n",
      "Here's a very large dog. He has a date later. Politely asked this water person to check if his breath is bad. 12/10 good to go doggo https://t.co/EMYIdoblMR\n",
      "Here's a very large dog. He has a date later. Politely asked this water person to check if his breath is bad. 12/10 good to go doggo https://t.co/EMYIdoblMR\n",
      "This is Napolean. He's a Raggedy East Nicaraguan Zoom Zoom. Runs on one leg. Built for deception. No eyes. Good with kids. 12/10 great doggo https://t.co/PR7B7w1rUw\n",
      "This is Napolean. He's a Raggedy East Nicaraguan Zoom Zoom. Runs on one leg. Built for deception. No eyes. Good with kids. 12/10 great doggo https://t.co/PR7B7w1rUw\n",
      "This is Napolean. He's a Raggedy East Nicaraguan Zoom Zoom. Runs on one leg. Built for deception. No eyes. Good with kids. 12/10 great doggo https://t.co/PR7B7w1rUw\n",
      "This is Scout. He just graduated. Officially a doggo now. Have fun with taxes and losing sight of your ambitions. 12/10 would throw cap for https://t.co/DsA2hwXAJo\n",
      "This is Scout. He just graduated. Officially a doggo now. Have fun with taxes and losing sight of your ambitions. 12/10 would throw cap for https://t.co/DsA2hwXAJo\n",
      "This is Scout. He just graduated. Officially a doggo now. Have fun with taxes and losing sight of your ambitions. 12/10 would throw cap for https://t.co/DsA2hwXAJo\n",
      "I have stumbled puppon a doggo painting party. They're looking to be the next Pupcasso or Puppollock. All 13/10 would put it on the fridge https://t.co/cUeDMlHJbq\n",
      "I have stumbled puppon a doggo painting party. They're looking to be the next Pupcasso or Puppollock. All 13/10 would put it on the fridge https://t.co/cUeDMlHJbq\n",
      "I have stumbled puppon a doggo painting party. They're looking to be the next Pupcasso or Puppollock. All 13/10 would put it on the fridge https://t.co/cUeDMlHJbq\n",
      "Here's a puppo participating in the #ScienceMarch. Cleverly disguising her own doggo agenda. 13/10 would keep the planet habitable for https://t.co/cMhq16isel\n",
      "Here's a puppo participating in the #ScienceMarch. Cleverly disguising her own doggo agenda. 13/10 would keep the planet habitable for https://t.co/cMhq16isel\n",
      "At first I thought this was a shy doggo, but it's actually a Rare Canadian Floofer Owl. Amateurs would confuse the two. 11/10 only send dogs https://t.co/TXdT3tmuYk\n",
      "At first I thought this was a shy doggo, but it's actually a Rare Canadian Floofer Owl. Amateurs would confuse the two. 11/10 only send dogs https://t.co/TXdT3tmuYk\n",
      "This is Barney. He's an elder doggo. Hitches a ride when he gets tired. Waves goodbye before he leaves. 13/10 please come back soon https://t.co/cFAasDXauK\n",
      "This is Barney. He's an elder doggo. Hitches a ride when he gets tired. Waves goodbye before he leaves. 13/10 please come back soon https://t.co/cFAasDXauK\n",
      "This is Barney. He's an elder doggo. Hitches a ride when he gets tired. Waves goodbye before he leaves. 13/10 please come back soon https://t.co/cFAasDXauK\n",
      "Say hello to Mimosa. She's an emotional support doggo who helps her owner with PTSD. 13/10, but she needs your help\n",
      "\n",
      "https://t.co/L6mLzrd7Mx https://t.co/jMutBFdw5o\n",
      "Say hello to Mimosa. She's an emotional support doggo who helps her owner with PTSD. 13/10, but she needs your help\n",
      "\n",
      "https://t.co/L6mLzrd7Mx https://t.co/jMutBFdw5o\n",
      "Say hello to Mimosa. She's an emotional support doggo who helps her owner with PTSD. 13/10, but she needs your help\n",
      "\n",
      "https://t.co/L6mLzrd7Mx https://t.co/jMutBFdw5o\n",
      "Here we have some incredible doggos for #K9VeteransDay. All brave as h*ck. Salute your dog in solidarity. 14/10 for all https://t.co/SVNMdFqKDL\n",
      "This is Meera. She just heard about taxes and how much a doghouse in a nice area costs. Not pupared to be a  doggo anymore. 12/10 https://t.co/GZmNEdyoJY\n",
      "This is Meera. She just heard about taxes and how much a doghouse in a nice area costs. Not pupared to be a  doggo anymore. 12/10 https://t.co/GZmNEdyoJY\n",
      "This is Meera. She just heard about taxes and how much a doghouse in a nice area costs. Not pupared to be a  doggo anymore. 12/10 https://t.co/GZmNEdyoJY\n",
      "Here's a doggo fully pupared for a shower. H*ckin exquisite balance. Sneaky tongue slip too. 13/10 https://t.co/UtEVnQ1ZPg\n",
      "Here's a doggo fully pupared for a shower. H*ckin exquisite balance. Sneaky tongue slip too. 13/10 https://t.co/UtEVnQ1ZPg\n",
      "Here's a doggo fully pupared for a shower. H*ckin exquisite balance. Sneaky tongue slip too. 13/10 https://t.co/UtEVnQ1ZPg\n",
      "This is Rhino. He arrived at a shelter with an elaborate doggo manual for his new family, written by someone who will always love him. 13/10 https://t.co/QX1h0oqMz0\n",
      "This is Rhino. He arrived at a shelter with an elaborate doggo manual for his new family, written by someone who will always love him. 13/10 https://t.co/QX1h0oqMz0\n",
      "This is Rhino. He arrived at a shelter with an elaborate doggo manual for his new family, written by someone who will always love him. 13/10 https://t.co/QX1h0oqMz0\n",
      "Say hello to Smiley. He's a blind therapy doggo having a h*ckin blast high steppin around in the snow. 14/10 would follow anywhere https://t.co/SHAb1wHjMz\n",
      "Say hello to Smiley. He's a blind therapy doggo having a h*ckin blast high steppin around in the snow. 14/10 would follow anywhere https://t.co/SHAb1wHjMz\n",
      "Say hello to Smiley. He's a blind therapy doggo having a h*ckin blast high steppin around in the snow. 14/10 would follow anywhere https://t.co/SHAb1wHjMz\n",
      "This is Miguel. He was the only remaining doggo at the adoption center after the weekend. Let's change that. 12/10\n",
      "\n",
      "https://t.co/P0bO8mCQwN https://t.co/SU4K34NT4M\n",
      "This is Miguel. He was the only remaining doggo at the adoption center after the weekend. Let's change that. 12/10\n",
      "\n",
      "https://t.co/P0bO8mCQwN https://t.co/SU4K34NT4M\n",
      "This is Miguel. He was the only remaining doggo at the adoption center after the weekend. Let's change that. 12/10\n",
      "\n",
      "https://t.co/P0bO8mCQwN https://t.co/SU4K34NT4M\n",
      "This is Emanuel. He's a h*ckin rare doggo. Dwells in a semi-urban environment. Round features make him extra collectible. 12/10 would so pet https://t.co/k9bzgyVdUT\n",
      "This is Emanuel. He's a h*ckin rare doggo. Dwells in a semi-urban environment. Round features make him extra collectible. 12/10 would so pet https://t.co/k9bzgyVdUT\n",
      "This is Emanuel. He's a h*ckin rare doggo. Dwells in a semi-urban environment. Round features make him extra collectible. 12/10 would so pet https://t.co/k9bzgyVdUT\n",
      "This is Pete. He has no eyes. Needs a guide doggo. Also appears to be considerably fluffy af. 12/10 would hug softly https://t.co/Xc0gyovCtK\n",
      "This is Pete. He has no eyes. Needs a guide doggo. Also appears to be considerably fluffy af. 12/10 would hug softly https://t.co/Xc0gyovCtK\n",
      "This is Pete. He has no eyes. Needs a guide doggo. Also appears to be considerably fluffy af. 12/10 would hug softly https://t.co/Xc0gyovCtK\n",
      "Here's a stressed doggo. Had a long day. Many things on her mind. The hat communicates these feelings exquisitely. 11/10 https://t.co/fmRS43mWQB\n",
      "Here's a stressed doggo. Had a long day. Many things on her mind. The hat communicates these feelings exquisitely. 11/10 https://t.co/fmRS43mWQB\n",
      "Here's a stressed doggo. Had a long day. Many things on her mind. The hat communicates these feelings exquisitely. 11/10 https://t.co/fmRS43mWQB\n",
      "This is Astrid. She's a guide doggo in training. 13/10 would follow anywhere https://t.co/xo7FZFIAao\n",
      "This is Astrid. She's a guide doggo in training. 13/10 would follow anywhere https://t.co/xo7FZFIAao\n",
      "This is Astrid. She's a guide doggo in training. 13/10 would follow anywhere https://t.co/xo7FZFIAao\n",
      "Meet Doobert. He's a deaf doggo. Didn't stop him on the field tho. Absolute legend today. 14/10 would pat head approvingly https://t.co/iCk7zstRA9\n",
      "Meet Doobert. He's a deaf doggo. Didn't stop him on the field tho. Absolute legend today. 14/10 would pat head approvingly https://t.co/iCk7zstRA9\n",
      "Meet Doobert. He's a deaf doggo. Didn't stop him on the field tho. Absolute legend today. 14/10 would pat head approvingly https://t.co/iCk7zstRA9\n",
      "This is Loki. He smiles like Elvis. Ain't nothin but a hound doggo. 12/10 https://t.co/QV5nx6otZR\n",
      "This is Loki. He smiles like Elvis. Ain't nothin but a hound doggo. 12/10 https://t.co/QV5nx6otZR\n",
      "This is Loki. He smiles like Elvis. Ain't nothin but a hound doggo. 12/10 https://t.co/QV5nx6otZR\n",
      "This is Cupid. He was found in the trash. Now he's well on his way to prosthetic front legs and a long happy doggo life. 13/10 heroic af https://t.co/WS0Gha8vRh\n",
      "This is Cupid. He was found in the trash. Now he's well on his way to prosthetic front legs and a long happy doggo life. 13/10 heroic af https://t.co/WS0Gha8vRh\n",
      "This is Cupid. He was found in the trash. Now he's well on his way to prosthetic front legs and a long happy doggo life. 13/10 heroic af https://t.co/WS0Gha8vRh\n",
      "This is Pilot. He has mastered the synchronized head tilt and sneaky tongue slip. Usually not unlocked until later doggo days. 12/10 https://t.co/YIV8sw8xkh\n",
      "This is Pilot. He has mastered the synchronized head tilt and sneaky tongue slip. Usually not unlocked until later doggo days. 12/10 https://t.co/YIV8sw8xkh\n",
      "This is Pilot. He has mastered the synchronized head tilt and sneaky tongue slip. Usually not unlocked until later doggo days. 12/10 https://t.co/YIV8sw8xkh\n",
      "Here's a little more info on Dew, your favorite roaming doggo that went h*ckin viral. 13/10 \n",
      "https://t.co/1httNYrCeW https://t.co/KvaM8j3jhX\n",
      "Here's a little more info on Dew, your favorite roaming doggo that went h*ckin viral. 13/10 \n",
      "https://t.co/1httNYrCeW https://t.co/KvaM8j3jhX\n",
      "Here's a little more info on Dew, your favorite roaming doggo that went h*ckin viral. 13/10 \n",
      "https://t.co/1httNYrCeW https://t.co/KvaM8j3jhX\n",
      "This is Duchess. She uses dark doggo forces to levitate her toys. 13/10 magical af https://t.co/maDNMETA52\n",
      "This is Duchess. She uses dark doggo forces to levitate her toys. 13/10 magical af https://t.co/maDNMETA52\n",
      "This is Duchess. She uses dark doggo forces to levitate her toys. 13/10 magical af https://t.co/maDNMETA52\n",
      "This is Sundance. He's a doggo drummer. Even sings a bit on the side. 14/10 entertained af (vid by @sweetsundance) https://t.co/Xn5AQtiqzG\n",
      "This is Sundance. He's a doggo drummer. Even sings a bit on the side. 14/10 entertained af (vid by @sweetsundance) https://t.co/Xn5AQtiqzG\n",
      "This is Sundance. He's a doggo drummer. Even sings a bit on the side. 14/10 entertained af (vid by @sweetsundance) https://t.co/Xn5AQtiqzG\n",
      "Here's a doggo who looks like he's about to give you a list of mythical ingredients to go collect for his potion. 11/10 would obey https://t.co/8SiwKDlRcl\n",
      "Here's a doggo who looks like he's about to give you a list of mythical ingredients to go collect for his potion. 11/10 would obey https://t.co/8SiwKDlRcl\n",
      "Here's a doggo who looks like he's about to give you a list of mythical ingredients to go collect for his potion. 11/10 would obey https://t.co/8SiwKDlRcl\n",
      "Here we have a doggo who has messed up. He was hoping you wouldn't notice. 11/10 someone help him https://t.co/XdRNXNYD4E\n",
      "Here we have a doggo who has messed up. He was hoping you wouldn't notice. 11/10 someone help him https://t.co/XdRNXNYD4E\n",
      "Here we have a doggo who has messed up. He was hoping you wouldn't notice. 11/10 someone help him https://t.co/XdRNXNYD4E\n",
      "This is Dido. She's playing the lead role in \"Pupper Stops to Catch Snow Before Resuming Shadow Box with Dried Apple.\" 13/10 (IG: didodoggo) https://t.co/m7isZrOBX7\n",
      "This is Dido. She's playing the lead role in \"Pupper Stops to Catch Snow Before Resuming Shadow Box with Dried Apple.\" 13/10 (IG: didodoggo) https://t.co/m7isZrOBX7\n",
      "Meet Jack. He's one of the rare doggos that doesn't mind baths. 11/10 click the link to see how you can help Jack!\n",
      "\n",
      "https://t.co/r4W111FzAq https://t.co/fQpYuMKG3p\n",
      "This is Chubbs. He dug a hole and now he's stuck in it. Dang h*ckin doggo. 11/10 would assist https://t.co/z1VRj1cYZf\n",
      "This is Chubbs. He dug a hole and now he's stuck in it. Dang h*ckin doggo. 11/10 would assist https://t.co/z1VRj1cYZf\n",
      "This is Chubbs. He dug a hole and now he's stuck in it. Dang h*ckin doggo. 11/10 would assist https://t.co/z1VRj1cYZf\n",
      "Here's a doggo who has concluded that Christmas is entirely too bright. Requests you tone it down a notch. 11/10 https://t.co/cD967DjnIn\n",
      "Here's a doggo who has concluded that Christmas is entirely too bright. Requests you tone it down a notch. 11/10 https://t.co/cD967DjnIn\n",
      "Here's a doggo who has concluded that Christmas is entirely too bright. Requests you tone it down a notch. 11/10 https://t.co/cD967DjnIn\n",
      "Here's an anonymous doggo that appears to be very done with Christmas. 11/10 cheer up pup https://t.co/BzITyGw3JA\n",
      "Here's an anonymous doggo that appears to be very done with Christmas. 11/10 cheer up pup https://t.co/BzITyGw3JA\n",
      "Here's an anonymous doggo that appears to be very done with Christmas. 11/10 cheer up pup https://t.co/BzITyGw3JA\n",
      "This is Rocky. He got triple-doggo-dared. Stuck af. 11/10 someone help him https://t.co/soNL00XWVu\n",
      "This is Rocky. He got triple-doggo-dared. Stuck af. 11/10 someone help him https://t.co/soNL00XWVu\n",
      "This is Rocky. He got triple-doggo-dared. Stuck af. 11/10 someone help him https://t.co/soNL00XWVu\n",
      "Here we have Burke (pupper) and Dexter (doggo). Pupper wants to be exactly like doggo. Both 12/10 would pet at same time https://t.co/ANBpEYHaho\n",
      "Here we have Burke (pupper) and Dexter (doggo). Pupper wants to be exactly like doggo. Both 12/10 would pet at same time https://t.co/ANBpEYHaho\n",
      "This is Bones. He's being haunted by another doggo of roughly the same size. 12/10 deep breaths pupper everything's fine https://t.co/55Dqe0SJNj\n",
      "This is Bones. He's being haunted by another doggo of roughly the same size. 12/10 deep breaths pupper everything's fine https://t.co/55Dqe0SJNj\n",
      "Here's a doggo doin a struggle. 11/10 much determined https://t.co/gQqRBfkX4I\n",
      "Here's a doggo doin a struggle. 11/10 much determined https://t.co/gQqRBfkX4I\n",
      "Here's a doggo doin a struggle. 11/10 much determined https://t.co/gQqRBfkX4I\n",
      "This is Sobe. She's a h*ckin happy doggo. Only one leg tho. Must have good balance. 13/10 would smile back https://t.co/OiH8PaOxB1\n",
      "This is Sobe. She's a h*ckin happy doggo. Only one leg tho. Must have good balance. 13/10 would smile back https://t.co/OiH8PaOxB1\n",
      "This is Sobe. She's a h*ckin happy doggo. Only one leg tho. Must have good balance. 13/10 would smile back https://t.co/OiH8PaOxB1\n",
      "Here's a sleepy doggo that requested some assistance. 12/10 would carry everywhere https://t.co/bvkkqOjNDV\n",
      "Here's a sleepy doggo that requested some assistance. 12/10 would carry everywhere https://t.co/bvkkqOjNDV\n",
      "Here's a sleepy doggo that requested some assistance. 12/10 would carry everywhere https://t.co/bvkkqOjNDV\n",
      "Elder doggo does a splash. Both 13/10 incredible stuff https://t.co/gBUDjdEcqz\n",
      "Elder doggo does a splash. Both 13/10 incredible stuff https://t.co/gBUDjdEcqz\n",
      "Elder doggo does a splash. Both 13/10 incredible stuff https://t.co/gBUDjdEcqz\n",
      "This is Rizzo. He has many talents. A true renaissance doggo. 13/10 entertaining af https://t.co/TVXpEJB7Wn\n",
      "This is Rizzo. He has many talents. A true renaissance doggo. 13/10 entertaining af https://t.co/TVXpEJB7Wn\n",
      "This is Rizzo. He has many talents. A true renaissance doggo. 13/10 entertaining af https://t.co/TVXpEJB7Wn\n",
      "This is Pinot. He's a sophisticated doggo. You can tell by the hat. Also pointier than your average pupper. Still 10/10 would pet cautiously https://t.co/f2wmLZTPHd\n",
      "This is Pinot. He's a sophisticated doggo. You can tell by the hat. Also pointier than your average pupper. Still 10/10 would pet cautiously https://t.co/f2wmLZTPHd\n",
      "This is Deacon. He's the happiest almost dry doggo I've ever seen. 11/10 would smile back https://t.co/C6fUMnHt1H\n",
      "This is Deacon. He's the happiest almost dry doggo I've ever seen. 11/10 would smile back https://t.co/C6fUMnHt1H\n",
      "This is Deacon. He's the happiest almost dry doggo I've ever seen. 11/10 would smile back https://t.co/C6fUMnHt1H\n",
      "This is Sampson. He just graduated. Ready to be a doggo now. Time for the real world. 12/10 have fun with taxes https://t.co/pgVKxRw0s1\n",
      "This is Sampson. He just graduated. Ready to be a doggo now. Time for the real world. 12/10 have fun with taxes https://t.co/pgVKxRw0s1\n",
      "This is Sampson. He just graduated. Ready to be a doggo now. Time for the real world. 12/10 have fun with taxes https://t.co/pgVKxRw0s1\n",
      "This is Anakin. He strives to reach his full doggo potential. Born with blurry tail tho. 11/10 would still pet well https://t.co/9CcBSxCXXG\n",
      "This is Anakin. He strives to reach his full doggo potential. Born with blurry tail tho. 11/10 would still pet well https://t.co/9CcBSxCXXG\n",
      "This is Anakin. He strives to reach his full doggo potential. Born with blurry tail tho. 11/10 would still pet well https://t.co/9CcBSxCXXG\n",
      "This is Finley. He's an independent doggo still adjusting to life on his own. 11/10 https://t.co/7FNcBaKbci\n",
      "This is Finley. He's an independent doggo still adjusting to life on his own. 11/10 https://t.co/7FNcBaKbci\n",
      "This is Finley. He's an independent doggo still adjusting to life on his own. 11/10 https://t.co/7FNcBaKbci\n",
      "You need to watch these two doggos argue through a cat door. Both 11/10 https://t.co/qEP31epKEV\n",
      "Meet Gerald. He's a fairly exotic doggo. Floofy af. Inadequate knees tho. Self conscious about large forehead. 8/10 https://t.co/WmczvjCWJq\n",
      "Meet Gerald. He's a fairly exotic doggo. Floofy af. Inadequate knees tho. Self conscious about large forehead. 8/10 https://t.co/WmczvjCWJq\n",
      "Meet Gerald. He's a fairly exotic doggo. Floofy af. Inadequate knees tho. Self conscious about large forehead. 8/10 https://t.co/WmczvjCWJq\n",
      "I don't know any of the backstory behind this picture but for some reason I'm crying. 13/10 for owner and doggo https://t.co/QOKZdus9TT\n",
      "I don't know any of the backstory behind this picture but for some reason I'm crying. 13/10 for owner and doggo https://t.co/QOKZdus9TT\n",
      "I don't know any of the backstory behind this picture but for some reason I'm crying. 13/10 for owner and doggo https://t.co/QOKZdus9TT\n",
      "This is Wishes. He has the day off. Daily struggles of being a doggo have finally caught up with him. 11/10 https://t.co/H9YgrUkYwa\n",
      "This is Wishes. He has the day off. Daily struggles of being a doggo have finally caught up with him. 11/10 https://t.co/H9YgrUkYwa\n",
      "This is Wishes. He has the day off. Daily struggles of being a doggo have finally caught up with him. 11/10 https://t.co/H9YgrUkYwa\n",
      "Meet Maggie &amp; Lila. Maggie is the doggo, Lila is the pupper. They are sisters. Both 12/10 would pet at the same time https://t.co/MYwR4DQKll\n",
      "Meet Maggie &amp; Lila. Maggie is the doggo, Lila is the pupper. They are sisters. Both 12/10 would pet at the same time https://t.co/MYwR4DQKll\n",
      "This doggo is just waiting for someone to be proud of her and her accomplishment. 13/10 legendary af https://t.co/9T2h14yn4Q\n",
      "This doggo is just waiting for someone to be proud of her and her accomplishment. 13/10 legendary af https://t.co/9T2h14yn4Q\n",
      "This doggo is just waiting for someone to be proud of her and her accomplishment. 13/10 legendary af https://t.co/9T2h14yn4Q\n",
      "Here's a doggo completely oblivious to the double rainbow behind him. 10/10 someone tell him https://t.co/OfvRoD6ndV\n",
      "Here's a doggo completely oblivious to the double rainbow behind him. 10/10 someone tell him https://t.co/OfvRoD6ndV\n",
      "Here's a doggo completely oblivious to the double rainbow behind him. 10/10 someone tell him https://t.co/OfvRoD6ndV\n",
      "All hail sky doggo. 13/10 would jump super high to pet https://t.co/CsLRpqdeTF\n",
      "All hail sky doggo. 13/10 would jump super high to pet https://t.co/CsLRpqdeTF\n",
      "All hail sky doggo. 13/10 would jump super high to pet https://t.co/CsLRpqdeTF\n",
      "This is one of the most inspirational stories I've ever come across. I have no words. 14/10 for both doggo and owner https://t.co/I5ld3eKD5k\n",
      "This is one of the most inspirational stories I've ever come across. I have no words. 14/10 for both doggo and owner https://t.co/I5ld3eKD5k\n",
      "This is one of the most inspirational stories I've ever come across. I have no words. 14/10 for both doggo and owner https://t.co/I5ld3eKD5k\n",
      "Here we are witnessing an isolated squad of bouncing doggos. Unbelievably rare for this time of year. 11/10 for all https://t.co/CCdlwiTwQf\n",
      "Nothing better than a doggo and a sunset. 10/10 majestic af https://t.co/xVSodF19PS\n",
      "Nothing better than a doggo and a sunset. 10/10 majestic af https://t.co/xVSodF19PS\n",
      "Nothing better than a doggo and a sunset. 10/10 majestic af https://t.co/xVSodF19PS\n",
      "Here's a doggo trying to catch some fish. 8/10 futile af (vid by @KellyBauerx) https://t.co/jwd0j6oWLE\n",
      "Here's a doggo trying to catch some fish. 8/10 futile af (vid by @KellyBauerx) https://t.co/jwd0j6oWLE\n",
      "Here's a doggo trying to catch some fish. 8/10 futile af (vid by @KellyBauerx) https://t.co/jwd0j6oWLE\n",
      "Please stop sending it pictures that don't even have a doggo or pupper in them. Churlish af. 5/10 neat couch tho https://t.co/u2c9c7qSg8\n",
      "Please stop sending it pictures that don't even have a doggo or pupper in them. Churlish af. 5/10 neat couch tho https://t.co/u2c9c7qSg8\n",
      "Meet Piper. She's an airport doggo. Please return your tray table to its full pupright and locked position. 11/10 https://t.co/D17IAcetmM\n",
      "Meet Piper. She's an airport doggo. Please return your tray table to its full pupright and locked position. 11/10 https://t.co/D17IAcetmM\n",
      "Meet Piper. She's an airport doggo. Please return your tray table to its full pupright and locked position. 11/10 https://t.co/D17IAcetmM\n",
      "This is Dietrich. He hops at random. Other doggos don't understand him. It upsets him greatly. 8/10 would comfort https://t.co/U8cSRz8wzC\n",
      "That is Quizno. This is his beach. He does not tolerate human shenanigans on his beach. 10/10 reclaim ur land doggo https://t.co/vdr7DaRSa7\n",
      "That is Quizno. This is his beach. He does not tolerate human shenanigans on his beach. 10/10 reclaim ur land doggo https://t.co/vdr7DaRSa7\n",
      "That is Quizno. This is his beach. He does not tolerate human shenanigans on his beach. 10/10 reclaim ur land doggo https://t.co/vdr7DaRSa7\n",
      "This is Lenox. She's in a wheelbarrow. Silly doggo. You don't belong there. 10/10 would push around https://t.co/oYbVR4nBsR\n",
      "This is Lenox. She's in a wheelbarrow. Silly doggo. You don't belong there. 10/10 would push around https://t.co/oYbVR4nBsR\n",
      "This is Lenox. She's in a wheelbarrow. Silly doggo. You don't belong there. 10/10 would push around https://t.co/oYbVR4nBsR\n",
      "Here's a doggo realizing you can stand in a pool. 13/10 enlightened af (vid by Tina Conrad) https://t.co/7wE9LTEXC4\n",
      "Here's a doggo realizing you can stand in a pool. 13/10 enlightened af (vid by Tina Conrad) https://t.co/7wE9LTEXC4\n",
      "Here's a doggo realizing you can stand in a pool. 13/10 enlightened af (vid by Tina Conrad) https://t.co/7wE9LTEXC4\n",
      "This is just downright precious af. 12/10 for both pupper and doggo https://t.co/o5J479bZUC\n",
      "This is just downright precious af. 12/10 for both pupper and doggo https://t.co/o5J479bZUC\n",
      "Here's a doggo blowing bubbles. It's downright legendary. 13/10 would watch on repeat forever (vid by Kent Duryee) https://t.co/YcXgHfp1EC\n",
      "Here's a doggo blowing bubbles. It's downright legendary. 13/10 would watch on repeat forever (vid by Kent Duryee) https://t.co/YcXgHfp1EC\n",
      "Here's a doggo blowing bubbles. It's downright legendary. 13/10 would watch on repeat forever (vid by Kent Duryee) https://t.co/YcXgHfp1EC\n",
      "This is Kellogg. He accidentally opened the front facing camera. 8/10 get it together doggo https://t.co/MRYv7nDPyS\n",
      "This is Kellogg. He accidentally opened the front facing camera. 8/10 get it together doggo https://t.co/MRYv7nDPyS\n",
      "This is Kellogg. He accidentally opened the front facing camera. 8/10 get it together doggo https://t.co/MRYv7nDPyS\n",
      "Like father (doggo), like son (pupper). Both 12/10 https://t.co/pG2inLaOda\n",
      "Like father (doggo), like son (pupper). Both 12/10 https://t.co/pG2inLaOda\n",
      "This is Kyle (pronounced 'Mitch'). He strives to be the best doggo he can be. 11/10 would pat on head approvingly https://t.co/aA2GiTGvlE\n",
      "This is Kyle (pronounced 'Mitch'). He strives to be the best doggo he can be. 11/10 would pat on head approvingly https://t.co/aA2GiTGvlE\n",
      "This is Kyle (pronounced 'Mitch'). He strives to be the best doggo he can be. 11/10 would pat on head approvingly https://t.co/aA2GiTGvlE\n",
      "Say hello to this unbelievably well behaved squad of doggos. 204/170 would try to pet all at once https://t.co/yGQI3He3xv\n",
      "Here's a doggo struggling to cope with the winds. 13/10 https://t.co/qv3aUwaouT\n",
      "Here's a doggo struggling to cope with the winds. 13/10 https://t.co/qv3aUwaouT\n",
      "Here's a doggo struggling to cope with the winds. 13/10 https://t.co/qv3aUwaouT\n",
      "Nothin better than a doggo and a sunset. 11/10 https://t.co/JlFqOhrHEs\n",
      "Nothin better than a doggo and a sunset. 11/10 https://t.co/JlFqOhrHEs\n",
      "Nothin better than a doggo and a sunset. 11/10 https://t.co/JlFqOhrHEs\n",
      "This doggo was initially thrilled when she saw the happy cartoon pup but quickly realized she'd been deceived. 10/10 https://t.co/mvnBGaWULV\n",
      "This doggo was initially thrilled when she saw the happy cartoon pup but quickly realized she'd been deceived. 10/10 https://t.co/mvnBGaWULV\n",
      "This doggo was initially thrilled when she saw the happy cartoon pup but quickly realized she'd been deceived. 10/10 https://t.co/mvnBGaWULV\n",
      "Here's a super majestic doggo and a sunset 11/10 https://t.co/UACnoyi8zu\n",
      "Here's a super majestic doggo and a sunset 11/10 https://t.co/UACnoyi8zu\n",
      "Here's a super majestic doggo and a sunset 11/10 https://t.co/UACnoyi8zu\n"
     ]
    }
   ],
   "source": [
    "for tweet in df_archive_tweet_clean[df_archive_tweet_clean.stage =='None'].text:\n",
    "    if 'doggo' in tweet:\n",
    "        print(tweet)"
   ]
  },
  {
   "cell_type": "code",
   "execution_count": 49,
   "metadata": {},
   "outputs": [
    {
     "data": {
      "text/html": [
       "<div>\n",
       "<style scoped>\n",
       "    .dataframe tbody tr th:only-of-type {\n",
       "        vertical-align: middle;\n",
       "    }\n",
       "\n",
       "    .dataframe tbody tr th {\n",
       "        vertical-align: top;\n",
       "    }\n",
       "\n",
       "    .dataframe thead th {\n",
       "        text-align: right;\n",
       "    }\n",
       "</style>\n",
       "<table border=\"1\" class=\"dataframe\">\n",
       "  <thead>\n",
       "    <tr style=\"text-align: right;\">\n",
       "      <th></th>\n",
       "      <th>tweet_id</th>\n",
       "      <th>timestamp</th>\n",
       "      <th>source</th>\n",
       "      <th>text</th>\n",
       "      <th>expanded_urls</th>\n",
       "      <th>rating_numerator</th>\n",
       "      <th>rating_denominator</th>\n",
       "      <th>name</th>\n",
       "      <th>stage</th>\n",
       "      <th>jpg_url</th>\n",
       "      <th>...</th>\n",
       "      <th>p1_conf</th>\n",
       "      <th>p1_dog</th>\n",
       "      <th>p2</th>\n",
       "      <th>p2_conf</th>\n",
       "      <th>p2_dog</th>\n",
       "      <th>p3</th>\n",
       "      <th>p3_conf</th>\n",
       "      <th>p3_dog</th>\n",
       "      <th>favorite_count</th>\n",
       "      <th>retweet_count</th>\n",
       "    </tr>\n",
       "  </thead>\n",
       "  <tbody>\n",
       "    <tr>\n",
       "      <th>285</th>\n",
       "      <td>835152434251116546</td>\n",
       "      <td>2017-02-24 15:40:31</td>\n",
       "      <td>IPhone Twitter</td>\n",
       "      <td>When you're so blinded by your systematic plag...</td>\n",
       "      <td>https://twitter.com/dog_rates/status/835152434...</td>\n",
       "      <td>0</td>\n",
       "      <td>10</td>\n",
       "      <td>None</td>\n",
       "      <td>None</td>\n",
       "      <td>https://pbs.twimg.com/media/C5cOtWVWMAEjO5p.jpg</td>\n",
       "      <td>...</td>\n",
       "      <td>0.967066</td>\n",
       "      <td>False</td>\n",
       "      <td>American_Staffordshire_terrier</td>\n",
       "      <td>0.012731</td>\n",
       "      <td>True</td>\n",
       "      <td>Staffordshire_bullterrier</td>\n",
       "      <td>0.007039</td>\n",
       "      <td>True</td>\n",
       "      <td>24574</td>\n",
       "      <td>3443</td>\n",
       "    </tr>\n",
       "  </tbody>\n",
       "</table>\n",
       "<p>1 rows × 22 columns</p>\n",
       "</div>"
      ],
      "text/plain": [
       "               tweet_id           timestamp          source  \\\n",
       "285  835152434251116546 2017-02-24 15:40:31  IPhone Twitter   \n",
       "\n",
       "                                                  text  \\\n",
       "285  When you're so blinded by your systematic plag...   \n",
       "\n",
       "                                         expanded_urls  rating_numerator  \\\n",
       "285  https://twitter.com/dog_rates/status/835152434...                 0   \n",
       "\n",
       "     rating_denominator  name stage  \\\n",
       "285                  10  None  None   \n",
       "\n",
       "                                             jpg_url      ...         p1_conf  \\\n",
       "285  https://pbs.twimg.com/media/C5cOtWVWMAEjO5p.jpg      ...        0.967066   \n",
       "\n",
       "    p1_dog                              p2   p2_conf p2_dog  \\\n",
       "285  False  American_Staffordshire_terrier  0.012731   True   \n",
       "\n",
       "                            p3   p3_conf p3_dog  favorite_count  retweet_count  \n",
       "285  Staffordshire_bullterrier  0.007039   True           24574           3443  \n",
       "\n",
       "[1 rows x 22 columns]"
      ]
     },
     "execution_count": 49,
     "metadata": {},
     "output_type": "execute_result"
    }
   ],
   "source": [
    "# Numerator Rating is 0\n",
    "df_archive_tweet_clean[df_archive_tweet_clean.rating_numerator == 0]"
   ]
  },
  {
   "cell_type": "code",
   "execution_count": 50,
   "metadata": {},
   "outputs": [
    {
     "data": {
      "text/html": [
       "<div>\n",
       "<style scoped>\n",
       "    .dataframe tbody tr th:only-of-type {\n",
       "        vertical-align: middle;\n",
       "    }\n",
       "\n",
       "    .dataframe tbody tr th {\n",
       "        vertical-align: top;\n",
       "    }\n",
       "\n",
       "    .dataframe thead th {\n",
       "        text-align: right;\n",
       "    }\n",
       "</style>\n",
       "<table border=\"1\" class=\"dataframe\">\n",
       "  <thead>\n",
       "    <tr style=\"text-align: right;\">\n",
       "      <th></th>\n",
       "      <th>tweet_id</th>\n",
       "      <th>timestamp</th>\n",
       "      <th>source</th>\n",
       "      <th>text</th>\n",
       "      <th>expanded_urls</th>\n",
       "      <th>rating_numerator</th>\n",
       "      <th>rating_denominator</th>\n",
       "      <th>name</th>\n",
       "      <th>stage</th>\n",
       "      <th>jpg_url</th>\n",
       "      <th>...</th>\n",
       "      <th>p1_conf</th>\n",
       "      <th>p1_dog</th>\n",
       "      <th>p2</th>\n",
       "      <th>p2_conf</th>\n",
       "      <th>p2_dog</th>\n",
       "      <th>p3</th>\n",
       "      <th>p3_conf</th>\n",
       "      <th>p3_dog</th>\n",
       "      <th>favorite_count</th>\n",
       "      <th>retweet_count</th>\n",
       "    </tr>\n",
       "  </thead>\n",
       "  <tbody>\n",
       "    <tr>\n",
       "      <th>46</th>\n",
       "      <td>883482846933004288</td>\n",
       "      <td>2017-07-08 00:28:19</td>\n",
       "      <td>IPhone Twitter</td>\n",
       "      <td>This is Bella. She hopes her smile made you sm...</td>\n",
       "      <td>https://twitter.com/dog_rates/status/883482846...</td>\n",
       "      <td>5</td>\n",
       "      <td>10</td>\n",
       "      <td>Bella</td>\n",
       "      <td>None</td>\n",
       "      <td>https://pbs.twimg.com/media/DELC9dZXUAADqUk.jpg</td>\n",
       "      <td>...</td>\n",
       "      <td>0.943082</td>\n",
       "      <td>True</td>\n",
       "      <td>Labrador_retriever</td>\n",
       "      <td>0.032409</td>\n",
       "      <td>True</td>\n",
       "      <td>kuvasz</td>\n",
       "      <td>0.005501</td>\n",
       "      <td>True</td>\n",
       "      <td>46860</td>\n",
       "      <td>10407</td>\n",
       "    </tr>\n",
       "    <tr>\n",
       "      <th>212</th>\n",
       "      <td>848212111729840128</td>\n",
       "      <td>2017-04-01 16:35:01</td>\n",
       "      <td>IPhone Twitter</td>\n",
       "      <td>This is Jerry. He's doing a distinguished tong...</td>\n",
       "      <td>https://twitter.com/dog_rates/status/848212111...</td>\n",
       "      <td>6</td>\n",
       "      <td>10</td>\n",
       "      <td>Jerry</td>\n",
       "      <td>None</td>\n",
       "      <td>https://pbs.twimg.com/media/C8V0aI5V0AAgO9m.jpg</td>\n",
       "      <td>...</td>\n",
       "      <td>0.333486</td>\n",
       "      <td>True</td>\n",
       "      <td>Ibizan_hound</td>\n",
       "      <td>0.245797</td>\n",
       "      <td>True</td>\n",
       "      <td>wallaby</td>\n",
       "      <td>0.131647</td>\n",
       "      <td>False</td>\n",
       "      <td>17618</td>\n",
       "      <td>3444</td>\n",
       "    </tr>\n",
       "    <tr>\n",
       "      <th>285</th>\n",
       "      <td>835152434251116546</td>\n",
       "      <td>2017-02-24 15:40:31</td>\n",
       "      <td>IPhone Twitter</td>\n",
       "      <td>When you're so blinded by your systematic plag...</td>\n",
       "      <td>https://twitter.com/dog_rates/status/835152434...</td>\n",
       "      <td>0</td>\n",
       "      <td>10</td>\n",
       "      <td>None</td>\n",
       "      <td>None</td>\n",
       "      <td>https://pbs.twimg.com/media/C5cOtWVWMAEjO5p.jpg</td>\n",
       "      <td>...</td>\n",
       "      <td>0.967066</td>\n",
       "      <td>False</td>\n",
       "      <td>American_Staffordshire_terrier</td>\n",
       "      <td>0.012731</td>\n",
       "      <td>True</td>\n",
       "      <td>Staffordshire_bullterrier</td>\n",
       "      <td>0.007039</td>\n",
       "      <td>True</td>\n",
       "      <td>24574</td>\n",
       "      <td>3443</td>\n",
       "    </tr>\n",
       "    <tr>\n",
       "      <th>738</th>\n",
       "      <td>781661882474196992</td>\n",
       "      <td>2016-09-30 01:08:10</td>\n",
       "      <td>IPhone Twitter</td>\n",
       "      <td>Who keeps sending in pictures without dogs in ...</td>\n",
       "      <td>https://twitter.com/dog_rates/status/781661882...</td>\n",
       "      <td>5</td>\n",
       "      <td>10</td>\n",
       "      <td>None</td>\n",
       "      <td>None</td>\n",
       "      <td>https://pbs.twimg.com/media/CtkFS72WcAAiUrs.jpg</td>\n",
       "      <td>...</td>\n",
       "      <td>0.438087</td>\n",
       "      <td>True</td>\n",
       "      <td>golden_retriever</td>\n",
       "      <td>0.226954</td>\n",
       "      <td>True</td>\n",
       "      <td>collie</td>\n",
       "      <td>0.070652</td>\n",
       "      <td>True</td>\n",
       "      <td>11634</td>\n",
       "      <td>3129</td>\n",
       "    </tr>\n",
       "    <tr>\n",
       "      <th>765</th>\n",
       "      <td>777885040357281792</td>\n",
       "      <td>2016-09-19 15:00:20</td>\n",
       "      <td>IPhone Twitter</td>\n",
       "      <td>This is Wesley. He's clearly trespassing. Seem...</td>\n",
       "      <td>https://twitter.com/dog_rates/status/777885040...</td>\n",
       "      <td>3</td>\n",
       "      <td>10</td>\n",
       "      <td>Wesley</td>\n",
       "      <td>None</td>\n",
       "      <td>https://pbs.twimg.com/media/CsuaUH2WAAAWJh1.jpg</td>\n",
       "      <td>...</td>\n",
       "      <td>0.123529</td>\n",
       "      <td>True</td>\n",
       "      <td>basset</td>\n",
       "      <td>0.119682</td>\n",
       "      <td>True</td>\n",
       "      <td>Siberian_husky</td>\n",
       "      <td>0.108709</td>\n",
       "      <td>True</td>\n",
       "      <td>7078</td>\n",
       "      <td>1893</td>\n",
       "    </tr>\n",
       "  </tbody>\n",
       "</table>\n",
       "<p>5 rows × 22 columns</p>\n",
       "</div>"
      ],
      "text/plain": [
       "               tweet_id           timestamp          source  \\\n",
       "46   883482846933004288 2017-07-08 00:28:19  IPhone Twitter   \n",
       "212  848212111729840128 2017-04-01 16:35:01  IPhone Twitter   \n",
       "285  835152434251116546 2017-02-24 15:40:31  IPhone Twitter   \n",
       "738  781661882474196992 2016-09-30 01:08:10  IPhone Twitter   \n",
       "765  777885040357281792 2016-09-19 15:00:20  IPhone Twitter   \n",
       "\n",
       "                                                  text  \\\n",
       "46   This is Bella. She hopes her smile made you sm...   \n",
       "212  This is Jerry. He's doing a distinguished tong...   \n",
       "285  When you're so blinded by your systematic plag...   \n",
       "738  Who keeps sending in pictures without dogs in ...   \n",
       "765  This is Wesley. He's clearly trespassing. Seem...   \n",
       "\n",
       "                                         expanded_urls  rating_numerator  \\\n",
       "46   https://twitter.com/dog_rates/status/883482846...                 5   \n",
       "212  https://twitter.com/dog_rates/status/848212111...                 6   \n",
       "285  https://twitter.com/dog_rates/status/835152434...                 0   \n",
       "738  https://twitter.com/dog_rates/status/781661882...                 5   \n",
       "765  https://twitter.com/dog_rates/status/777885040...                 3   \n",
       "\n",
       "     rating_denominator    name stage  \\\n",
       "46                   10   Bella  None   \n",
       "212                  10   Jerry  None   \n",
       "285                  10    None  None   \n",
       "738                  10    None  None   \n",
       "765                  10  Wesley  None   \n",
       "\n",
       "                                             jpg_url      ...         p1_conf  \\\n",
       "46   https://pbs.twimg.com/media/DELC9dZXUAADqUk.jpg      ...        0.943082   \n",
       "212  https://pbs.twimg.com/media/C8V0aI5V0AAgO9m.jpg      ...        0.333486   \n",
       "285  https://pbs.twimg.com/media/C5cOtWVWMAEjO5p.jpg      ...        0.967066   \n",
       "738  https://pbs.twimg.com/media/CtkFS72WcAAiUrs.jpg      ...        0.438087   \n",
       "765  https://pbs.twimg.com/media/CsuaUH2WAAAWJh1.jpg      ...        0.123529   \n",
       "\n",
       "    p1_dog                              p2   p2_conf p2_dog  \\\n",
       "46    True              Labrador_retriever  0.032409   True   \n",
       "212   True                    Ibizan_hound  0.245797   True   \n",
       "285  False  American_Staffordshire_terrier  0.012731   True   \n",
       "738   True                golden_retriever  0.226954   True   \n",
       "765   True                          basset  0.119682   True   \n",
       "\n",
       "                            p3   p3_conf p3_dog  favorite_count  retweet_count  \n",
       "46                      kuvasz  0.005501   True           46860          10407  \n",
       "212                    wallaby  0.131647  False           17618           3444  \n",
       "285  Staffordshire_bullterrier  0.007039   True           24574           3443  \n",
       "738                     collie  0.070652   True           11634           3129  \n",
       "765             Siberian_husky  0.108709   True            7078           1893  \n",
       "\n",
       "[5 rows x 22 columns]"
      ]
     },
     "execution_count": 50,
     "metadata": {},
     "output_type": "execute_result"
    }
   ],
   "source": [
    "# Rating less than 10\n",
    "df_archive_tweet_clean[(df_archive_tweet_clean.rating_numerator < 10)].head()"
   ]
  },
  {
   "cell_type": "code",
   "execution_count": 51,
   "metadata": {},
   "outputs": [
    {
     "data": {
      "text/plain": [
       "10     2173\n",
       "50        3\n",
       "11        2\n",
       "80        2\n",
       "7         1\n",
       "170       1\n",
       "150       1\n",
       "120       1\n",
       "110       1\n",
       "90        1\n",
       "70        1\n",
       "40        1\n",
       "20        1\n",
       "2         1\n",
       "Name: rating_denominator, dtype: int64"
      ]
     },
     "execution_count": 51,
     "metadata": {},
     "output_type": "execute_result"
    }
   ],
   "source": [
    "df_archive_tweet_clean.rating_denominator.value_counts()"
   ]
  },
  {
   "cell_type": "code",
   "execution_count": 52,
   "metadata": {},
   "outputs": [
    {
     "data": {
      "text/plain": [
       "None              1877\n",
       "pupper             209\n",
       "doggo               63\n",
       "puppo               23\n",
       "doggo, pupper        8\n",
       "floofer              8\n",
       "doggo, puppo         1\n",
       "doggo, floofer       1\n",
       "Name: stage, dtype: int64"
      ]
     },
     "execution_count": 52,
     "metadata": {},
     "output_type": "execute_result"
    }
   ],
   "source": [
    "df_archive_tweet_clean.stage.value_counts()"
   ]
  },
  {
   "cell_type": "code",
   "execution_count": 53,
   "metadata": {},
   "outputs": [
    {
     "data": {
      "text/plain": [
       "1358    https://pbs.twimg.com/media/Ccl0-HVVAAAf8aK.jpg\n",
       "Name: jpg_url, dtype: object"
      ]
     },
     "execution_count": 53,
     "metadata": {},
     "output_type": "execute_result"
    }
   ],
   "source": [
    "df_archive_tweet_clean[df_archive_tweet_clean.p1=='Egyptian_cat'].jpg_url"
   ]
  },
  {
   "cell_type": "markdown",
   "metadata": {},
   "source": [
    "#### Issues in Quality \n",
    "\n",
    "\n",
    "- The are tweets with less than 10 rating with no dog in the picture and one with no picture.\n",
    "\n",
    "\n",
    "- there are alot of None in the stage in DataFram, there stages that have two values\n",
    "\n",
    "### Data Cleaning\n",
    "\n",
    "#### Define\n",
    "\n",
    "Using the ratings in the tweets which less then 10, and the frist two predictions as false, then the tweet most likely do not contain a dog.\n",
    "\n",
    "\n",
    "\n",
    "#### Code"
   ]
  },
  {
   "cell_type": "code",
   "execution_count": 54,
   "metadata": {},
   "outputs": [],
   "source": [
    "df_not_dogs = df_archive_tweet_clean[(df_archive_tweet_clean.p1_dog == False) & \n",
    "                                           (df_archive_tweet_clean.p2_dog == False) &\n",
    "                                           (df_archive_tweet_clean.rating_numerator < 10)]\n",
    "df_not_dog = []\n",
    "\n",
    "for ids, tweet in df_not_dogs.iterrows():\n",
    "    \n",
    "    # the tweet ratings is less then 10, then that most likely do not contain a dog.\n",
    "    if tweet.rating_numerator <= 10:\n",
    "        if 'still pet' in tweet.text :\n",
    "            df_not_dog.append(ids)\n",
    "            \n",
    "        if 'Exotic' in tweet.text :\n",
    "            df_not_dog.append(ids)\n",
    "            \n",
    "        if tweet.p1 == 'porcupine': \n",
    "            df_not_dog.append(ids)\n",
    "            \n",
    "        if tweet.p1 == 'llama':\n",
    "            df_not_dog.append(ids) \n",
    "            \n",
    "        if tweet.p1 == 'hog':\n",
    "            df_not_dog.append(ids)\n",
    "            \n",
    "        if tweet.p1 == 'goose':\n",
    "            df_not_dog.append(ids)\n",
    "            \n",
    "        if tweet.p1 == 'guinea_pig':\n",
    "            df_not_dog.append(ids)\n",
    "            \n",
    "        if tweet.p1 == 'hamster':\n",
    "            df_not_dog.append(ids)\n",
    "            \n",
    "        if tweet.p1 == 'snail':\n",
    "            df_not_dog.append(ids)\n",
    "            \n",
    "        if tweet.p1 == 'box_turtle':\n",
    "            df_not_dog.append(ids)\n",
    "            \n",
    "        else:\n",
    "            df_not_dog.append(ids)"
   ]
  },
  {
   "cell_type": "code",
   "execution_count": 55,
   "metadata": {},
   "outputs": [],
   "source": [
    "df_archive_tweet_clean = df_archive_tweet_clean.drop(labels = df_not_dog, axis = 0)   "
   ]
  },
  {
   "cell_type": "markdown",
   "metadata": {},
   "source": [
    "##### Test"
   ]
  },
  {
   "cell_type": "code",
   "execution_count": 56,
   "metadata": {},
   "outputs": [
    {
     "data": {
      "text/plain": [
       "1457    https://pbs.twimg.com/media/Cas5h-wWcAA3nAc.jpg\n",
       "1730    https://pbs.twimg.com/media/CWuTbAKUsAAvZHh.jpg\n",
       "1783    https://pbs.twimg.com/media/CWSEsO9WwAAX-fZ.jpg\n",
       "2297    https://pbs.twimg.com/media/CT51-JJUEAA6hV8.jpg\n",
       "1681    https://pbs.twimg.com/media/CXMvio7WQAAPZJj.jpg\n",
       "Name: jpg_url, dtype: object"
      ]
     },
     "execution_count": 56,
     "metadata": {},
     "output_type": "execute_result"
    }
   ],
   "source": [
    "df_archive_tweet_clean[df_archive_tweet_clean.rating_numerator < 10].sample(5).jpg_url"
   ]
  },
  {
   "cell_type": "code",
   "execution_count": 57,
   "metadata": {},
   "outputs": [
    {
     "name": "stdout",
     "output_type": "stream",
     "text": [
      "<class 'pandas.core.frame.DataFrame'>\n",
      "Int64Index: 2035 entries, 0 to 2312\n",
      "Data columns (total 22 columns):\n",
      "tweet_id              2035 non-null object\n",
      "timestamp             2035 non-null datetime64[ns]\n",
      "source                2035 non-null object\n",
      "text                  2035 non-null object\n",
      "expanded_urls         2035 non-null object\n",
      "rating_numerator      2035 non-null int64\n",
      "rating_denominator    2035 non-null int64\n",
      "name                  2035 non-null object\n",
      "stage                 2035 non-null object\n",
      "jpg_url               2035 non-null object\n",
      "img_num               2035 non-null int64\n",
      "p1                    2035 non-null object\n",
      "p1_conf               2035 non-null float64\n",
      "p1_dog                2035 non-null bool\n",
      "p2                    2035 non-null object\n",
      "p2_conf               2035 non-null float64\n",
      "p2_dog                2035 non-null bool\n",
      "p3                    2035 non-null object\n",
      "p3_conf               2035 non-null float64\n",
      "p3_dog                2035 non-null bool\n",
      "favorite_count        2035 non-null int64\n",
      "retweet_count         2035 non-null int64\n",
      "dtypes: bool(3), datetime64[ns](1), float64(3), int64(5), object(10)\n",
      "memory usage: 323.9+ KB\n"
     ]
    }
   ],
   "source": [
    "df_archive_tweet_clean.info()"
   ]
  },
  {
   "cell_type": "markdown",
   "metadata": {},
   "source": [
    "#### Define\n",
    "\n",
    "Using the ratings in the tweets which less then 10, and the frist two predictions as false, then the tweet most likely do not contain a dog.\n",
    "\n",
    "\n",
    "\n",
    "#### Code"
   ]
  },
  {
   "cell_type": "code",
   "execution_count": 58,
   "metadata": {},
   "outputs": [],
   "source": [
    "for ids, tweet in df_archive_tweet_clean[df_archive_tweet_clean.stage =='None'].iterrows():\n",
    "    dog_stage = []\n",
    "  \n",
    "    if 'floofer' in tweet.text:\n",
    "        dog_stage.append('floofer')\n",
    "        \n",
    "    if 'pupper' in tweet.text:\n",
    "        dog_stage.append('pupper')\n",
    "        \n",
    "    if 'puppo' in tweet.text:\n",
    "        dog_stage.append('puppo')\n",
    "        \n",
    "    if 'doggo' in tweet.text:\n",
    "        dog_stage.append('doggo')"
   ]
  },
  {
   "cell_type": "code",
   "execution_count": 59,
   "metadata": {},
   "outputs": [
    {
     "data": {
      "text/plain": [
       "array(['None', 'doggo', 'puppo', 'pupper', 'floofer', 'doggo, puppo',\n",
       "       'doggo, floofer', 'doggo, pupper'], dtype=object)"
      ]
     },
     "execution_count": 59,
     "metadata": {},
     "output_type": "execute_result"
    }
   ],
   "source": [
    "df_archive_tweet_clean.stage.unique()"
   ]
  },
  {
   "cell_type": "code",
   "execution_count": 60,
   "metadata": {},
   "outputs": [],
   "source": [
    "df_archive_tweet_clean.stage = df_archive_tweet_clean.stage.apply(lambda x:x.replace('doggo, puppo','doggo'))\n",
    "df_archive_tweet_clean.stage = df_archive_tweet_clean.stage.apply(lambda x:x.replace('doggo, floofer','doggo'))\n",
    "df_archive_tweet_clean.stage = df_archive_tweet_clean.stage.apply(lambda x:x.replace('doggo, pupper','doggo'))"
   ]
  },
  {
   "cell_type": "markdown",
   "metadata": {},
   "source": [
    "#### test"
   ]
  },
  {
   "cell_type": "code",
   "execution_count": 61,
   "metadata": {},
   "outputs": [
    {
     "data": {
      "text/plain": [
       "None       1739\n",
       "pupper      193\n",
       "doggo        72\n",
       "puppo        23\n",
       "floofer       8\n",
       "Name: stage, dtype: int64"
      ]
     },
     "execution_count": 61,
     "metadata": {},
     "output_type": "execute_result"
    }
   ],
   "source": [
    "df_archive_tweet_clean.stage.value_counts()"
   ]
  },
  {
   "cell_type": "code",
   "execution_count": 62,
   "metadata": {},
   "outputs": [
    {
     "data": {
      "text/plain": [
       "0"
      ]
     },
     "execution_count": 62,
     "metadata": {},
     "output_type": "execute_result"
    }
   ],
   "source": [
    "from subprocess import call\n",
    "call(['python', '-m', 'nbconvert', 'wrangle_act.ipynb'])"
   ]
  },
  {
   "cell_type": "markdown",
   "metadata": {},
   "source": [
    "### storing the data"
   ]
  },
  {
   "cell_type": "code",
   "execution_count": 63,
   "metadata": {},
   "outputs": [],
   "source": [
    "df_archive_tweet_clean.to_csv('twitter_archive_master.csv', index = False)"
   ]
  },
  {
   "cell_type": "markdown",
   "metadata": {},
   "source": [
    "<a id='analyz'></a>\n",
    "### Analyzing and Visualizing\n"
   ]
  },
  {
   "cell_type": "code",
   "execution_count": 64,
   "metadata": {},
   "outputs": [],
   "source": [
    "# creating this DataFrame in \n",
    "tweets = df_archive_tweet_clean"
   ]
  },
  {
   "cell_type": "code",
   "execution_count": 65,
   "metadata": {},
   "outputs": [
    {
     "data": {
      "text/html": [
       "<div>\n",
       "<style scoped>\n",
       "    .dataframe tbody tr th:only-of-type {\n",
       "        vertical-align: middle;\n",
       "    }\n",
       "\n",
       "    .dataframe tbody tr th {\n",
       "        vertical-align: top;\n",
       "    }\n",
       "\n",
       "    .dataframe thead th {\n",
       "        text-align: right;\n",
       "    }\n",
       "</style>\n",
       "<table border=\"1\" class=\"dataframe\">\n",
       "  <thead>\n",
       "    <tr style=\"text-align: right;\">\n",
       "      <th></th>\n",
       "      <th>rating_numerator</th>\n",
       "      <th>rating_denominator</th>\n",
       "      <th>img_num</th>\n",
       "      <th>p1_conf</th>\n",
       "      <th>p2_conf</th>\n",
       "      <th>p3_conf</th>\n",
       "      <th>favorite_count</th>\n",
       "      <th>retweet_count</th>\n",
       "    </tr>\n",
       "  </thead>\n",
       "  <tbody>\n",
       "    <tr>\n",
       "      <th>count</th>\n",
       "      <td>2035.000000</td>\n",
       "      <td>2035.000000</td>\n",
       "      <td>2035.000000</td>\n",
       "      <td>2035.000000</td>\n",
       "      <td>2.035000e+03</td>\n",
       "      <td>2.035000e+03</td>\n",
       "      <td>2035.000000</td>\n",
       "      <td>2035.000000</td>\n",
       "    </tr>\n",
       "    <tr>\n",
       "      <th>mean</th>\n",
       "      <td>12.630467</td>\n",
       "      <td>10.462408</td>\n",
       "      <td>1.221622</td>\n",
       "      <td>0.599861</td>\n",
       "      <td>1.367984e-01</td>\n",
       "      <td>6.048507e-02</td>\n",
       "      <td>10492.122359</td>\n",
       "      <td>3353.376413</td>\n",
       "    </tr>\n",
       "    <tr>\n",
       "      <th>std</th>\n",
       "      <td>40.937647</td>\n",
       "      <td>6.745109</td>\n",
       "      <td>0.582880</td>\n",
       "      <td>0.269396</td>\n",
       "      <td>1.031053e-01</td>\n",
       "      <td>5.177046e-02</td>\n",
       "      <td>14119.207086</td>\n",
       "      <td>6194.603529</td>\n",
       "    </tr>\n",
       "    <tr>\n",
       "      <th>min</th>\n",
       "      <td>0.000000</td>\n",
       "      <td>2.000000</td>\n",
       "      <td>1.000000</td>\n",
       "      <td>0.044333</td>\n",
       "      <td>1.011300e-08</td>\n",
       "      <td>1.740170e-10</td>\n",
       "      <td>81.000000</td>\n",
       "      <td>16.000000</td>\n",
       "    </tr>\n",
       "    <tr>\n",
       "      <th>25%</th>\n",
       "      <td>10.000000</td>\n",
       "      <td>10.000000</td>\n",
       "      <td>1.000000</td>\n",
       "      <td>0.369841</td>\n",
       "      <td>5.295590e-02</td>\n",
       "      <td>1.605405e-02</td>\n",
       "      <td>2439.000000</td>\n",
       "      <td>727.500000</td>\n",
       "    </tr>\n",
       "    <tr>\n",
       "      <th>50%</th>\n",
       "      <td>11.000000</td>\n",
       "      <td>10.000000</td>\n",
       "      <td>1.000000</td>\n",
       "      <td>0.599454</td>\n",
       "      <td>1.192430e-01</td>\n",
       "      <td>4.891980e-02</td>\n",
       "      <td>5346.000000</td>\n",
       "      <td>1708.000000</td>\n",
       "    </tr>\n",
       "    <tr>\n",
       "      <th>75%</th>\n",
       "      <td>12.000000</td>\n",
       "      <td>10.000000</td>\n",
       "      <td>1.000000</td>\n",
       "      <td>0.847139</td>\n",
       "      <td>1.993415e-01</td>\n",
       "      <td>9.392850e-02</td>\n",
       "      <td>13372.000000</td>\n",
       "      <td>3652.000000</td>\n",
       "    </tr>\n",
       "    <tr>\n",
       "      <th>max</th>\n",
       "      <td>1776.000000</td>\n",
       "      <td>170.000000</td>\n",
       "      <td>4.000000</td>\n",
       "      <td>1.000000</td>\n",
       "      <td>4.676780e-01</td>\n",
       "      <td>2.734190e-01</td>\n",
       "      <td>132810.000000</td>\n",
       "      <td>79515.000000</td>\n",
       "    </tr>\n",
       "  </tbody>\n",
       "</table>\n",
       "</div>"
      ],
      "text/plain": [
       "       rating_numerator  rating_denominator      img_num      p1_conf  \\\n",
       "count       2035.000000         2035.000000  2035.000000  2035.000000   \n",
       "mean          12.630467           10.462408     1.221622     0.599861   \n",
       "std           40.937647            6.745109     0.582880     0.269396   \n",
       "min            0.000000            2.000000     1.000000     0.044333   \n",
       "25%           10.000000           10.000000     1.000000     0.369841   \n",
       "50%           11.000000           10.000000     1.000000     0.599454   \n",
       "75%           12.000000           10.000000     1.000000     0.847139   \n",
       "max         1776.000000          170.000000     4.000000     1.000000   \n",
       "\n",
       "            p2_conf       p3_conf  favorite_count  retweet_count  \n",
       "count  2.035000e+03  2.035000e+03     2035.000000    2035.000000  \n",
       "mean   1.367984e-01  6.048507e-02    10492.122359    3353.376413  \n",
       "std    1.031053e-01  5.177046e-02    14119.207086    6194.603529  \n",
       "min    1.011300e-08  1.740170e-10       81.000000      16.000000  \n",
       "25%    5.295590e-02  1.605405e-02     2439.000000     727.500000  \n",
       "50%    1.192430e-01  4.891980e-02     5346.000000    1708.000000  \n",
       "75%    1.993415e-01  9.392850e-02    13372.000000    3652.000000  \n",
       "max    4.676780e-01  2.734190e-01   132810.000000   79515.000000  "
      ]
     },
     "execution_count": 65,
     "metadata": {},
     "output_type": "execute_result"
    }
   ],
   "source": [
    "tweets.describe()"
   ]
  },
  {
   "cell_type": "code",
   "execution_count": 66,
   "metadata": {},
   "outputs": [
    {
     "name": "stdout",
     "output_type": "stream",
     "text": [
      "<class 'pandas.core.frame.DataFrame'>\n",
      "Int64Index: 2035 entries, 0 to 2312\n",
      "Data columns (total 22 columns):\n",
      "tweet_id              2035 non-null object\n",
      "timestamp             2035 non-null datetime64[ns]\n",
      "source                2035 non-null object\n",
      "text                  2035 non-null object\n",
      "expanded_urls         2035 non-null object\n",
      "rating_numerator      2035 non-null int64\n",
      "rating_denominator    2035 non-null int64\n",
      "name                  2035 non-null object\n",
      "stage                 2035 non-null object\n",
      "jpg_url               2035 non-null object\n",
      "img_num               2035 non-null int64\n",
      "p1                    2035 non-null object\n",
      "p1_conf               2035 non-null float64\n",
      "p1_dog                2035 non-null bool\n",
      "p2                    2035 non-null object\n",
      "p2_conf               2035 non-null float64\n",
      "p2_dog                2035 non-null bool\n",
      "p3                    2035 non-null object\n",
      "p3_conf               2035 non-null float64\n",
      "p3_dog                2035 non-null bool\n",
      "favorite_count        2035 non-null int64\n",
      "retweet_count         2035 non-null int64\n",
      "dtypes: bool(3), datetime64[ns](1), float64(3), int64(5), object(10)\n",
      "memory usage: 323.9+ KB\n"
     ]
    }
   ],
   "source": [
    "tweets.info()"
   ]
  },
  {
   "cell_type": "markdown",
   "metadata": {},
   "source": [
    "The favorite_count, retweet_count have standard deviation greater than the mean and the mean is greater than median, which means it's skewed.\n",
    "\n",
    "The average of retweet 2922.58 on a posts.\n",
    "\n",
    "The average of favorite 9465.23 on a posts.\n",
    "\n",
    "The average of the rating is 12.7 of all dogs. \n",
    "\n",
    "Most retweeted count is 79515 retweet on a post.\n",
    "\n",
    "Most favorite count is 132810 like on a post."
   ]
  },
  {
   "cell_type": "code",
   "execution_count": 67,
   "metadata": {},
   "outputs": [
    {
     "data": {
      "image/png": "[encoded data removed]",
      "text/plain": [
       "<matplotlib.figure.Figure at 0x7f76a6275fd0>"
      ]
     },
     "metadata": {},
     "output_type": "display_data"
    },
    {
     "data": {
      "image/png": "[encoded data removed]",
      "text/plain": [
       "<matplotlib.figure.Figure at 0x7f76a6295198>"
      ]
     },
     "metadata": {
      "needs_background": "light"
     },
     "output_type": "display_data"
    }
   ],
   "source": [
    "pielabels = ['Pupper','Doggo', 'Puppo', 'Floofer']\n",
    "piecolors = ['LightGrey', 'PowderBlue','Gainsboro','Thistle']\n",
    "explode   = (0.0, 0.03, 0.03, 0.03)\n",
    "plt.pie(tweets[tweets.stage != \"None\"].stage.value_counts(), labels=pielabels, autopct='%1.1f%%', explode=explode, colors=piecolors)\n",
    "plt.title('The Percentage of Dog Stages.', fontsize=20)\n",
    "fig = plt.gcf()\n",
    "fig.set_size_inches(11,11);\n",
    "plt.legend();\n",
    "\n",
    "locations = [1, 2, 3, 4]\n",
    "heights = [tweets[tweets.stage == \"pupper\"].stage.count(),tweets[tweets.stage == \"doggo\"].stage.count(),tweets[tweets.stage == \"puppo\"].stage.count(),tweets[tweets.stage == \"floofer\"].stage.count()]\n",
    "\n",
    "plt.figure(figsize=(11,8.5))\n",
    "plt.bar(locations, heights, tick_label=pielabels, color=piecolors)\n",
    "plt.title('The Distribution of Dog Stages',fontsize=20)\n",
    "plt.xlabel('Stages Names');\n",
    "plt.ylabel('The Count of Stage');"
   ]
  },
  {
   "cell_type": "markdown",
   "metadata": {},
   "source": [
    "There a major amount of  as 82.7% of the dataframe as None. but after agnoring the None in the dog stages.\n",
    "\n",
    "\n",
    "The above plots shows the Dog Stages in tweest, shows the 65.2%  are Pupper is the most rated and popular stage, and that 24.3% of the tweets dog are in the stage Doggo, and that 7.8% of the tweets dog are in the stage Puppo, and that 2.7% of the tweets dog are in the stage Floofer."
   ]
  },
  {
   "cell_type": "code",
   "execution_count": 68,
   "metadata": {},
   "outputs": [
    {
     "data": {
      "image/png": "[encoded data removed]",
      "text/plain": [
       "<matplotlib.figure.Figure at 0x7f76a61f8518>"
      ]
     },
     "metadata": {},
     "output_type": "display_data"
    }
   ],
   "source": [
    "labels = ['IPhone Twitter','Web Twitter', 'TwitterDeck']\n",
    "colors = ['LightGrey','Plum','Thistle']\n",
    "\n",
    "explode = ( 0.0, 0.03, 0.03)\n",
    "plt.pie(tweets.source.value_counts(), labels=labels, autopct='%1.1f%%', explode=explode, colors=colors)\n",
    "plt.title('The Percentage of Source.', fontsize=20)\n",
    "fig = plt.gcf()\n",
    "fig.set_size_inches(11,11);\n",
    "plt.legend();\n"
   ]
  },
  {
   "cell_type": "markdown",
   "metadata": {},
   "source": [
    "The above plot shows the source of tweest in the DataFrame, shows the 98.0%  are tweet for IPhone Twitter app, and that 1.4% of the tweets are from Web Client of Twitter, and that 0.6% of the tweets are from TweetDesk."
   ]
  },
  {
   "cell_type": "code",
   "execution_count": 69,
   "metadata": {},
   "outputs": [
    {
     "data": {
      "image/png": "[encoded data removed]",
      "text/plain": [
       "<matplotlib.figure.Figure at 0x7f76a639e668>"
      ]
     },
     "metadata": {},
     "output_type": "display_data"
    }
   ],
   "source": [
    "color=['darkseagreen', 'lightgray','darkgray','lightslategray','lightsteelblue','darkturquoise']\n",
    "labels=['Golden Retriever','Labrador Retriever','Pembroke','Chihuahua','pug']\n",
    "explode = (0.1,0.01,0.01,0.01,0.01)\n",
    "\n",
    "plt.pie(tweets[tweets.p1_dog].p1.value_counts().head(5), labels = labels, autopct='%1.1f%%', explode=explode, colors=color)\n",
    "plt.title('The Percentage of Dog Breeds of the top 5.', fontsize=20)\n",
    "fig = plt.gcf()\n",
    "fig.set_size_inches(11,11);\n",
    "plt.legend();\n"
   ]
  },
  {
   "cell_type": "code",
   "execution_count": 70,
   "metadata": {},
   "outputs": [
    {
     "data": {
      "text/plain": [
       "golden_retriever      176\n",
       "Labrador_retriever    109\n",
       "Pembroke               94\n",
       "Chihuahua              81\n",
       "pug                    54\n",
       "Name: p1, dtype: int64"
      ]
     },
     "execution_count": 70,
     "metadata": {},
     "output_type": "execute_result"
    }
   ],
   "source": [
    "tweets[tweets.p1_dog].p1.value_counts().head(5)"
   ]
  },
  {
   "cell_type": "code",
   "execution_count": 71,
   "metadata": {},
   "outputs": [
    {
     "data": {
      "image/png": "[encoded data removed]",
      "text/plain": [
       "<matplotlib.figure.Figure at 0x7f76a6227518>"
      ]
     },
     "metadata": {
      "needs_background": "light"
     },
     "output_type": "display_data"
    }
   ],
   "source": [
    "tweets.plot.scatter(x = 'favorite_count', y ='retweet_count' , alpha = 0.6, color ='Violet',figsize=(11,8.5))\n",
    "plt.xlabel('Favorites')\n",
    "plt.ylabel('Retweets')\n",
    "plt.title('Scatter plot of Retweets and favorites',fontsize = 20)\n",
    "plt.show()\n"
   ]
  },
  {
   "cell_type": "markdown",
   "metadata": {},
   "source": [
    "The above map shows the strong correlation between the Favorites and Retweets"
   ]
  },
  {
   "cell_type": "code",
   "execution_count": 72,
   "metadata": {},
   "outputs": [
    {
     "data": {
      "image/png": "[encoded data removed]",
      "text/plain": [
       "<matplotlib.figure.Figure at 0x7f76a6007390>"
      ]
     },
     "metadata": {
      "needs_background": "light"
     },
     "output_type": "display_data"
    }
   ],
   "source": [
    "plt.figure(figsize = (11, 8.5))\n",
    "plt.hist(tweets.rating_numerator, bins = 1900, color='SkyBlue')\n",
    "plt.title('Distribution of Rating', fontsize = 20)\n",
    "plt.xlabel('Rating')\n",
    "plt.ylabel('Rating Counts ')\n",
    "plt.xlim(0,20)\n",
    "plt.show()"
   ]
  },
  {
   "cell_type": "markdown",
   "metadata": {},
   "source": [
    "The above histogram show the most used rating are from the 9 to 14"
   ]
  },
  {
   "cell_type": "code",
   "execution_count": 73,
   "metadata": {},
   "outputs": [
    {
     "data": {
      "image/png": "[encoded data removed]",
      "text/plain": [
       "<matplotlib.figure.Figure at 0x7f76a5f6d668>"
      ]
     },
     "metadata": {
      "needs_background": "light"
     },
     "output_type": "display_data"
    }
   ],
   "source": [
    "plt.figure(1, figsize = (11, 8.5))\n",
    "log = tweets[['favorite_count', 'retweet_count']].applymap(lambda tweet: np.log10(tweet))\n",
    "plt.hist(log.favorite_count, bins = 200, color = 'DodgerBlue', alpha = 0.5, label ='Favorite')\n",
    "plt.hist(log.retweet_count, bins = 200, color = 'LightCoral', alpha = 0.5, label ='Retweet')\n",
    "plt.legend()\n",
    "plt.title('The Log of Favorite and Retweet ', fontsize = 20 )\n",
    "plt.show()"
   ]
  },
  {
   "cell_type": "markdown",
   "metadata": {},
   "source": [
    "The above symbolize the log transformation of Retweet and Favorite look bimodal. "
   ]
  },
  {
   "cell_type": "code",
   "execution_count": 74,
   "metadata": {},
   "outputs": [
    {
     "data": {
      "image/png": "[encoded data removed]",
      "text/plain": [
       "<matplotlib.figure.Figure at 0x7f76a5fe3860>"
      ]
     },
     "metadata": {
      "needs_background": "light"
     },
     "output_type": "display_data"
    }
   ],
   "source": [
    "log.plot.scatter(x='retweet_count', y='favorite_count', alpha = 0.5, color ='PaleVioletRed',figsize=(11, 8.5))\n",
    "plt.title('the Log of the Retweet Count vs Favorite Count', fontsize = 20 )\n",
    "plt.xlabel('Log of Retweet Count')\n",
    "plt.ylabel('Log of Favorite Count')\n",
    "plt.show()"
   ]
  },
  {
   "cell_type": "markdown",
   "metadata": {},
   "source": [
    "The above scatter plot shows the strong direct correlation between the Favorites and Retweets."
   ]
  },
  {
   "cell_type": "code",
   "execution_count": 75,
   "metadata": {},
   "outputs": [
    {
     "data": {
      "image/png": "[encoded data removed]",
      "text/plain": [
       "<matplotlib.figure.Figure at 0x7f76a2b2fcf8>"
      ]
     },
     "metadata": {
      "needs_background": "light"
     },
     "output_type": "display_data"
    }
   ],
   "source": [
    "plt.figure(1, figsize = (11, 8.5))\n",
    "plt.hist(tweets.p1_conf, bins = 100,alpha = 0.5, color='LightSlateGrey', label ='prediction1')\n",
    "plt.hist(tweets.p2_conf, bins = 100,alpha = 0.5, color='Teal', label ='prediction2')\n",
    "plt.legend()\n",
    "plt.title('The percentage of prediction 1 and prediction 2', fontsize = 20)\n",
    "plt.xlabel('the prediction percentage')\n",
    "plt.show()"
   ]
  },
  {
   "cell_type": "code",
   "execution_count": 76,
   "metadata": {},
   "outputs": [
    {
     "data": {
      "image/png": "[encoded data removed]",
      "text/plain": [
       "<matplotlib.figure.Figure at 0x7f76a1306b00>"
      ]
     },
     "metadata": {
      "needs_background": "light"
     },
     "output_type": "display_data"
    }
   ],
   "source": [
    "plt.figure(1, figsize = (11, 8.5))\n",
    "plt.hist(tweets.p3_conf, bins = 100,alpha = 0.5, color='Orchid', label ='prediction3')\n",
    "plt.legend()\n",
    "plt.title('The percentage of prediction 3', fontsize = 20)\n",
    "plt.xlabel('the prediction percentage')\n",
    "plt.show()"
   ]
  },
  {
   "cell_type": "markdown",
   "metadata": {},
   "source": [
    "The histogram above show all the predictions, but prediction 3 it's in separate histogram because  a very small, The prediction 1 is closer to 1.0, but prediction 2 is closer 0.0, and most likely prediction1 and prediction2 specially the highest once are for the same tweets."
   ]
  },
  {
   "cell_type": "code",
   "execution_count": 77,
   "metadata": {},
   "outputs": [
    {
     "data": {
      "image/png": "[encoded data removed]",
      "text/plain": [
       "<matplotlib.figure.Figure at 0x7f76a106fcc0>"
      ]
     },
     "metadata": {
      "needs_background": "light"
     },
     "output_type": "display_data"
    },
    {
     "data": {
      "image/png": "[encoded data removed]",
      "text/plain": [
       "<matplotlib.figure.Figure at 0x7f76a10bdc50>"
      ]
     },
     "metadata": {
      "needs_background": "light"
     },
     "output_type": "display_data"
    }
   ],
   "source": [
    "plt.figure(1, figsize = (11, 8.5))\n",
    "plt.hist(tweets.favorite_count, bins = 200, color='MediumTurquoise')\n",
    "plt.title('Distribution of Favorite', fontsize = 20 )\n",
    "plt.xlabel('Favorite Counts')\n",
    "plt.ylabel('Frequency')\n",
    "plt.show()\n",
    "plt.figure(1, figsize = (11, 8.5))\n",
    "plt.hist(tweets.favorite_count, bins = 200, color='MediumAquaMarine')\n",
    "plt.title('Distribution of Retweet', fontsize = 20 )\n",
    "plt.xlabel('Retweet Counts')\n",
    "plt.ylabel('Frequency')\n",
    "plt.show()"
   ]
  },
  {
   "cell_type": "markdown",
   "metadata": {},
   "source": [
    "the histogram above summarizes the similarities between the rewteet_count, and favorite_count, and most likely the tweeter the account become verified and viral on twitter. and mostly this meaning Retweet and Favorite become higher."
   ]
  },
  {
   "cell_type": "code",
   "execution_count": 78,
   "metadata": {},
   "outputs": [
    {
     "data": {
      "image/png": "[encoded data removed]",
      "text/plain": [
       "<matplotlib.figure.Figure at 0x7f76a305bc18>"
      ]
     },
     "metadata": {
      "needs_background": "light"
     },
     "output_type": "display_data"
    }
   ],
   "source": [
    "plt.figure(1, figsize = (11, 8.5))\n",
    "plt.plot(log.retweet_count, tweets.rating_numerator, alpha = 0.8, marker ='o', linestyle='', ms= 2, color ='SeaGreen')\n",
    "plt.title('the Numerator Rating vs Log of Favorite', fontsize = 20)\n",
    "plt.xlabel('Log of Favorite')\n",
    "plt.ylabel('Rating')\n",
    "plt.ylim(0,17)\n",
    "plt.show()"
   ]
  },
  {
   "cell_type": "code",
   "execution_count": 79,
   "metadata": {},
   "outputs": [
    {
     "data": {
      "image/png": "[encoded data removed]",
      "text/plain": [
       "<matplotlib.figure.Figure at 0x7f76a305e5c0>"
      ]
     },
     "metadata": {
      "needs_background": "light"
     },
     "output_type": "display_data"
    }
   ],
   "source": [
    "plt.figure(1, figsize = (11, 8.5))\n",
    "plt.plot(tweets.timestamp ,log.retweet_count, marker = 'o', linestyle = '', ms = 2,color ='Turquoise')\n",
    "plt.plot(tweets.timestamp ,log.favorite_count, marker = 'o', alpha = 0.4,linestyle = '',ms = 2,color ='MediumVioletRed')\n",
    "plt.title('Retweet and Favorite Over Time', fontsize = 20)\n",
    "plt.xlabel('Year - Months')\n",
    "plt.ylabel('The Log of Favorite and Retweet')\n",
    "plt.show()"
   ]
  },
  {
   "cell_type": "markdown",
   "metadata": {},
   "source": [
    "From the above scatter plot you can see how the twitter account got huge amount of retweet and likes then in small amount of time, then slowly got highr amount of retweet and likes     "
   ]
  }
 ],
 "metadata": {
  "kernelspec": {
   "display_name": "Python 3",
   "language": "python",
   "name": "python3"
  },
  "language_info": {
   "codemirror_mode": {
    "name": "ipython",
    "version": 3
   },
   "file_extension": ".py",
   "mimetype": "text/x-python",
   "name": "python",
   "nbconvert_exporter": "python",
   "pygments_lexer": "ipython3",
   "version": "3.6.3"
  }
 },
 "nbformat": 4,
 "nbformat_minor": 2
}
